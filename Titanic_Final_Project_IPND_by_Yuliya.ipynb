{
 "cells": [
  {
   "cell_type": "markdown",
   "metadata": {},
   "source": [
    "### I  have chosen the Titanic data set.\n",
    "\n",
    "### Some questions to answer:\n",
    "\n",
    "- Who were the passengers on Titanic:\n",
    "    - where did they embarked\n",
    "    - their demography (age, sex, class)\n",
    "    - were they with family aboard or not\n",
    "    \n",
    "- How many have survived and what factors helped them to survive (sex, ages, class, etc.)"
   ]
  },
  {
   "cell_type": "markdown",
   "metadata": {},
   "source": [
    "###############################################################\n",
    "####  INTRODUCTION: The story behind the numbers\n",
    "\n",
    "\n",
    "To make a better analisys it is important to know the story behind the data. It may help to rise right questions and to make better conclusions.\n",
    "\n",
    "So, everybody is aware about Titanic's story, but in general, people don't know a lot of details concerning it. That is why the article from Wikipedia is useful to give some light.\n",
    "\n",
    "Source: https://en.wikipedia.org/wiki/RMS_Titanic\n",
    "\n",
    "RMS Titanic was a British passenger liner that sank in the North Atlantic Ocean on 15 April 1912, after it collided with an iceberg during its maiden voyage from Southampton to New York City. \n",
    "\n",
    "The exact number of people aboard is not known, as not all of those who had booked tickets made it to the ship. Titanic's passengers numbered approximately 1,317 people and around 885 crew members on board. The ship was considerably under capacity on her maiden voyage, as she could accommodate 2,453 passengers. \n",
    "\n",
    "After leaving Southampton on 10 April 1912, Titanic called at Cherbourg in France and Queenstown (now Cobh) in Ireland before heading west to New York. On 14 April, four days into the crossing, she hit an iceberg at 11:40 p.m. ship's time. Some  passengers and some crew members were evacuated in lifeboats, many of which were launched only partially loaded. A disproportionate number of men were left aboard because of a \"women and children first\" protocol for loading lifeboats. At 2:20 a.m., she broke apart and foundered with well over one thousand people still aboard. "
   ]
  },
  {
   "cell_type": "code",
   "execution_count": 108,
   "metadata": {},
   "outputs": [
    {
     "data": {
      "text/html": [
       "<img src=\"https://upload.wikimedia.org/wikipedia/commons/4/48/Sinking_of_the_RMS_Titanic_animation.gif\"/>"
      ],
      "text/plain": [
       "<IPython.core.display.Image object>"
      ]
     },
     "execution_count": 108,
     "metadata": {},
     "output_type": "execute_result"
    }
   ],
   "source": [
    "# The figure shows the timing of Titanic sinking\n",
    "from IPython.display import Image\n",
    "Image(url='https://upload.wikimedia.org/wikipedia/commons/4/48/Sinking_of_the_RMS_Titanic_animation.gif')"
   ]
  },
  {
   "cell_type": "code",
   "execution_count": 109,
   "metadata": {
    "collapsed": true
   },
   "outputs": [],
   "source": [
    "import pandas as pd\n",
    "import numpy as np\n",
    "import matplotlib.pyplot as plt\n",
    "import seaborn as sns\n",
    "import random\n",
    "%matplotlib inline"
   ]
  },
  {
   "cell_type": "markdown",
   "metadata": {},
   "source": [
    "##################################################\n",
    "### Wrangling phase\n",
    "\n",
    "The data was obtained from Udacity website Intro to Programming Nanodegree for the Final Project."
   ]
  },
  {
   "cell_type": "markdown",
   "metadata": {},
   "source": [
    "### Getting familiar with the data set"
   ]
  },
  {
   "cell_type": "code",
   "execution_count": 110,
   "metadata": {
    "collapsed": true
   },
   "outputs": [],
   "source": [
    "titanic_original_dataframe = pd.read_csv(\"titanic_data.csv\") \n",
    "# Read the data from titanic_data.csv file"
   ]
  },
  {
   "cell_type": "code",
   "execution_count": 111,
   "metadata": {},
   "outputs": [
    {
     "data": {
      "text/plain": [
       "(891, 12)"
      ]
     },
     "execution_count": 111,
     "metadata": {},
     "output_type": "execute_result"
    }
   ],
   "source": [
    "titanic_original_dataframe.shape \n",
    "# Check the dimensions of the data set. There are 12 columns and 891 rows"
   ]
  },
  {
   "cell_type": "code",
   "execution_count": 112,
   "metadata": {},
   "outputs": [
    {
     "data": {
      "text/plain": [
       "PassengerId      int64\n",
       "Survived         int64\n",
       "Pclass           int64\n",
       "Name            object\n",
       "Sex             object\n",
       "Age            float64\n",
       "SibSp            int64\n",
       "Parch            int64\n",
       "Ticket          object\n",
       "Fare           float64\n",
       "Cabin           object\n",
       "Embarked        object\n",
       "dtype: object"
      ]
     },
     "execution_count": 112,
     "metadata": {},
     "output_type": "execute_result"
    }
   ],
   "source": [
    "titanic_original_dataframe.dtypes \n",
    "# Check the variables data types"
   ]
  },
  {
   "cell_type": "code",
   "execution_count": 113,
   "metadata": {
    "scrolled": true
   },
   "outputs": [
    {
     "name": "stdout",
     "output_type": "stream",
     "text": [
      "       PassengerId    Survived      Pclass         Age       SibSp  \\\n",
      "count   891.000000  891.000000  891.000000  714.000000  891.000000   \n",
      "mean    446.000000    0.383838    2.308642   29.699118    0.523008   \n",
      "std     257.353842    0.486592    0.836071   14.526497    1.102743   \n",
      "min       1.000000    0.000000    1.000000    0.420000    0.000000   \n",
      "25%     223.500000    0.000000    2.000000   20.125000    0.000000   \n",
      "50%     446.000000    0.000000    3.000000   28.000000    0.000000   \n",
      "75%     668.500000    1.000000    3.000000   38.000000    1.000000   \n",
      "max     891.000000    1.000000    3.000000   80.000000    8.000000   \n",
      "\n",
      "            Parch        Fare  \n",
      "count  891.000000  891.000000  \n",
      "mean     0.381594   32.204208  \n",
      "std      0.806057   49.693429  \n",
      "min      0.000000    0.000000  \n",
      "25%      0.000000    7.910400  \n",
      "50%      0.000000   14.454200  \n",
      "75%      0.000000   31.000000  \n",
      "max      6.000000  512.329200  \n"
     ]
    }
   ],
   "source": [
    "print(titanic_original_dataframe.describe()) \n",
    "# Gets statistical summary of the numerical variables"
   ]
  },
  {
   "cell_type": "markdown",
   "metadata": {},
   "source": [
    "Since, describe gives only numerical data analysis, \n",
    "let's check if some data is missing in object type data"
   ]
  },
  {
   "cell_type": "code",
   "execution_count": 114,
   "metadata": {},
   "outputs": [
    {
     "data": {
      "text/plain": [
       "0"
      ]
     },
     "execution_count": 114,
     "metadata": {},
     "output_type": "execute_result"
    }
   ],
   "source": [
    "titanic_original_dataframe[\"Name\"].isnull().sum() \n",
    "# Cheks for the number of the missing values in the column \"Name\""
   ]
  },
  {
   "cell_type": "code",
   "execution_count": 115,
   "metadata": {},
   "outputs": [
    {
     "data": {
      "text/plain": [
       "0"
      ]
     },
     "execution_count": 115,
     "metadata": {},
     "output_type": "execute_result"
    }
   ],
   "source": [
    "titanic_original_dataframe[\"Sex\"].isnull().sum() \n",
    "# Chek for the number of the missing values in the column \"Sex\""
   ]
  },
  {
   "cell_type": "code",
   "execution_count": 116,
   "metadata": {},
   "outputs": [
    {
     "data": {
      "text/plain": [
       "687"
      ]
     },
     "execution_count": 116,
     "metadata": {},
     "output_type": "execute_result"
    }
   ],
   "source": [
    "titanic_original_dataframe[\"Cabin\"].isnull().sum() \n",
    "# Chek for the number of the missing values in the column \"Cabin\""
   ]
  },
  {
   "cell_type": "code",
   "execution_count": 117,
   "metadata": {},
   "outputs": [
    {
     "data": {
      "text/plain": [
       "0"
      ]
     },
     "execution_count": 117,
     "metadata": {},
     "output_type": "execute_result"
    }
   ],
   "source": [
    "titanic_original_dataframe[\"Ticket\"].isnull().sum() \n",
    "# Chek for the number of the missing values in the column \"Ticket\""
   ]
  },
  {
   "cell_type": "code",
   "execution_count": 118,
   "metadata": {},
   "outputs": [
    {
     "data": {
      "text/plain": [
       "2"
      ]
     },
     "execution_count": 118,
     "metadata": {},
     "output_type": "execute_result"
    }
   ],
   "source": [
    "titanic_original_dataframe[\"Embarked\"].isnull().sum() \n",
    "# Chek for the number of the missing values in the column \"Embarked\"\n",
    "# Since the number is small we can simply ignore thiss missing values"
   ]
  },
  {
   "cell_type": "markdown",
   "metadata": {},
   "source": [
    "### Some of the very first conclusions: \n",
    "\n",
    "A lot of data about age is missing (only 714 from 891 are available). The remaining data shows that the average age of the passengers was about 30 years old. The youngest passenger was about 5 months old and the oldest was 80 years old!!!\n",
    "\n",
    "There were 3 classes of passengers.\n",
    "\n",
    "Some people were with a lot of family members aboard : SibSp max is 8 and Parch is 6.\n",
    "\n",
    "It is unexpected that the min fare is \"0\", but for this analysis it is not any issue.\n",
    "\n",
    "The mean value for Survived is 0.38, so only 38% of passengers were lucky enough to survive...\n",
    "\n",
    "A lot of data about cabin is missing (687 from 891 are NOT available)."
   ]
  },
  {
   "cell_type": "markdown",
   "metadata": {},
   "source": [
    "### Original Data Dictionary\n",
    "Data Dictionary from https://www.kaggle.com/c/titanic/data\n",
    "\n",
    "Variable\tDefinition\tKey\n",
    "\n",
    "survival\tSurvival\t0 = No, 1 = Yes\n",
    "\n",
    "pclass\tTicket class\t1 = 1st, 2 = 2nd, 3 = 3rd\n",
    "\n",
    "sex\t         Sex\t\n",
    "\n",
    "Age  \tAge in years\t\n",
    "\n",
    "sibsp\t# of siblings / spouses aboard the Titanic\t\n",
    "\n",
    "parch\t# of parents / children aboard the Titanic\t\n",
    "\n",
    "ticket\tTicket number\t\n",
    "\n",
    "fare\tPassenger fare\t\n",
    "\n",
    "cabin\tCabin number\t\n",
    "\n",
    "embarked\tPort of Embarkation\tC = Cherbourg, Q = Queenstown, S = Southampton\n",
    "\n",
    "Variable Notes\n",
    "\n",
    "pclass: A proxy for socio-economic status (SES)\n",
    "\n",
    "1st = Upper\n",
    "\n",
    "2nd = Middle\n",
    "\n",
    "3rd = Lower\n",
    "\n",
    "age: Age is fractional if less than 1. If the age is estimated, is it in the form of xx.5\n",
    "\n",
    "sibsp: The dataset defines family relations in this way...\n",
    "\n",
    "Sibling = brother, sister, stepbrother, stepsister\n",
    "\n",
    "Spouse = husband, wife (mistresses and fiancés were ignored)\n",
    "\n",
    "parch: The dataset defines family relations in this way...\n",
    "\n",
    "Parent = mother, father\n",
    "\n",
    "Child = daughter, son, stepdaughter, stepson\n",
    "\n",
    "Some children travelled only with a nanny, therefore parch=0 for them."
   ]
  },
  {
   "cell_type": "code",
   "execution_count": 119,
   "metadata": {
    "scrolled": false
   },
   "outputs": [
    {
     "data": {
      "text/html": [
       "<div>\n",
       "<style>\n",
       "    .dataframe thead tr:only-child th {\n",
       "        text-align: right;\n",
       "    }\n",
       "\n",
       "    .dataframe thead th {\n",
       "        text-align: left;\n",
       "    }\n",
       "\n",
       "    .dataframe tbody tr th {\n",
       "        vertical-align: top;\n",
       "    }\n",
       "</style>\n",
       "<table border=\"1\" class=\"dataframe\">\n",
       "  <thead>\n",
       "    <tr style=\"text-align: right;\">\n",
       "      <th></th>\n",
       "      <th>PassengerId</th>\n",
       "      <th>Survived</th>\n",
       "      <th>Pclass</th>\n",
       "      <th>Name</th>\n",
       "      <th>Sex</th>\n",
       "      <th>Age</th>\n",
       "      <th>SibSp</th>\n",
       "      <th>Parch</th>\n",
       "      <th>Ticket</th>\n",
       "      <th>Fare</th>\n",
       "      <th>Cabin</th>\n",
       "      <th>Embarked</th>\n",
       "    </tr>\n",
       "  </thead>\n",
       "  <tbody>\n",
       "    <tr>\n",
       "      <th>0</th>\n",
       "      <td>1</td>\n",
       "      <td>0</td>\n",
       "      <td>3</td>\n",
       "      <td>Braund, Mr. Owen Harris</td>\n",
       "      <td>male</td>\n",
       "      <td>22.0</td>\n",
       "      <td>1</td>\n",
       "      <td>0</td>\n",
       "      <td>A/5 21171</td>\n",
       "      <td>7.2500</td>\n",
       "      <td>NaN</td>\n",
       "      <td>S</td>\n",
       "    </tr>\n",
       "    <tr>\n",
       "      <th>1</th>\n",
       "      <td>2</td>\n",
       "      <td>1</td>\n",
       "      <td>1</td>\n",
       "      <td>Cumings, Mrs. John Bradley (Florence Briggs Th...</td>\n",
       "      <td>female</td>\n",
       "      <td>38.0</td>\n",
       "      <td>1</td>\n",
       "      <td>0</td>\n",
       "      <td>PC 17599</td>\n",
       "      <td>71.2833</td>\n",
       "      <td>C85</td>\n",
       "      <td>C</td>\n",
       "    </tr>\n",
       "    <tr>\n",
       "      <th>2</th>\n",
       "      <td>3</td>\n",
       "      <td>1</td>\n",
       "      <td>3</td>\n",
       "      <td>Heikkinen, Miss. Laina</td>\n",
       "      <td>female</td>\n",
       "      <td>26.0</td>\n",
       "      <td>0</td>\n",
       "      <td>0</td>\n",
       "      <td>STON/O2. 3101282</td>\n",
       "      <td>7.9250</td>\n",
       "      <td>NaN</td>\n",
       "      <td>S</td>\n",
       "    </tr>\n",
       "    <tr>\n",
       "      <th>3</th>\n",
       "      <td>4</td>\n",
       "      <td>1</td>\n",
       "      <td>1</td>\n",
       "      <td>Futrelle, Mrs. Jacques Heath (Lily May Peel)</td>\n",
       "      <td>female</td>\n",
       "      <td>35.0</td>\n",
       "      <td>1</td>\n",
       "      <td>0</td>\n",
       "      <td>113803</td>\n",
       "      <td>53.1000</td>\n",
       "      <td>C123</td>\n",
       "      <td>S</td>\n",
       "    </tr>\n",
       "    <tr>\n",
       "      <th>4</th>\n",
       "      <td>5</td>\n",
       "      <td>0</td>\n",
       "      <td>3</td>\n",
       "      <td>Allen, Mr. William Henry</td>\n",
       "      <td>male</td>\n",
       "      <td>35.0</td>\n",
       "      <td>0</td>\n",
       "      <td>0</td>\n",
       "      <td>373450</td>\n",
       "      <td>8.0500</td>\n",
       "      <td>NaN</td>\n",
       "      <td>S</td>\n",
       "    </tr>\n",
       "  </tbody>\n",
       "</table>\n",
       "</div>"
      ],
      "text/plain": [
       "   PassengerId  Survived  Pclass  \\\n",
       "0            1         0       3   \n",
       "1            2         1       1   \n",
       "2            3         1       3   \n",
       "3            4         1       1   \n",
       "4            5         0       3   \n",
       "\n",
       "                                                Name     Sex   Age  SibSp  \\\n",
       "0                            Braund, Mr. Owen Harris    male  22.0      1   \n",
       "1  Cumings, Mrs. John Bradley (Florence Briggs Th...  female  38.0      1   \n",
       "2                             Heikkinen, Miss. Laina  female  26.0      0   \n",
       "3       Futrelle, Mrs. Jacques Heath (Lily May Peel)  female  35.0      1   \n",
       "4                           Allen, Mr. William Henry    male  35.0      0   \n",
       "\n",
       "   Parch            Ticket     Fare Cabin Embarked  \n",
       "0      0         A/5 21171   7.2500   NaN        S  \n",
       "1      0          PC 17599  71.2833   C85        C  \n",
       "2      0  STON/O2. 3101282   7.9250   NaN        S  \n",
       "3      0            113803  53.1000  C123        S  \n",
       "4      0            373450   8.0500   NaN        S  "
      ]
     },
     "execution_count": 119,
     "metadata": {},
     "output_type": "execute_result"
    }
   ],
   "source": [
    "titanic_original_dataframe.head() \n",
    "# Prints the head of the original data to see what it looks like"
   ]
  },
  {
   "cell_type": "code",
   "execution_count": 120,
   "metadata": {
    "collapsed": true
   },
   "outputs": [],
   "source": [
    "titanic_dataframe = pd.DataFrame.copy(titanic_original_dataframe) \n",
    "# Makes a copy of the original data frame "
   ]
  },
  {
   "cell_type": "markdown",
   "metadata": {},
   "source": [
    "## Dealing With Missing Data\n",
    "\n",
    "    Since a lot of data is missing in the \"Age\" and \"Cabin\" columns, \n",
    "    it is not a good idea to drop off all those rows.\n",
    "    \n",
    "### Dealing With Missing Data in the Column \"Age\"\n",
    "\n",
    "The very first idea is to fill all the missing data of this column with the random values between (mean - std) and (mean + std), or in another words with the numbers between (15 - 45). \n",
    "\n",
    "On the other hand, it is possible to fill the missing values taking in consideration the titles that appear in each name. \n",
    "\n",
    "1) \"Master\" is a title for an underage male. If a person is under 18, master would be used. Once a person turns 18 and enters adulthood, \"Mister\" would be used. Source: https://writingexplained.org/master-vs-mister-difference . \n",
    "\n",
    "Note: For this analysis the age of 12 seems to be more reasonable to make the diference between the both titles, because the dataset has no mention of \"Master\" for people older than 12 years old.\n",
    "\n",
    "2) \"Miss\" is an English language honorific traditionally used only for an unmarried woman. \"Mrs.\" is for married woman.\n",
    "\n",
    "These are the most common titles. Let's see what other titles does this column contain?\n"
   ]
  },
  {
   "cell_type": "code",
   "execution_count": 121,
   "metadata": {
    "collapsed": true
   },
   "outputs": [],
   "source": [
    "def titles(column_name):\n",
    "    \"\"\"    \n",
    "    \n",
    "    This function has a column of names as an input, it has no return, but it prints some \n",
    "    special titles that are different from the four main titles (Master, Mister, Mrs, Miss)\n",
    "      \n",
    "    \"\"\"    \n",
    "    for row_in_name in column_name:\n",
    "        \n",
    "        name = str(row_in_name)\n",
    "        if \", Miss. \" in name:     \n",
    "            pass       \n",
    "        elif \", Master. \" in name:\n",
    "            pass                    \n",
    "        elif \", Mrs. \" in name:\n",
    "            pass\n",
    "        elif \", Mr. \" in name:            \n",
    "            pass\n",
    "        else:\n",
    "            print(row_in_name)  # to show the titles other than above mentioned  "
   ]
  },
  {
   "cell_type": "code",
   "execution_count": 122,
   "metadata": {},
   "outputs": [
    {
     "name": "stdout",
     "output_type": "stream",
     "text": [
      "Uruchurtu, Don. Manuel E\n",
      "Byles, Rev. Thomas Roussel Davids\n",
      "Bateman, Rev. Robert James\n",
      "Minahan, Dr. William Edward\n",
      "Carter, Rev. Ernest Courtenay\n",
      "Moraweck, Dr. Ernest\n",
      "Aubart, Mme. Leontine Pauline\n",
      "Pain, Dr. Alfred\n",
      "Reynaldo, Ms. Encarnacion\n",
      "Peuchen, Major. Arthur Godfrey\n",
      "Butt, Major. Archibald Willingham\n",
      "Duff Gordon, Lady. (Lucille Christiana Sutherland) (\"Mrs Morgan\")\n",
      "Duff Gordon, Sir. Cosmo Edmund (\"Mr Morgan\")\n",
      "Kirkland, Rev. Charles Leonard\n",
      "Stahelin-Maeglin, Dr. Max\n",
      "Sagesser, Mlle. Emma\n",
      "Simonius-Blumer, Col. Oberst Alfons\n",
      "Frauenthal, Dr. Henry William\n",
      "Weir, Col. John\n",
      "Mayne, Mlle. Berthe Antonine (\"Mrs de Villiers\")\n",
      "Crosby, Capt. Edward Gifford\n",
      "Rothes, the Countess. of (Lucy Noel Martha Dyer-Edwards)\n",
      "Brewe, Dr. Arthur Jackson\n",
      "Leader, Dr. Alice (Farnham)\n",
      "Reuchlin, Jonkheer. John George\n",
      "Harper, Rev. John\n",
      "Montvila, Rev. Juozas\n"
     ]
    }
   ],
   "source": [
    "titles(titanic_dataframe[\"Name\"])\n",
    "# prints all the titles other than Mr, Mrs, Miss or Master"
   ]
  },
  {
   "cell_type": "markdown",
   "metadata": {
    "collapsed": true
   },
   "source": [
    "#### Analysis of the other titles:\n",
    "\n",
    "\"Mlle.\" is a French equivalent to \"Miss.\" and \"Mme.\" is the same as \"Mrs.\", so it is OK to include them in those titles.\n",
    "\n",
    "So, the other more frequent titles are \"Rev.\" for Reverends and \"Dr.\" for \"Doctor\".\n",
    "\n",
    "Since, there are no too much different titles, for more simplicity, we will fit them into existing titles"
   ]
  },
  {
   "cell_type": "code",
   "execution_count": 123,
   "metadata": {
    "collapsed": true
   },
   "outputs": [],
   "source": [
    "def title_from_name(column_name):\n",
    "    \"\"\"        \n",
    "    This function has a column \"Name\" as an input, it returns the list containing all the titles.  \n",
    "    \"Special title\" string is given to all titles that are different from \n",
    "    the four main titles (Master, Mister, Mrs, Miss)\n",
    "    \"\"\"\n",
    "    titles = []\n",
    "\n",
    "    for row_in_name in column_name:\n",
    "        \n",
    "        name = str(row_in_name)\n",
    "        if \", Miss. \" in name:\n",
    "            titles.append(\"Miss\")            \n",
    "        elif \", Mlle. \" in name: # she was referred as Mrs in her name\n",
    "            titles.append(\"Mrs\")\n",
    "        elif \", Master. \" in name:\n",
    "            titles.append(\"Master\")                    \n",
    "        elif \", Mrs. \" in name: \n",
    "            titles.append(\"Mrs\")\n",
    "        elif \", Mr. \" in name:\n",
    "            titles.append(\"Mr\")\n",
    "        elif \", Mme. \" in name:            \n",
    "            titles.append(\"Mrs\")     #  \"Mme.\" in French is the same as \"Mrs.\"\n",
    "        elif \", Dr. \" in name:            \n",
    "            titles.append(\"Mr\")\n",
    "        elif \", Major. \" in name:            \n",
    "            titles.append(\"Mr\")        \n",
    "        elif \", Capt. \" in name:            \n",
    "            titles.append(\"Mr\")\n",
    "        elif \", Lady. \" in name:            \n",
    "            titles.append(\"Mrs\")\n",
    "        elif \", Sir. \" in name:            \n",
    "            titles.append(\"Mr\")\n",
    "        elif \", Rev. \" in name:            \n",
    "            titles.append(\"Mr\")\n",
    "        elif \", Jonkheer. \" in name:            \n",
    "            titles.append(\"Mr\")\n",
    "        elif \" Countess. \" in name:            \n",
    "            titles.append(\"Mrs\")\n",
    "        elif \", Don. \" in name:            \n",
    "            titles.append(\"Mr\")\n",
    "        elif \", Col. \" in name:            \n",
    "            titles.append(\"Mr\")\n",
    "        elif \", Ms. \" in name:            \n",
    "            titles.append(\"Mr\")     \n",
    "        else:\n",
    "            print(row_in_name) # to check if some title is still missing\n",
    "  \n",
    "    return titles"
   ]
  },
  {
   "cell_type": "code",
   "execution_count": 124,
   "metadata": {},
   "outputs": [
    {
     "data": {
      "text/html": [
       "<div>\n",
       "<style>\n",
       "    .dataframe thead tr:only-child th {\n",
       "        text-align: right;\n",
       "    }\n",
       "\n",
       "    .dataframe thead th {\n",
       "        text-align: left;\n",
       "    }\n",
       "\n",
       "    .dataframe tbody tr th {\n",
       "        vertical-align: top;\n",
       "    }\n",
       "</style>\n",
       "<table border=\"1\" class=\"dataframe\">\n",
       "  <thead>\n",
       "    <tr style=\"text-align: right;\">\n",
       "      <th></th>\n",
       "      <th>Title</th>\n",
       "      <th>Name</th>\n",
       "    </tr>\n",
       "  </thead>\n",
       "  <tbody>\n",
       "    <tr>\n",
       "      <th>0</th>\n",
       "      <td>Mr</td>\n",
       "      <td>Braund, Mr. Owen Harris</td>\n",
       "    </tr>\n",
       "    <tr>\n",
       "      <th>1</th>\n",
       "      <td>Mrs</td>\n",
       "      <td>Cumings, Mrs. John Bradley (Florence Briggs Th...</td>\n",
       "    </tr>\n",
       "    <tr>\n",
       "      <th>2</th>\n",
       "      <td>Miss</td>\n",
       "      <td>Heikkinen, Miss. Laina</td>\n",
       "    </tr>\n",
       "    <tr>\n",
       "      <th>3</th>\n",
       "      <td>Mrs</td>\n",
       "      <td>Futrelle, Mrs. Jacques Heath (Lily May Peel)</td>\n",
       "    </tr>\n",
       "    <tr>\n",
       "      <th>4</th>\n",
       "      <td>Mr</td>\n",
       "      <td>Allen, Mr. William Henry</td>\n",
       "    </tr>\n",
       "  </tbody>\n",
       "</table>\n",
       "</div>"
      ],
      "text/plain": [
       "  Title                                               Name\n",
       "0    Mr                            Braund, Mr. Owen Harris\n",
       "1   Mrs  Cumings, Mrs. John Bradley (Florence Briggs Th...\n",
       "2  Miss                             Heikkinen, Miss. Laina\n",
       "3   Mrs       Futrelle, Mrs. Jacques Heath (Lily May Peel)\n",
       "4    Mr                           Allen, Mr. William Henry"
      ]
     },
     "execution_count": 124,
     "metadata": {},
     "output_type": "execute_result"
    }
   ],
   "source": [
    "titanic_dataframe[\"Title\"] = pd.DataFrame(title_from_name(titanic_dataframe[\"Name\"]))\n",
    "# creats a new column of titles\n",
    "titanic_dataframe[[\"Title\",\"Name\"]].head()\n",
    "# to check if it works as expected"
   ]
  },
  {
   "cell_type": "code",
   "execution_count": 125,
   "metadata": {},
   "outputs": [
    {
     "data": {
      "text/plain": [
       "Mr        539\n",
       "Miss      182\n",
       "Mrs       130\n",
       "Master     40\n",
       "Name: Title, dtype: int64"
      ]
     },
     "execution_count": 125,
     "metadata": {},
     "output_type": "execute_result"
    }
   ],
   "source": [
    "titanic_dataframe[\"Title\"].value_counts()\n",
    "# value counts of all titles"
   ]
  },
  {
   "cell_type": "code",
   "execution_count": 126,
   "metadata": {
    "scrolled": false
   },
   "outputs": [
    {
     "data": {
      "text/plain": [
       "<matplotlib.text.Text at 0x26827bff320>"
      ]
     },
     "execution_count": 126,
     "metadata": {},
     "output_type": "execute_result"
    },
    {
     "data": {
      "image/png": "[encoded data removed]",
      "text/plain": [
       "<matplotlib.figure.Figure at 0x26827bbdc88>"
      ]
     },
     "metadata": {},
     "output_type": "display_data"
    }
   ],
   "source": [
    "# Shows the relation between the title and the age distribuition for Titanic's passengers\n",
    "graph_age_title=sns.FacetGrid(titanic_dataframe,hue='Title', aspect=3)\n",
    "graph_age_title.map(sns.kdeplot,'Age')\n",
    "graph_age_title.add_legend()\n",
    "graph_age_title.set(xlim=(0,80)) # 0 is for the minimal age and 80 is for the maximum age of passengers\n",
    "plt.xlabel(\"Passenger Age, years old\")\n",
    "plt.title(\"Titanic's Passengers Age by Their Title\")"
   ]
  },
  {
   "cell_type": "markdown",
   "metadata": {},
   "source": [
    "#### Deeper analysis of existing values for \"Age\" column.\n",
    "    "
   ]
  },
  {
   "cell_type": "code",
   "execution_count": 127,
   "metadata": {
    "collapsed": true
   },
   "outputs": [],
   "source": [
    "title_age_pclass_df = titanic_dataframe[[\"Title\",\"Age\",\"Pclass\"]]\n",
    "# creates a smaller dataframe containing only 3 columns \"Title\",\"Age\",\"Pclass\""
   ]
  },
  {
   "cell_type": "code",
   "execution_count": 128,
   "metadata": {
    "collapsed": true
   },
   "outputs": [],
   "source": [
    "all_master_df = title_age_pclass_df[title_age_pclass_df.Title == 'Master']\n",
    "all_master_df = all_master_df[[\"Age\"]]\n",
    "# all_master_df - dataframe contaning age information only for people with the title 'Master'"
   ]
  },
  {
   "cell_type": "code",
   "execution_count": 129,
   "metadata": {
    "collapsed": true
   },
   "outputs": [],
   "source": [
    "all_mister_df = title_age_pclass_df[title_age_pclass_df.Title == 'Mr']\n",
    "all_misters_df = all_mister_df[[\"Age\"]]\n",
    "# all_misters_df - dataframe contaning age information only for people with the title 'Mr'"
   ]
  },
  {
   "cell_type": "code",
   "execution_count": 130,
   "metadata": {
    "collapsed": true
   },
   "outputs": [],
   "source": [
    "all_miss_df = title_age_pclass_df[title_age_pclass_df.Title == 'Miss']\n",
    "all_class_miss_df = all_miss_df[[\"Age\"]]\n",
    "# all_miss_df - dataframe contaning age information only for people with the title 'Miss'"
   ]
  },
  {
   "cell_type": "code",
   "execution_count": 131,
   "metadata": {
    "collapsed": true
   },
   "outputs": [],
   "source": [
    "all_mrs_df = title_age_pclass_df[title_age_pclass_df.Title == 'Mrs']\n",
    "all_class_mrs_df = all_mrs_df[[\"Age\"]]\n",
    "# all_miss_df - dataframe contaning age information only for people with the title 'Mrs'"
   ]
  },
  {
   "cell_type": "code",
   "execution_count": 132,
   "metadata": {},
   "outputs": [
    {
     "name": "stdout",
     "output_type": "stream",
     "text": [
      "              Age\n",
      "count  113.000000\n",
      "mean    35.663717\n",
      "std     11.402232\n",
      "min     14.000000\n",
      "25%     27.000000\n",
      "50%     35.000000\n",
      "75%     44.000000\n",
      "max     63.000000\n"
     ]
    }
   ],
   "source": [
    "print(all_class_mrs_df.describe())\n",
    "# age information only for people with the title 'Mrs'"
   ]
  },
  {
   "cell_type": "code",
   "execution_count": 133,
   "metadata": {},
   "outputs": [
    {
     "data": {
      "text/plain": [
       "17"
      ]
     },
     "execution_count": 133,
     "metadata": {},
     "output_type": "execute_result"
    }
   ],
   "source": [
    "all_class_mrs_df[\"Age\"].isnull().sum() \n",
    "# number of values missing in Age column for the title \"Mrs\""
   ]
  },
  {
   "cell_type": "code",
   "execution_count": 134,
   "metadata": {},
   "outputs": [
    {
     "name": "stdout",
     "output_type": "stream",
     "text": [
      "              Age\n",
      "count  146.000000\n",
      "mean    21.773973\n",
      "std     12.990292\n",
      "min      0.750000\n",
      "25%     14.125000\n",
      "50%     21.000000\n",
      "75%     30.000000\n",
      "max     63.000000\n"
     ]
    }
   ],
   "source": [
    "print(all_class_miss_df.describe())\n",
    "# age information only for people with the title 'Mrs'"
   ]
  },
  {
   "cell_type": "code",
   "execution_count": 135,
   "metadata": {},
   "outputs": [
    {
     "data": {
      "text/plain": [
       "36"
      ]
     },
     "execution_count": 135,
     "metadata": {},
     "output_type": "execute_result"
    }
   ],
   "source": [
    "all_class_miss_df[\"Age\"].isnull().sum() \n",
    "# number of values missing in Age column for the title \"Miss\""
   ]
  },
  {
   "cell_type": "code",
   "execution_count": 136,
   "metadata": {},
   "outputs": [
    {
     "name": "stdout",
     "output_type": "stream",
     "text": [
      "             Age\n",
      "count  36.000000\n",
      "mean    4.574167\n",
      "std     3.619872\n",
      "min     0.420000\n",
      "25%     1.000000\n",
      "50%     3.500000\n",
      "75%     8.000000\n",
      "max    12.000000\n"
     ]
    }
   ],
   "source": [
    "print(all_master_df.describe())\n",
    "# age information only for people with the title 'Master'"
   ]
  },
  {
   "cell_type": "code",
   "execution_count": 137,
   "metadata": {},
   "outputs": [
    {
     "data": {
      "text/plain": [
       "4"
      ]
     },
     "execution_count": 137,
     "metadata": {},
     "output_type": "execute_result"
    }
   ],
   "source": [
    "all_master_df[\"Age\"].isnull().sum() \n",
    "# number of values missing in Age column for the title \"Master\""
   ]
  },
  {
   "cell_type": "markdown",
   "metadata": {},
   "source": [
    "#### For \"Master\" title:\n",
    "\n",
    "To fill the missing values for this title we can use the interval of random numbers from 1 to 8.\n",
    "Max value is 12, so, probably for 1912 year it was the age to define the difference between \"Master\" and \"Mister\"."
   ]
  },
  {
   "cell_type": "code",
   "execution_count": 138,
   "metadata": {},
   "outputs": [
    {
     "name": "stdout",
     "output_type": "stream",
     "text": [
      "              Age\n",
      "count  419.000000\n",
      "mean    33.010740\n",
      "std     12.983031\n",
      "min     11.000000\n",
      "25%     23.000000\n",
      "50%     30.000000\n",
      "75%     40.000000\n",
      "max     80.000000\n"
     ]
    }
   ],
   "source": [
    "print(all_misters_df.describe())\n",
    "# age information only for people with the title 'Mr'"
   ]
  },
  {
   "cell_type": "code",
   "execution_count": 139,
   "metadata": {},
   "outputs": [
    {
     "data": {
      "text/plain": [
       "120"
      ]
     },
     "execution_count": 139,
     "metadata": {},
     "output_type": "execute_result"
    }
   ],
   "source": [
    "all_misters_df[\"Age\"].isnull().sum() \n",
    "# number of values missing in Age column for the title \"Mister\""
   ]
  },
  {
   "cell_type": "code",
   "execution_count": 140,
   "metadata": {},
   "outputs": [
    {
     "name": "stdout",
     "output_type": "stream",
     "text": [
      "              Age\n",
      "count  419.000000\n",
      "mean    33.010740\n",
      "std     12.983031\n",
      "min     11.000000\n",
      "25%     23.000000\n",
      "50%     30.000000\n",
      "75%     40.000000\n",
      "max     80.000000\n"
     ]
    }
   ],
   "source": [
    "print(all_misters_df.describe())\n",
    "# age information only for people with the title 'Mr'"
   ]
  },
  {
   "cell_type": "markdown",
   "metadata": {},
   "source": [
    "### More detailed analysis for titles: Mr, Miss and Mrs\n",
    "\n",
    "Since almost 30% of data is missing for the \"Mr\" title and it is necessary to fill 119 values, \n",
    "deeper analysis of ages  is done, considering Pclass.\n",
    "\n",
    "For Miss and Mrs deeper analysis of ages  is done, considering Pclass."
   ]
  },
  {
   "cell_type": "code",
   "execution_count": 141,
   "metadata": {
    "collapsed": true
   },
   "outputs": [],
   "source": [
    "pclass1_mr_df = all_mister_df[all_mister_df.Pclass == 1] # selects only rows for Mr and Pclass 1\n",
    "pclass2_mr_df = all_mister_df[all_mister_df.Pclass == 2] # selects only rows for Mr and Pclass 2\n",
    "pclass3_mr_df = all_mister_df[all_mister_df.Pclass == 3] # selects only rows for Mr and Pclass 3\n",
    "pclass1_mr_df = pclass1_mr_df[[\"Age\"]] # ages for title \"Mr\" for the Pclass 1\n",
    "pclass2_mr_df = pclass2_mr_df[[\"Age\"]] # ages for title \"Mr\" for the Pclass 2\n",
    "pclass3_mr_df = pclass3_mr_df[[\"Age\"]] # ages for title \"Mr\" for the Pclass 3"
   ]
  },
  {
   "cell_type": "code",
   "execution_count": 142,
   "metadata": {},
   "outputs": [
    {
     "data": {
      "text/plain": [
       "21"
      ]
     },
     "execution_count": 142,
     "metadata": {},
     "output_type": "execute_result"
    }
   ],
   "source": [
    "pclass1_mr_df[\"Age\"].isnull().sum() \n",
    "# number of NaN values for title \"Mr\" for the Pclass 1"
   ]
  },
  {
   "cell_type": "code",
   "execution_count": 143,
   "metadata": {},
   "outputs": [
    {
     "name": "stdout",
     "output_type": "stream",
     "text": [
      "             Age\n",
      "count  99.000000\n",
      "mean   42.449495\n",
      "std    13.890699\n",
      "min    17.000000\n",
      "25%    31.000000\n",
      "50%    42.000000\n",
      "75%    51.000000\n",
      "max    80.000000\n"
     ]
    }
   ],
   "source": [
    "print(pclass1_mr_df.describe())"
   ]
  },
  {
   "cell_type": "code",
   "execution_count": 144,
   "metadata": {},
   "outputs": [
    {
     "data": {
      "text/plain": [
       "9"
      ]
     },
     "execution_count": 144,
     "metadata": {},
     "output_type": "execute_result"
    }
   ],
   "source": [
    "pclass2_mr_df[\"Age\"].isnull().sum()  \n",
    "# number of NaN values for title \"Mr\" for the Pclass 2"
   ]
  },
  {
   "cell_type": "code",
   "execution_count": 145,
   "metadata": {},
   "outputs": [
    {
     "name": "stdout",
     "output_type": "stream",
     "text": [
      "             Age\n",
      "count  91.000000\n",
      "mean   33.527473\n",
      "std    12.203907\n",
      "min    16.000000\n",
      "25%    25.000000\n",
      "50%    31.000000\n",
      "75%    39.000000\n",
      "max    70.000000\n"
     ]
    }
   ],
   "source": [
    "print(pclass2_mr_df.describe())"
   ]
  },
  {
   "cell_type": "code",
   "execution_count": 146,
   "metadata": {},
   "outputs": [
    {
     "data": {
      "text/plain": [
       "90"
      ]
     },
     "execution_count": 146,
     "metadata": {},
     "output_type": "execute_result"
    }
   ],
   "source": [
    "pclass3_mr_df[\"Age\"].isnull().sum()  \n",
    "# number of NaN values for title \"Mr\" for the Pclass 3"
   ]
  },
  {
   "cell_type": "code",
   "execution_count": 147,
   "metadata": {
    "scrolled": true
   },
   "outputs": [
    {
     "name": "stdout",
     "output_type": "stream",
     "text": [
      "              Age\n",
      "count  229.000000\n",
      "mean    28.724891\n",
      "std     10.490946\n",
      "min     11.000000\n",
      "25%     21.000000\n",
      "50%     26.000000\n",
      "75%     34.000000\n",
      "max     74.000000\n"
     ]
    }
   ],
   "source": [
    "print(pclass3_mr_df.describe())"
   ]
  },
  {
   "cell_type": "markdown",
   "metadata": {},
   "source": [
    "#### For  title \"Mr\", considering his passenger class :\n",
    "\n",
    "It will be more accurate to generate random values withing the ranges based on the passenger class.\n",
    "\n",
    "For Pclass = 1 and title \"Mr\" the average ages are in the range 27-55 years\n",
    "\n",
    "For Pclass = 2 and title \"Mr\" the average ages are in the range 20-44 years\n",
    "\n",
    "For Pclass = 3 and title \"Mr\" the average ages are in the range 18-38 years"
   ]
  },
  {
   "cell_type": "code",
   "execution_count": 148,
   "metadata": {
    "collapsed": true
   },
   "outputs": [],
   "source": [
    "pclass1_mrs_df = all_mrs_df[all_mrs_df.Pclass == 1] # selects only rows for Mrs and Pclass 1\n",
    "pclass2_mrs_df = all_mrs_df[all_mrs_df.Pclass == 2] # selects only rows for Mrs and Pclass 2\n",
    "pclass3_mrs_df = all_mrs_df[all_mrs_df.Pclass == 3] # selects only rows for Mrs and Pclass 3\n",
    "pclass1_mrs_df = pclass1_mrs_df[[\"Age\"]] # ages for title \"Mr\" for the Pclass 1\n",
    "pclass2_mrs_df = pclass2_mrs_df[[\"Age\"]] # ages for title \"Mr\" for the Pclass 2\n",
    "pclass3_mrs_df = pclass3_mrs_df[[\"Age\"]] # ages for title \"Mr\" for the Pclass 3"
   ]
  },
  {
   "cell_type": "code",
   "execution_count": 149,
   "metadata": {},
   "outputs": [
    {
     "data": {
      "text/plain": [
       "8"
      ]
     },
     "execution_count": 149,
     "metadata": {},
     "output_type": "execute_result"
    }
   ],
   "source": [
    "pclass1_mrs_df[\"Age\"].isnull().sum() \n",
    "# number of NaN values for title \"Mrs\" for the Pclass 1"
   ]
  },
  {
   "cell_type": "code",
   "execution_count": 150,
   "metadata": {},
   "outputs": [
    {
     "name": "stdout",
     "output_type": "stream",
     "text": [
      "             Age\n",
      "count  39.000000\n",
      "mean   39.564103\n",
      "std    12.748157\n",
      "min    17.000000\n",
      "25%    33.000000\n",
      "50%    39.000000\n",
      "75%    49.500000\n",
      "max    62.000000\n"
     ]
    }
   ],
   "source": [
    "print(pclass1_mrs_df.describe())"
   ]
  },
  {
   "cell_type": "code",
   "execution_count": 151,
   "metadata": {},
   "outputs": [
    {
     "data": {
      "text/plain": [
       "0"
      ]
     },
     "execution_count": 151,
     "metadata": {},
     "output_type": "execute_result"
    }
   ],
   "source": [
    "pclass2_mrs_df[\"Age\"].isnull().sum() \n",
    "# number of NaN values for title \"Mrs\" for the Pclass 2"
   ]
  },
  {
   "cell_type": "code",
   "execution_count": 152,
   "metadata": {},
   "outputs": [
    {
     "name": "stdout",
     "output_type": "stream",
     "text": [
      "             Age\n",
      "count  41.000000\n",
      "mean   33.682927\n",
      "std    10.318525\n",
      "min    14.000000\n",
      "25%    26.000000\n",
      "50%    32.000000\n",
      "75%    41.000000\n",
      "max    57.000000\n"
     ]
    }
   ],
   "source": [
    "print(pclass2_mrs_df.describe())\n"
   ]
  },
  {
   "cell_type": "code",
   "execution_count": 153,
   "metadata": {},
   "outputs": [
    {
     "data": {
      "text/plain": [
       "9"
      ]
     },
     "execution_count": 153,
     "metadata": {},
     "output_type": "execute_result"
    }
   ],
   "source": [
    "pclass3_mrs_df[\"Age\"].isnull().sum() \n",
    "# number of NaN values for title \"Mrs\" for the Pclass 3"
   ]
  },
  {
   "cell_type": "code",
   "execution_count": 154,
   "metadata": {},
   "outputs": [
    {
     "name": "stdout",
     "output_type": "stream",
     "text": [
      "             Age\n",
      "count  33.000000\n",
      "mean   33.515152\n",
      "std    10.031579\n",
      "min    15.000000\n",
      "25%    27.000000\n",
      "50%    31.000000\n",
      "75%    40.000000\n",
      "max    63.000000\n"
     ]
    }
   ],
   "source": [
    "print(pclass3_mrs_df.describe())"
   ]
  },
  {
   "cell_type": "markdown",
   "metadata": {},
   "source": [
    "#### For \"Mrs\" title, considering her passenger class :\n",
    "\n",
    "It will be more accurate to generate random values withing the ranges based on the passenger class.\n",
    "\n",
    "For Mrs from Pclass = 1, the range should be 27-52 \n",
    "            it is really strange to have 8 values missing for the First Class Mrs, \n",
    "            almost the same of NaN values for the Third Class Mrs\n",
    "\n",
    "For Mrs from Pclass = 2 there is no missing data, \n",
    "\n",
    "For Mrs from Pclass = 3, the range should be 23-43\n",
    "\n",
    "It was shoking to me to discover that the min age of married women was 14 years old for the Second Class and 15 years old for the Third Class\n"
   ]
  },
  {
   "cell_type": "code",
   "execution_count": 155,
   "metadata": {
    "collapsed": true
   },
   "outputs": [],
   "source": [
    "pclass1_miss_df = all_miss_df[all_miss_df.Pclass == 1] # selects only rows for Miss and Pclass 1\n",
    "pclass2_miss_df = all_miss_df[all_miss_df.Pclass == 2] # selects only rows for Miss and Pclass 2\n",
    "pclass3_miss_df = all_miss_df[all_miss_df.Pclass == 3] # selects only rows for Miss and Pclass 3\n",
    "pclass1_miss_df = pclass1_miss_df[[\"Age\"]]  # ages for title \"Miss\" for the Pclass 1\n",
    "pclass2_miss_df = pclass2_miss_df[[\"Age\"]]  # ages for title \"Miss\" for the Pclass 2\n",
    "pclass3_miss_df = pclass3_miss_df[[\"Age\"]]  # ages for title \"Miss\" for the Pclass 3-"
   ]
  },
  {
   "cell_type": "code",
   "execution_count": 156,
   "metadata": {},
   "outputs": [
    {
     "data": {
      "text/plain": [
       "1"
      ]
     },
     "execution_count": 156,
     "metadata": {},
     "output_type": "execute_result"
    }
   ],
   "source": [
    "pclass1_miss_df[\"Age\"].isnull().sum() \n",
    "# number of NaN values for title \"Miss\" for the Pclass 1"
   ]
  },
  {
   "cell_type": "code",
   "execution_count": 157,
   "metadata": {},
   "outputs": [
    {
     "name": "stdout",
     "output_type": "stream",
     "text": [
      "             Age\n",
      "count  45.000000\n",
      "mean   30.000000\n",
      "std    12.852308\n",
      "min     2.000000\n",
      "25%    21.000000\n",
      "50%    30.000000\n",
      "75%    36.000000\n",
      "max    63.000000\n"
     ]
    }
   ],
   "source": [
    "print(pclass1_miss_df.describe())"
   ]
  },
  {
   "cell_type": "code",
   "execution_count": 158,
   "metadata": {},
   "outputs": [
    {
     "data": {
      "text/plain": [
       "2"
      ]
     },
     "execution_count": 158,
     "metadata": {},
     "output_type": "execute_result"
    }
   ],
   "source": [
    "pclass2_miss_df[\"Age\"].isnull().sum() \n",
    "# number of NaN values for title \"Miss\" for the Pclass 2"
   ]
  },
  {
   "cell_type": "code",
   "execution_count": 159,
   "metadata": {},
   "outputs": [
    {
     "name": "stdout",
     "output_type": "stream",
     "text": [
      "             Age\n",
      "count  32.000000\n",
      "mean   22.390625\n",
      "std    13.374708\n",
      "min     2.000000\n",
      "25%    11.750000\n",
      "50%    24.000000\n",
      "75%    30.625000\n",
      "max    50.000000\n"
     ]
    }
   ],
   "source": [
    "print(pclass2_miss_df.describe())"
   ]
  },
  {
   "cell_type": "code",
   "execution_count": 160,
   "metadata": {},
   "outputs": [
    {
     "data": {
      "text/plain": [
       "33"
      ]
     },
     "execution_count": 160,
     "metadata": {},
     "output_type": "execute_result"
    }
   ],
   "source": [
    "pclass3_miss_df[\"Age\"].isnull().sum() \n",
    "# number of NaN values for title \"Miss\" for the Pclass 3"
   ]
  },
  {
   "cell_type": "code",
   "execution_count": 161,
   "metadata": {
    "scrolled": true
   },
   "outputs": [
    {
     "name": "stdout",
     "output_type": "stream",
     "text": [
      "             Age\n",
      "count  69.000000\n",
      "mean   16.123188\n",
      "std     9.697315\n",
      "min     0.750000\n",
      "25%     9.000000\n",
      "50%    18.000000\n",
      "75%    22.000000\n",
      "max    45.000000\n"
     ]
    }
   ],
   "source": [
    "print(pclass3_miss_df.describe())"
   ]
  },
  {
   "cell_type": "markdown",
   "metadata": {},
   "source": [
    "#### For \"Miss\" title :\n",
    "\n",
    "Only a few values are missing for Pclass 1 and 2, so, we can use the range from pclass3_miss_df\n",
    "from 6 to 26 to generate random numbers to fill the missing data."
   ]
  },
  {
   "cell_type": "markdown",
   "metadata": {},
   "source": [
    "#### New column \"AgeEstim\" to fill the missing values for \"Age\" column.\n",
    "\n",
    "The figure above, as well as more detailed analysis on the existing data about age are used as guidance to choose the random values range for each category.    "
   ]
  },
  {
   "cell_type": "code",
   "execution_count": 162,
   "metadata": {
    "collapsed": true
   },
   "outputs": [],
   "source": [
    "titanic_dataframe[\"AgeEstim\"] = titanic_dataframe[\"Age\"].fillna(100)\n",
    "# creates a new column with no missing values (NaN)\n",
    "# \"100\" was chosen to differentiate the missing data from original,\n",
    "# since the max of existing values is 80."
   ]
  },
  {
   "cell_type": "code",
   "execution_count": 163,
   "metadata": {
    "collapsed": true
   },
   "outputs": [],
   "source": [
    "def age_by_title(age_estime):\n",
    "    \"\"\"\n",
    "    This function takes age and title values as inputs. \n",
    "    For the missing values which were filled with the number \"100\" \n",
    "    it returns a new value of age accordingly to the title of the person, \n",
    "    Every choice is explained in the previous analysis.  \n",
    "    \"\"\"    \n",
    "    \n",
    "    age,title,pclass = age_estime\n",
    "    if age == 100:        # checks if the data was missing in the original set\n",
    "        if title == \"Mr\":\n",
    "            if pclass == 1:\n",
    "                age_random = random.randint(27, 55)\n",
    "                \n",
    "                return age_random\n",
    "            elif pclass == 2:\n",
    "                age_random = random.randint(20, 44)\n",
    "                return age_random\n",
    "            elif pclass == 3:\n",
    "                age_random = random.randint(18, 38)\n",
    "                return age_random\n",
    "        elif title == \"Mrs\":\n",
    "            if pclass == 1:\n",
    "                age_random = random.randint(27, 52)\n",
    "                return age_random            \n",
    "            elif pclass == 3:\n",
    "                age_random = random.randint(23, 43)\n",
    "                \n",
    "                return age_random\n",
    "            \n",
    "        elif title == \"Miss\":\n",
    "            age_random = random.randint(6, 26)\n",
    "            return age_random\n",
    "        elif title == \"Master\":\n",
    "            age_random = random.randint(1, 8)\n",
    "            \n",
    "            return age_random\n",
    "        \n",
    "    else:\n",
    "        return age # returns the \"age\" from original \"existing\" data"
   ]
  },
  {
   "cell_type": "code",
   "execution_count": 164,
   "metadata": {
    "collapsed": true
   },
   "outputs": [],
   "source": [
    "titanic_dataframe[\"AgeEstim\"]=titanic_dataframe[[\"AgeEstim\",\"Title\",\"Pclass\"]].apply(age_by_title,axis=1) \n",
    "# creats values for missing values of passenger age"
   ]
  },
  {
   "cell_type": "code",
   "execution_count": 165,
   "metadata": {},
   "outputs": [
    {
     "data": {
      "text/html": [
       "<div>\n",
       "<style>\n",
       "    .dataframe thead tr:only-child th {\n",
       "        text-align: right;\n",
       "    }\n",
       "\n",
       "    .dataframe thead th {\n",
       "        text-align: left;\n",
       "    }\n",
       "\n",
       "    .dataframe tbody tr th {\n",
       "        vertical-align: top;\n",
       "    }\n",
       "</style>\n",
       "<table border=\"1\" class=\"dataframe\">\n",
       "  <thead>\n",
       "    <tr style=\"text-align: right;\">\n",
       "      <th></th>\n",
       "      <th>Age</th>\n",
       "      <th>AgeEstim</th>\n",
       "      <th>Title</th>\n",
       "      <th>Pclass</th>\n",
       "    </tr>\n",
       "  </thead>\n",
       "  <tbody>\n",
       "    <tr>\n",
       "      <th>0</th>\n",
       "      <td>22.0</td>\n",
       "      <td>22.0</td>\n",
       "      <td>Mr</td>\n",
       "      <td>3</td>\n",
       "    </tr>\n",
       "    <tr>\n",
       "      <th>1</th>\n",
       "      <td>38.0</td>\n",
       "      <td>38.0</td>\n",
       "      <td>Mrs</td>\n",
       "      <td>1</td>\n",
       "    </tr>\n",
       "    <tr>\n",
       "      <th>2</th>\n",
       "      <td>26.0</td>\n",
       "      <td>26.0</td>\n",
       "      <td>Miss</td>\n",
       "      <td>3</td>\n",
       "    </tr>\n",
       "    <tr>\n",
       "      <th>3</th>\n",
       "      <td>35.0</td>\n",
       "      <td>35.0</td>\n",
       "      <td>Mrs</td>\n",
       "      <td>1</td>\n",
       "    </tr>\n",
       "    <tr>\n",
       "      <th>4</th>\n",
       "      <td>35.0</td>\n",
       "      <td>35.0</td>\n",
       "      <td>Mr</td>\n",
       "      <td>3</td>\n",
       "    </tr>\n",
       "    <tr>\n",
       "      <th>5</th>\n",
       "      <td>NaN</td>\n",
       "      <td>34.0</td>\n",
       "      <td>Mr</td>\n",
       "      <td>3</td>\n",
       "    </tr>\n",
       "    <tr>\n",
       "      <th>6</th>\n",
       "      <td>54.0</td>\n",
       "      <td>54.0</td>\n",
       "      <td>Mr</td>\n",
       "      <td>1</td>\n",
       "    </tr>\n",
       "    <tr>\n",
       "      <th>7</th>\n",
       "      <td>2.0</td>\n",
       "      <td>2.0</td>\n",
       "      <td>Master</td>\n",
       "      <td>3</td>\n",
       "    </tr>\n",
       "    <tr>\n",
       "      <th>8</th>\n",
       "      <td>27.0</td>\n",
       "      <td>27.0</td>\n",
       "      <td>Mrs</td>\n",
       "      <td>3</td>\n",
       "    </tr>\n",
       "    <tr>\n",
       "      <th>9</th>\n",
       "      <td>14.0</td>\n",
       "      <td>14.0</td>\n",
       "      <td>Mrs</td>\n",
       "      <td>2</td>\n",
       "    </tr>\n",
       "  </tbody>\n",
       "</table>\n",
       "</div>"
      ],
      "text/plain": [
       "    Age  AgeEstim   Title  Pclass\n",
       "0  22.0      22.0      Mr       3\n",
       "1  38.0      38.0     Mrs       1\n",
       "2  26.0      26.0    Miss       3\n",
       "3  35.0      35.0     Mrs       1\n",
       "4  35.0      35.0      Mr       3\n",
       "5   NaN      34.0      Mr       3\n",
       "6  54.0      54.0      Mr       1\n",
       "7   2.0       2.0  Master       3\n",
       "8  27.0      27.0     Mrs       3\n",
       "9  14.0      14.0     Mrs       2"
      ]
     },
     "execution_count": 165,
     "metadata": {},
     "output_type": "execute_result"
    }
   ],
   "source": [
    "titanic_dataframe[[\"Age\",\"AgeEstim\",\"Title\",\"Pclass\"]].head(10)\n",
    "# to check if it works correctly"
   ]
  },
  {
   "cell_type": "markdown",
   "metadata": {},
   "source": [
    "   \n",
    "### Dealing With Missing Data in the Column \"Cabin\":\n",
    "\n",
    "Some considerations:\n",
    "\n",
    "    Source: https://www.encyclopedia-titanica.org/cabins.html\n",
    "    \n",
    "Apart from the recollections of survivors and a few tickets and boarding cards, the only authoritative source of cabin data is the incomplete first class passenger list recovered with the body of steward Herbert Cave.\n",
    "    \n",
    "   First Class - Boat Deck - (Cabin \"T\") , A Deck, B Deck, C Deck,\tD  Deck, E  Deck.\n",
    "\n",
    "   Second Class - D Deck, E Deck, F Deck\n",
    "\n",
    "   Third Class D Deck, E Deck, F Deck, G Deck\n",
    "\n",
    "\n",
    "#### Considering all thees facts, there is no easy means to fill all missing cabin values. \n",
    "\n",
    "Instead, it is more viable to create a new colum \"Deck\" and fill all the missing values with the deck levels, based on the first letter of cabins and passenger class.\n",
    "\n",
    "There are some unexpected cabin names like \"F E69\", \"F G73\", \"F G63\", \"F G73\", etc. The second letter means \"section\" on the deck level, so, only the first letter will be considered as a deck level."
   ]
  },
  {
   "cell_type": "code",
   "execution_count": 166,
   "metadata": {
    "collapsed": true
   },
   "outputs": [],
   "source": [
    "titanic_dataframe[\"Deck\"] = titanic_dataframe[\"Cabin\"].fillna(\"unknown\") \n",
    "# creats a new column for deck number(letter) based on \"Cabin\" names; \n",
    "# missing values are substituted by the string \"unknown\""
   ]
  },
  {
   "cell_type": "code",
   "execution_count": 167,
   "metadata": {
    "collapsed": true
   },
   "outputs": [],
   "source": [
    "def cabin_on_deck(cabin_name):\n",
    "    \"\"\"\n",
    "    This function has as an input the string with the name of each cabin and \n",
    "    returns its first letter as a deck level.\n",
    "    \n",
    "    All cabin_name values come from titanic_dataframe[\"Cabin\"]. \n",
    "    \"deck\" is a list where all deck levels are stored.\n",
    "    \"\"\"\n",
    "    deck = []\n",
    "    for cabin in cabin_name:\n",
    "               \n",
    "        if cabin == \"unknown\": \n",
    "            # if cabin number is unknown, so deck is unknown;             \n",
    "            deck.append(\"unknown\")                \n",
    "           \n",
    "        else:            \n",
    "            deck.append(cabin[0])\n",
    "        \n",
    "    return deck"
   ]
  },
  {
   "cell_type": "code",
   "execution_count": 168,
   "metadata": {
    "collapsed": true
   },
   "outputs": [],
   "source": [
    "titanic_dataframe[\"Deck\"] = pd.DataFrame(cabin_on_deck(titanic_dataframe[\"Deck\"]))\n",
    "# The output from the function cabin_on_deck(cabin_name) which is a list\n",
    "# is transformed into DataFrame to be used as a new column"
   ]
  },
  {
   "cell_type": "code",
   "execution_count": 169,
   "metadata": {},
   "outputs": [
    {
     "data": {
      "text/html": [
       "<div>\n",
       "<style>\n",
       "    .dataframe thead tr:only-child th {\n",
       "        text-align: right;\n",
       "    }\n",
       "\n",
       "    .dataframe thead th {\n",
       "        text-align: left;\n",
       "    }\n",
       "\n",
       "    .dataframe tbody tr th {\n",
       "        vertical-align: top;\n",
       "    }\n",
       "</style>\n",
       "<table border=\"1\" class=\"dataframe\">\n",
       "  <thead>\n",
       "    <tr style=\"text-align: right;\">\n",
       "      <th></th>\n",
       "      <th>Deck</th>\n",
       "      <th>Cabin</th>\n",
       "    </tr>\n",
       "  </thead>\n",
       "  <tbody>\n",
       "    <tr>\n",
       "      <th>0</th>\n",
       "      <td>unknown</td>\n",
       "      <td>NaN</td>\n",
       "    </tr>\n",
       "    <tr>\n",
       "      <th>1</th>\n",
       "      <td>C</td>\n",
       "      <td>C85</td>\n",
       "    </tr>\n",
       "    <tr>\n",
       "      <th>2</th>\n",
       "      <td>unknown</td>\n",
       "      <td>NaN</td>\n",
       "    </tr>\n",
       "    <tr>\n",
       "      <th>3</th>\n",
       "      <td>C</td>\n",
       "      <td>C123</td>\n",
       "    </tr>\n",
       "    <tr>\n",
       "      <th>4</th>\n",
       "      <td>unknown</td>\n",
       "      <td>NaN</td>\n",
       "    </tr>\n",
       "  </tbody>\n",
       "</table>\n",
       "</div>"
      ],
      "text/plain": [
       "      Deck Cabin\n",
       "0  unknown   NaN\n",
       "1        C   C85\n",
       "2  unknown   NaN\n",
       "3        C  C123\n",
       "4  unknown   NaN"
      ]
     },
     "execution_count": 169,
     "metadata": {},
     "output_type": "execute_result"
    }
   ],
   "source": [
    "titanic_dataframe[[\"Deck\",\"Cabin\"]].head()\n",
    "# prints to check if it works"
   ]
  },
  {
   "cell_type": "code",
   "execution_count": 170,
   "metadata": {},
   "outputs": [
    {
     "data": {
      "text/plain": [
       "unknown    687\n",
       "C           59\n",
       "B           47\n",
       "D           33\n",
       "E           32\n",
       "A           15\n",
       "F           13\n",
       "G            4\n",
       "T            1\n",
       "Name: Deck, dtype: int64"
      ]
     },
     "execution_count": 170,
     "metadata": {},
     "output_type": "execute_result"
    }
   ],
   "source": [
    "(titanic_dataframe[\"Deck\"]).value_counts()\n",
    "# counts each deck level on the list"
   ]
  },
  {
   "cell_type": "code",
   "execution_count": 171,
   "metadata": {},
   "outputs": [
    {
     "data": {
      "text/plain": [
       "<matplotlib.text.Text at 0x26828e3a9b0>"
      ]
     },
     "execution_count": 171,
     "metadata": {},
     "output_type": "execute_result"
    },
    {
     "data": {
      "image/png": "[encoded data removed]",
      "text/plain": [
       "<matplotlib.figure.Figure at 0x26827c7c240>"
      ]
     },
     "metadata": {},
     "output_type": "display_data"
    }
   ],
   "source": [
    "sns.factorplot(x=\"Deck\",data= titanic_dataframe,kind=\"count\", palette=\"Set1\", aspect = 2, \n",
    "               hue = \"Pclass\", order = [\"A\",\"B\", \"C\", \"D\", \"E\", \"F\", \"G\", \"unknown\"])\n",
    "plt.ylabel(\"Number of Cabins Occupied by Passengers\")\n",
    "plt.xlabel(\"Deck Level Letter\")\n",
    "plt.title(\"Passenger Class (SES) on each Deck Level of Titanic\")"
   ]
  },
  {
   "cell_type": "markdown",
   "metadata": {},
   "source": [
    "#### Conclusion:\n",
    "\n",
    "Unfortunatelly, TOO MUCH data is missing. As it was mentionned above, mostly the data for First Class cabins is available.\n",
    "\n",
    "For sure, the deck level should be somehow related to the passenger class, so how it was located on Titanic?"
   ]
  },
  {
   "cell_type": "code",
   "execution_count": 172,
   "metadata": {},
   "outputs": [
    {
     "data": {
      "text/html": [
       "<img src=\"https://i.pinimg.com/600x315/dd/a4/49/dda4498b1eebd33411b4b1b5b14774d6.jpg\"/>"
      ],
      "text/plain": [
       "<IPython.core.display.Image object>"
      ]
     },
     "execution_count": 172,
     "metadata": {},
     "output_type": "execute_result"
    }
   ],
   "source": [
    "# The figure shows the deck plan of Titanic \n",
    "\n",
    "Image(url='https://i.pinimg.com/600x315/dd/a4/49/dda4498b1eebd33411b4b1b5b14774d6.jpg')"
   ]
  },
  {
   "cell_type": "markdown",
   "metadata": {},
   "source": [
    "This figure shows that Third class passengers were separated into two blocks of cabins on the ship.\n",
    "On this web site: https://www.encyclopedia-titanica.org/fatal-journey-third-class-men.html) I've found some very useful explanation:\n",
    "\n",
    "Single women and families with children were quartered in the extreme after end of the stern from D Deck down to G, far from the forward end of the bow on the starboard side of the ship where the collision occurred. \n",
    "    \n",
    "Third Class passengers residing in the forward quarters—overwhelmingly single men, along with a relatively small number of childless couples.\n",
    "\n",
    "So, I will use this information to fill the missing values in the \"Deck\" column."
   ]
  },
  {
   "cell_type": "code",
   "execution_count": 173,
   "metadata": {
    "collapsed": true
   },
   "outputs": [],
   "source": [
    "def deck_by_class(deck_values):\n",
    "    \"\"\"\n",
    "    This function takes the data on deck, family and passenger class  as inputs. \n",
    "    For the missing values which were filled with the string \"unknown\" \n",
    "    it returns values based on passenger class, title and family members (sibsp and parch) information.    \n",
    "    The format is \"DeckLetter  + PassengerClass + (bow/stern, only for the Third Class)\"\n",
    "    \"deck_random\" is keeping the info of the Deck for each passenger\n",
    "    \"\"\"        \n",
    "    deck,p_class,title,parch,spouse = deck_values\n",
    "    \n",
    "    # All existing Deck values should be adapted \n",
    "    # to the new format \"DeckLetter + PassengerClass\"\n",
    "    \n",
    "    if deck == \"D\":\n",
    "        if p_class == 1:        \n",
    "            deck_random = 'D1'\n",
    "            \n",
    "        elif p_class == 2:        \n",
    "            deck_random = \"D2\"\n",
    "    \n",
    "\n",
    "    elif deck == \"E\":\n",
    "        if p_class == 1:        \n",
    "            deck_random = 'E1'\n",
    "            \n",
    "        elif p_class == 2:        \n",
    "            deck_random = \"E2\"\n",
    "                      \n",
    "        elif p_class == 3:\n",
    "            \n",
    "            if title != \"Mr\":\n",
    "                if title == \"Mrs\" and parch == 0 and spouse == 1: # Only spouses in couples without children\n",
    "                    deck_random = 'E3 bow'\n",
    "                else:\n",
    "                    deck_random = 'E3 stern'\n",
    "            else:\n",
    "                if title == \"Mr\" and parch >0: # Only Mr with family could go to the stern part\n",
    "                    deck_random = 'E3 stern'\n",
    "                else:\n",
    "                    deck_random = 'E3 bow'\n",
    "   \n",
    "            \n",
    "    elif deck == \"F\" or deck == \"G\":\n",
    "        if p_class == 2:        \n",
    "            deck_random = deck+\"2\"\n",
    "        else: \n",
    "            if title != \"Mr\":\n",
    "                if title == \"Mrs\" and parch == 0 and spouse == 1: # Only spouses in couples without children\n",
    "                    deck_random = deck+'3 bow'\n",
    "                else:\n",
    "                    deck_random = deck+'3 stern'\n",
    "            else:\n",
    "                if title == \"Mr\" and parch >0: # Only Mr with family could go to the stern part\n",
    "                    deck_random = deck+'3 stern'\n",
    "                else:\n",
    "                    deck_random = deck+'3 bow'       \n",
    "           \n",
    "    # Secondly, all unknown Deck values should be attribuited randomly  \n",
    "    # the format is \"DeckLetter  + PassengerClass + (bow/stern, only for the Third Class)\"\n",
    "    \n",
    "    elif deck == \"unknown\":\n",
    "        if p_class == 1:        \n",
    "            deck_random = random.choice(['B1', 'C1', 'D1'])\n",
    "            \n",
    "        elif p_class == 2:        \n",
    "            deck_random = random.choice(['E2', 'F2', 'D2'])\n",
    "            \n",
    "        elif p_class == 3:\n",
    "            if title != \"Mr\":\n",
    "                if title == \"Mrs\" and parch == 0 and spouse == 1: # Only spouses in couples without children\n",
    "                    deck_random = random.choice(['D3 bow','E3 bow', 'F3 bow', 'G3 bow'])\n",
    "                else:\n",
    "                    deck_random = random.choice(['D3 stern','E3 stern', 'F3 stern', 'G3 stern'])\n",
    "            else:\n",
    "                if title == \"Mr\" and parch >0:# Only Mr with family could be in the stern part\n",
    "                    deck_random = random.choice(['D3 stern','E3 stern', 'F3 stern', 'G3 stern'])\n",
    "                else:\n",
    "                    deck_random = random.choice(['D3 bow','E3 bow', 'F3 bow', 'G3 bow'])       \n",
    "\n",
    "            \n",
    "    else:\n",
    "        deck_random = deck+\"1\"\n",
    "        print(deck_random)\n",
    "    \n",
    "    return deck_random"
   ]
  },
  {
   "cell_type": "code",
   "execution_count": 174,
   "metadata": {},
   "outputs": [
    {
     "name": "stdout",
     "output_type": "stream",
     "text": [
      "C1\n",
      "C1\n",
      "C1\n",
      "A1\n",
      "C1\n",
      "B1\n",
      "B1\n",
      "C1\n",
      "B1\n",
      "C1\n",
      "C1\n",
      "A1\n",
      "C1\n",
      "B1\n",
      "C1\n",
      "B1\n",
      "C1\n",
      "B1\n",
      "A1\n",
      "C1\n",
      "A1\n",
      "B1\n",
      "B1\n",
      "A1\n",
      "C1\n",
      "C1\n",
      "C1\n",
      "C1\n",
      "B1\n",
      "B1\n",
      "C1\n",
      "C1\n",
      "C1\n",
      "A1\n",
      "B1\n",
      "C1\n",
      "C1\n",
      "B1\n",
      "C1\n",
      "C1\n",
      "C1\n",
      "B1\n",
      "C1\n",
      "C1\n",
      "B1\n",
      "C1\n",
      "C1\n",
      "C1\n",
      "T1\n",
      "C1\n",
      "C1\n",
      "B1\n",
      "C1\n",
      "B1\n",
      "C1\n",
      "C1\n",
      "B1\n",
      "C1\n",
      "A1\n",
      "C1\n",
      "C1\n",
      "C1\n",
      "A1\n",
      "B1\n",
      "C1\n",
      "B1\n",
      "C1\n",
      "C1\n",
      "B1\n",
      "C1\n",
      "B1\n",
      "B1\n",
      "C1\n",
      "B1\n",
      "B1\n",
      "B1\n",
      "C1\n",
      "C1\n",
      "A1\n",
      "C1\n",
      "C1\n",
      "A1\n",
      "B1\n",
      "A1\n",
      "C1\n",
      "A1\n",
      "B1\n",
      "B1\n",
      "A1\n",
      "C1\n",
      "B1\n",
      "B1\n",
      "B1\n",
      "B1\n",
      "C1\n",
      "C1\n",
      "C1\n",
      "C1\n",
      "C1\n",
      "C1\n",
      "B1\n",
      "B1\n",
      "C1\n",
      "B1\n",
      "B1\n",
      "B1\n",
      "B1\n",
      "B1\n",
      "B1\n",
      "B1\n",
      "B1\n",
      "A1\n",
      "B1\n",
      "B1\n",
      "B1\n",
      "C1\n",
      "C1\n",
      "A1\n",
      "B1\n",
      "C1\n",
      "B1\n",
      "C1\n"
     ]
    }
   ],
   "source": [
    "titanic_dataframe[\"DeckEstim\"] = titanic_dataframe[[\"Deck\",\"Pclass\",\"Title\",\"Parch\",\"SibSp\"]].apply(deck_by_class,axis=1) \n",
    "# creats a new column with more or less realistic values for missing values for the decks, \n",
    "# based on such information as pclass, title, parch and Sibsp"
   ]
  },
  {
   "cell_type": "code",
   "execution_count": 175,
   "metadata": {},
   "outputs": [
    {
     "data": {
      "text/html": [
       "<div>\n",
       "<style>\n",
       "    .dataframe thead tr:only-child th {\n",
       "        text-align: right;\n",
       "    }\n",
       "\n",
       "    .dataframe thead th {\n",
       "        text-align: left;\n",
       "    }\n",
       "\n",
       "    .dataframe tbody tr th {\n",
       "        vertical-align: top;\n",
       "    }\n",
       "</style>\n",
       "<table border=\"1\" class=\"dataframe\">\n",
       "  <thead>\n",
       "    <tr style=\"text-align: right;\">\n",
       "      <th></th>\n",
       "      <th>DeckEstim</th>\n",
       "      <th>Deck</th>\n",
       "      <th>Pclass</th>\n",
       "      <th>Title</th>\n",
       "      <th>Parch</th>\n",
       "      <th>SibSp</th>\n",
       "    </tr>\n",
       "  </thead>\n",
       "  <tbody>\n",
       "    <tr>\n",
       "      <th>0</th>\n",
       "      <td>G3 bow</td>\n",
       "      <td>unknown</td>\n",
       "      <td>3</td>\n",
       "      <td>Mr</td>\n",
       "      <td>0</td>\n",
       "      <td>1</td>\n",
       "    </tr>\n",
       "    <tr>\n",
       "      <th>1</th>\n",
       "      <td>C1</td>\n",
       "      <td>C</td>\n",
       "      <td>1</td>\n",
       "      <td>Mrs</td>\n",
       "      <td>0</td>\n",
       "      <td>1</td>\n",
       "    </tr>\n",
       "    <tr>\n",
       "      <th>2</th>\n",
       "      <td>E3 stern</td>\n",
       "      <td>unknown</td>\n",
       "      <td>3</td>\n",
       "      <td>Miss</td>\n",
       "      <td>0</td>\n",
       "      <td>0</td>\n",
       "    </tr>\n",
       "    <tr>\n",
       "      <th>3</th>\n",
       "      <td>C1</td>\n",
       "      <td>C</td>\n",
       "      <td>1</td>\n",
       "      <td>Mrs</td>\n",
       "      <td>0</td>\n",
       "      <td>1</td>\n",
       "    </tr>\n",
       "    <tr>\n",
       "      <th>4</th>\n",
       "      <td>F3 bow</td>\n",
       "      <td>unknown</td>\n",
       "      <td>3</td>\n",
       "      <td>Mr</td>\n",
       "      <td>0</td>\n",
       "      <td>0</td>\n",
       "    </tr>\n",
       "  </tbody>\n",
       "</table>\n",
       "</div>"
      ],
      "text/plain": [
       "  DeckEstim     Deck  Pclass Title  Parch  SibSp\n",
       "0    G3 bow  unknown       3    Mr      0      1\n",
       "1        C1        C       1   Mrs      0      1\n",
       "2  E3 stern  unknown       3  Miss      0      0\n",
       "3        C1        C       1   Mrs      0      1\n",
       "4    F3 bow  unknown       3    Mr      0      0"
      ]
     },
     "execution_count": 175,
     "metadata": {},
     "output_type": "execute_result"
    }
   ],
   "source": [
    "titanic_dataframe[[\"DeckEstim\",\"Deck\",\"Pclass\",\"Title\",\"Parch\",\"SibSp\"]].head()\n",
    "# check if new values are as expected"
   ]
  },
  {
   "cell_type": "code",
   "execution_count": 176,
   "metadata": {},
   "outputs": [
    {
     "data": {
      "text/plain": [
       "<matplotlib.text.Text at 0x26827bd2160>"
      ]
     },
     "execution_count": 176,
     "metadata": {},
     "output_type": "execute_result"
    },
    {
     "data": {
      "image/png": "[encoded data removed]",
      "text/plain": [
       "<matplotlib.figure.Figure at 0x26828ee8630>"
      ]
     },
     "metadata": {},
     "output_type": "display_data"
    }
   ],
   "source": [
    "\n",
    "sns.factorplot(x=\"DeckEstim\",data= titanic_dataframe,kind=\"count\", palette=\"Set2\", aspect = 3, \n",
    "               hue = \"Pclass\", order = [\"D3 stern\",\"E3 stern\", \"F3 stern\",\"G3 stern\",\n",
    "                                        \"D2\",\"E2\", \"F2\",\n",
    "                                        \"T1\",\"A1\",\"B1\", \"C1\", \"D1\", \"E1\",\n",
    "                                        \"D3 bow\",\"E3 bow\",\"F3 bow\", \"G3 bow\",])\n",
    "plt.ylabel(\"Number of Occupied Cabins \")\n",
    "plt.xlabel(\"Deck Level (Passenger Class is indicated by digit)\")\n",
    "plt.title(\"Deck Level occupation by SES (Socio-Economic Status) on Titanic\")"
   ]
  },
  {
   "cell_type": "markdown",
   "metadata": {},
   "source": [
    "#### Limitations:\n",
    "\n",
    "It seems logical that Decks occupation of the bow part was higher, as it will be shown further, the number of single men in the Third class was higher than it was for other demographic groups, but  much deeper analysis of Deck plans and other historical data, as well as, some better model is needed to make Deck level occupancy more consistent.\n",
    "\n",
    "For now, we can limit our analysis by creating some kind of \"Block\" for each cabin/deck location, as it shown on the figure of Titanic deck plans above. The \"Block\" order is the same is on the figure, from stern on the left side to bow on the right side.\n",
    "\n",
    "On my opinion, there should not be a great difference of access to the \"BoatDeck\" for different decks inside the same passenger class.\n",
    "\n",
    "So, for the \"Block\" = 3 wich is the First Class passengers, the acces was really easy.\n",
    "\n",
    "For the \"Block\" = 2 wich is for the Second Class passengers, the acces was more distant, but still reasonably easy.\n",
    "\n",
    "Block 1: extreme stern occupied by Third Class: mostly single women and families,\n",
    "Block 4: extreme bow occupied by Third Class: mostly single men\n",
    "\n",
    "It is certain, that for the Third Class passengers the acces to the BoatDeck was not easy at all .\n",
    "On this web site : https://www.encyclopedia-titanica.org/community/threads/deck-restrictions-3rd-class.5074/ we can read the following:\n",
    "\n",
    "    In order to prevent the spread of infectious disease, American law prohibted \n",
    "    third class passenegers from entering the public areas of the upper two classes, \n",
    "    including deck space. \n",
    "\n",
    "So, even on the structure level it was not previewed to give an easy acces for the third class passengers to the lifeboat deck.\n",
    "\n",
    "Also, considering the model of Titanic sinking, the bow was the damaged part and, for sure, it was more noticible for those passengers that something was going wrong.\n",
    "\n",
    "That is why, separation by \"Block\" principle may give more clear understanding of factors of surviving, than cabin numbers or deck levels alone."
   ]
  },
  {
   "cell_type": "code",
   "execution_count": 177,
   "metadata": {
    "collapsed": true
   },
   "outputs": [],
   "source": [
    "titanic_dataframe[\"Block\"] = titanic_dataframe.DeckEstim.map({\"T1\": 3, \"A1\": 3,\"B1\": 3,\"C1\": 3,\"D1\": 3,\"E1\": 3,\n",
    "                                                             \"D2\": 2,\"E2\": 2,\"F2\": 2,\n",
    "                                                             \"D3 bow\": 4,\"E3 bow\": 4,\"F3 bow\": 4,\"G3 bow\": 4,\n",
    "                                                             \"D3 stern\": 1,\"E3 stern\": 1,\"F3 stern\": 1,\"G3 stern\": 1})"
   ]
  },
  {
   "cell_type": "code",
   "execution_count": 178,
   "metadata": {},
   "outputs": [
    {
     "data": {
      "text/plain": [
       "<matplotlib.text.Text at 0x268291f6d68>"
      ]
     },
     "execution_count": 178,
     "metadata": {},
     "output_type": "execute_result"
    },
    {
     "data": {
      "image/png": "[encoded data removed]",
      "text/plain": [
       "<matplotlib.figure.Figure at 0x26827c64400>"
      ]
     },
     "metadata": {},
     "output_type": "display_data"
    }
   ],
   "source": [
    "sns.factorplot(x=\"Block\",data=titanic_dataframe,kind=\"count\",aspect = 2,palette = \"Set1\") \n",
    "# The number of passengers in each Block of cabins\n",
    "plt.xlabel(\"Block Number: \\n 1: extreme stern occupied by Third Class: mostly single women and families,\\n  2: slightly to the stern occupied by Second Class,\\n  3: in the middle occupied by First Class, \\n 4: extreme bow occupied by Third Class: mostly single men\")\n",
    "plt.ylabel(\"Number of Passengers\")\n",
    "plt.title(\"Number of Titanic's Passengers in Each Block of Cabins\")"
   ]
  },
  {
   "cell_type": "markdown",
   "metadata": {},
   "source": [
    "#### New columns may be created to give some better readability for the data.\n",
    "\n",
    "\"Survivability\"  provides \"Survivor\" or \"Victim\" instead of 0 and 1 in the original column \"Survived\"\n",
    "\n",
    "\"SES\"  gives more detailed description for each class instead 1-2-3 in \"Pclass\"\n",
    "\n",
    "\"Port\" shows the whole name of each port instead of its first letter only in \"Embarked\"\n",
    "\n",
    "\"FamilyMembers\" provides the total number of family members aboard for each passenger as \"SibSp\" + \"Parch\" \n",
    "\n",
    "\"Demography\" introduces a new classification as boy/girl, man/woman and elder man/woman after it combines age/sex info for each passenger\n",
    "\n",
    "\"Deck\" gives the info about the deck level based on Cabin info \n",
    "\n",
    "\"Block\" gives a reference of cabin blocks based on Titanic Deck Plans figure and Pclass, Title and FamilyMembers (it was explained previously)"
   ]
  },
  {
   "cell_type": "code",
   "execution_count": 179,
   "metadata": {
    "collapsed": true
   },
   "outputs": [],
   "source": [
    "titanic_dataframe[\"Survivability\"] = titanic_dataframe.Survived.map({0: \"Victim\", 1: \"Survivor\"}) "
   ]
  },
  {
   "cell_type": "code",
   "execution_count": 180,
   "metadata": {
    "collapsed": true
   },
   "outputs": [],
   "source": [
    "titanic_dataframe[\"SES\"] = titanic_dataframe.Pclass.map({ 1: \"1 (Upper Class)\", 2: \"2 (Middle Class)\", 3: \"3 (Lower Class)\"})"
   ]
  },
  {
   "cell_type": "code",
   "execution_count": 181,
   "metadata": {
    "collapsed": true
   },
   "outputs": [],
   "source": [
    "titanic_dataframe[\"Port\"] = titanic_dataframe.Embarked.map({ \"S\": \"Southampton\", \"C\": \"Cherbourg\", \"Q\": \"Queenstown\"})"
   ]
  },
  {
   "cell_type": "code",
   "execution_count": 182,
   "metadata": {
    "collapsed": true
   },
   "outputs": [],
   "source": [
    "titanic_dataframe[\"FamilyMembers\"] = titanic_dataframe[\"SibSp\"] + titanic_dataframe[\"Parch\"]\n",
    "# creates a column with the information about the number of family members aboard"
   ]
  },
  {
   "cell_type": "markdown",
   "metadata": {},
   "source": [
    "Being aware of \"Women and children first\" policy, the \"Demography\" column may be inetersting, becuse the original data set gives only two separated columns of age and sex."
   ]
  },
  {
   "cell_type": "code",
   "execution_count": 183,
   "metadata": {
    "collapsed": true
   },
   "outputs": [],
   "source": [
    "def demography(passenger):\n",
    "    \"\"\"\n",
    "    This function takes age and sex values as inputs and returns a new \n",
    "    classifications as boy/girl (for ages <15)  or elder man/woman (ages>60)\n",
    "    It returns sex for people with ages between 15 and 60\n",
    "    The age of 15 was choosen arbitrary, because of the lack of information about the \"child age\" definition for that time.\n",
    "    \"\"\"\n",
    "    age,sex = passenger\n",
    "    \n",
    "    if age <15:\n",
    "        if sex == \"male\":\n",
    "            return \"boy\"\n",
    "        else:\n",
    "            return \"girl\"\n",
    "    elif age >60:\n",
    "        if sex == \"male\":\n",
    "            return \"elder man\"\n",
    "        else:\n",
    "            return \"elder woman\"        \n",
    "    else:\n",
    "        if sex == \"male\":\n",
    "            return \"man\"\n",
    "        else:\n",
    "            return \"woman\"  "
   ]
  },
  {
   "cell_type": "code",
   "execution_count": 184,
   "metadata": {
    "collapsed": true
   },
   "outputs": [],
   "source": [
    "titanic_dataframe[\"Demography\"]=titanic_dataframe[[\"AgeEstim\",\"Sex\"]].apply(demography,axis=1) \n",
    "# separates children, elders, and women/men"
   ]
  },
  {
   "cell_type": "markdown",
   "metadata": {},
   "source": [
    "############################################################################################################"
   ]
  },
  {
   "cell_type": "markdown",
   "metadata": {},
   "source": [
    "\n",
    "\n",
    "## Exploration phase:\n",
    "\n",
    "The original data set does not seem to be somehow ordered. \n",
    "\n",
    "Ordering by Class and by Name gives some additional information, e.i. groups of people with the same family name will be formed.\n",
    "\n",
    "In addition, after titanic_dataframe is sorted this way, plots also become more logically organized."
   ]
  },
  {
   "cell_type": "code",
   "execution_count": 185,
   "metadata": {},
   "outputs": [
    {
     "data": {
      "text/html": [
       "<div>\n",
       "<style>\n",
       "    .dataframe thead tr:only-child th {\n",
       "        text-align: right;\n",
       "    }\n",
       "\n",
       "    .dataframe thead th {\n",
       "        text-align: left;\n",
       "    }\n",
       "\n",
       "    .dataframe tbody tr th {\n",
       "        vertical-align: top;\n",
       "    }\n",
       "</style>\n",
       "<table border=\"1\" class=\"dataframe\">\n",
       "  <thead>\n",
       "    <tr style=\"text-align: right;\">\n",
       "      <th></th>\n",
       "      <th>Survivability</th>\n",
       "      <th>SES</th>\n",
       "      <th>Name</th>\n",
       "      <th>AgeEstim</th>\n",
       "      <th>Demography</th>\n",
       "      <th>FamilyMembers</th>\n",
       "      <th>Block</th>\n",
       "    </tr>\n",
       "  </thead>\n",
       "  <tbody>\n",
       "    <tr>\n",
       "      <th>730</th>\n",
       "      <td>Survivor</td>\n",
       "      <td>1 (Upper Class)</td>\n",
       "      <td>Allen, Miss. Elisabeth Walton</td>\n",
       "      <td>29.00</td>\n",
       "      <td>woman</td>\n",
       "      <td>0</td>\n",
       "      <td>3</td>\n",
       "    </tr>\n",
       "    <tr>\n",
       "      <th>305</th>\n",
       "      <td>Survivor</td>\n",
       "      <td>1 (Upper Class)</td>\n",
       "      <td>Allison, Master. Hudson Trevor</td>\n",
       "      <td>0.92</td>\n",
       "      <td>boy</td>\n",
       "      <td>3</td>\n",
       "      <td>3</td>\n",
       "    </tr>\n",
       "    <tr>\n",
       "      <th>297</th>\n",
       "      <td>Victim</td>\n",
       "      <td>1 (Upper Class)</td>\n",
       "      <td>Allison, Miss. Helen Loraine</td>\n",
       "      <td>2.00</td>\n",
       "      <td>girl</td>\n",
       "      <td>3</td>\n",
       "      <td>3</td>\n",
       "    </tr>\n",
       "    <tr>\n",
       "      <th>498</th>\n",
       "      <td>Victim</td>\n",
       "      <td>1 (Upper Class)</td>\n",
       "      <td>Allison, Mrs. Hudson J C (Bessie Waldo Daniels)</td>\n",
       "      <td>25.00</td>\n",
       "      <td>woman</td>\n",
       "      <td>3</td>\n",
       "      <td>3</td>\n",
       "    </tr>\n",
       "    <tr>\n",
       "      <th>460</th>\n",
       "      <td>Survivor</td>\n",
       "      <td>1 (Upper Class)</td>\n",
       "      <td>Anderson, Mr. Harry</td>\n",
       "      <td>48.00</td>\n",
       "      <td>man</td>\n",
       "      <td>0</td>\n",
       "      <td>3</td>\n",
       "    </tr>\n",
       "    <tr>\n",
       "      <th>275</th>\n",
       "      <td>Survivor</td>\n",
       "      <td>1 (Upper Class)</td>\n",
       "      <td>Andrews, Miss. Kornelia Theodosia</td>\n",
       "      <td>63.00</td>\n",
       "      <td>elder woman</td>\n",
       "      <td>1</td>\n",
       "      <td>3</td>\n",
       "    </tr>\n",
       "    <tr>\n",
       "      <th>806</th>\n",
       "      <td>Victim</td>\n",
       "      <td>1 (Upper Class)</td>\n",
       "      <td>Andrews, Mr. Thomas Jr</td>\n",
       "      <td>39.00</td>\n",
       "      <td>man</td>\n",
       "      <td>0</td>\n",
       "      <td>3</td>\n",
       "    </tr>\n",
       "    <tr>\n",
       "      <th>571</th>\n",
       "      <td>Survivor</td>\n",
       "      <td>1 (Upper Class)</td>\n",
       "      <td>Appleton, Mrs. Edward Dale (Charlotte Lamson)</td>\n",
       "      <td>53.00</td>\n",
       "      <td>woman</td>\n",
       "      <td>2</td>\n",
       "      <td>3</td>\n",
       "    </tr>\n",
       "    <tr>\n",
       "      <th>493</th>\n",
       "      <td>Victim</td>\n",
       "      <td>1 (Upper Class)</td>\n",
       "      <td>Artagaveytia, Mr. Ramon</td>\n",
       "      <td>71.00</td>\n",
       "      <td>elder man</td>\n",
       "      <td>0</td>\n",
       "      <td>3</td>\n",
       "    </tr>\n",
       "    <tr>\n",
       "      <th>700</th>\n",
       "      <td>Survivor</td>\n",
       "      <td>1 (Upper Class)</td>\n",
       "      <td>Astor, Mrs. John Jacob (Madeleine Talmadge Force)</td>\n",
       "      <td>18.00</td>\n",
       "      <td>woman</td>\n",
       "      <td>1</td>\n",
       "      <td>3</td>\n",
       "    </tr>\n",
       "  </tbody>\n",
       "</table>\n",
       "</div>"
      ],
      "text/plain": [
       "    Survivability              SES  \\\n",
       "730      Survivor  1 (Upper Class)   \n",
       "305      Survivor  1 (Upper Class)   \n",
       "297        Victim  1 (Upper Class)   \n",
       "498        Victim  1 (Upper Class)   \n",
       "460      Survivor  1 (Upper Class)   \n",
       "275      Survivor  1 (Upper Class)   \n",
       "806        Victim  1 (Upper Class)   \n",
       "571      Survivor  1 (Upper Class)   \n",
       "493        Victim  1 (Upper Class)   \n",
       "700      Survivor  1 (Upper Class)   \n",
       "\n",
       "                                                  Name  AgeEstim   Demography  \\\n",
       "730                      Allen, Miss. Elisabeth Walton     29.00        woman   \n",
       "305                     Allison, Master. Hudson Trevor      0.92          boy   \n",
       "297                       Allison, Miss. Helen Loraine      2.00         girl   \n",
       "498    Allison, Mrs. Hudson J C (Bessie Waldo Daniels)     25.00        woman   \n",
       "460                                Anderson, Mr. Harry     48.00          man   \n",
       "275                  Andrews, Miss. Kornelia Theodosia     63.00  elder woman   \n",
       "806                             Andrews, Mr. Thomas Jr     39.00          man   \n",
       "571      Appleton, Mrs. Edward Dale (Charlotte Lamson)     53.00        woman   \n",
       "493                            Artagaveytia, Mr. Ramon     71.00    elder man   \n",
       "700  Astor, Mrs. John Jacob (Madeleine Talmadge Force)     18.00        woman   \n",
       "\n",
       "     FamilyMembers  Block  \n",
       "730              0      3  \n",
       "305              3      3  \n",
       "297              3      3  \n",
       "498              3      3  \n",
       "460              0      3  \n",
       "275              1      3  \n",
       "806              0      3  \n",
       "571              2      3  \n",
       "493              0      3  \n",
       "700              1      3  "
      ]
     },
     "execution_count": 185,
     "metadata": {},
     "output_type": "execute_result"
    }
   ],
   "source": [
    "# sorting by the values of the following columns \"SES\",\"Name\"\n",
    "titanic_dataframe = titanic_dataframe.sort_values([\"SES\",\"Name\"])\n",
    "# taking only a few columns to be analysed\n",
    "partial_df = titanic_dataframe[[\"Survivability\",\"SES\",\"Name\",\"AgeEstim\",\"Demography\",\"FamilyMembers\",\"Block\"]]\n",
    "partial_df.head(10)"
   ]
  },
  {
   "cell_type": "markdown",
   "metadata": {},
   "source": [
    "#### VERY INTERESTING Women Names:\n",
    "\n",
    "I found that some women names are very interesting, e.g. \"Allison, Mrs. Hudson J C (Bessie Waldo Daniels)\"\n",
    "\n",
    "Here is an explanation about married women names of that time:\n",
    "\n",
    "Woman legal existence as an individual was suspended under ‘marital unity,’ a legal fiction in which the husband and wife were considered a single entity: the husband. As such, when married the wife would assume her husband’s name to become Mrs. his name. \n",
    "\n",
    "Source: https://www.huffingtonpost.com/joni-erdmann/why-are-women-still-chang_b_8486370.html"
   ]
  },
  {
   "cell_type": "code",
   "execution_count": 186,
   "metadata": {},
   "outputs": [
    {
     "data": {
      "text/plain": [
       "<matplotlib.text.Text at 0x2682929b438>"
      ]
     },
     "execution_count": 186,
     "metadata": {},
     "output_type": "execute_result"
    },
    {
     "data": {
      "image/png": "[encoded data removed]",
      "text/plain": [
       "<matplotlib.figure.Figure at 0x268291ea4e0>"
      ]
     },
     "metadata": {},
     "output_type": "display_data"
    }
   ],
   "source": [
    "sns.factorplot(x=\"SES\",data=titanic_dataframe,kind=\"count\",aspect = 2, \n",
    "               palette = \"summer\", order = [\"1 (Upper Class)\",\"2 (Middle Class)\",\"3 (Lower Class)\"]) \n",
    "# SES of passengers of Titanic\n",
    "\n",
    "plt.xlabel(\"Socio-Economic Status (SES)\")\n",
    "plt.ylabel(\"Number of Passengers\")\n",
    "plt.title(\"Titanic's Passengers by their Socio-Economic Status (SES)\")"
   ]
  },
  {
   "cell_type": "code",
   "execution_count": 187,
   "metadata": {},
   "outputs": [
    {
     "data": {
      "text/plain": [
       "3 (Lower Class)     491\n",
       "1 (Upper Class)     216\n",
       "2 (Middle Class)    184\n",
       "Name: SES, dtype: int64"
      ]
     },
     "execution_count": 187,
     "metadata": {},
     "output_type": "execute_result"
    }
   ],
   "source": [
    "titanic_dataframe[\"SES\"].value_counts() \n",
    "# precise number of each class passengers"
   ]
  },
  {
   "cell_type": "markdown",
   "metadata": {},
   "source": [
    "#### Conclusion:\n",
    "\n",
    "The most of Titanic's passengers were the 3 (Lower Class). The number of lower class passenger was more than double of those of two other classes.\n",
    "\n",
    "#### New question:\n",
    "\n",
    "We know, that after leaving Southampton on 10 April 1912, Titanic called at Cherbourg in France and Queenstown (now Cobh) in Ireland before heading west to New York. \n",
    "\n",
    "So, using our data, we will try to better understand how many passengers embarked in each city and who were they."
   ]
  },
  {
   "cell_type": "code",
   "execution_count": 188,
   "metadata": {},
   "outputs": [
    {
     "data": {
      "text/plain": [
       "<matplotlib.text.Text at 0x268293357f0>"
      ]
     },
     "execution_count": 188,
     "metadata": {},
     "output_type": "execute_result"
    },
    {
     "data": {
      "image/png": "[encoded data removed]",
      "text/plain": [
       "<matplotlib.figure.Figure at 0x268292d1780>"
      ]
     },
     "metadata": {},
     "output_type": "display_data"
    }
   ],
   "source": [
    "sns.factorplot(x=\"Port\",data=titanic_dataframe,kind=\"count\",aspect = 2,palette = \"winter\") \n",
    "# The number of passengers embarked in each port\n",
    "plt.xlabel(\"Port Name\")\n",
    "plt.ylabel(\"Number of passengers\")\n",
    "plt.title(\"Titanic's passengers taken aboard in each port\")"
   ]
  },
  {
   "cell_type": "code",
   "execution_count": 189,
   "metadata": {},
   "outputs": [
    {
     "data": {
      "text/plain": [
       "Southampton    644\n",
       "Cherbourg      168\n",
       "Queenstown      77\n",
       "Name: Port, dtype: int64"
      ]
     },
     "execution_count": 189,
     "metadata": {},
     "output_type": "execute_result"
    }
   ],
   "source": [
    "titanic_dataframe[\"Port\"].value_counts()\n",
    "# number of passengers embarked in each port"
   ]
  },
  {
   "cell_type": "markdown",
   "metadata": {},
   "source": [
    "#### Conclusion: \n",
    "Wow, such a big difference in numbers... Why it has happend?\n",
    "\n",
    "One of the possible explanations is that the dock facilities in Cherbourg as well as in Queenstown were not suitable for a ship of Titanic's size, and tenders were used to bring passengers aboard. (Source: Wikipedia).\n",
    "\n",
    "So, maybe, those cities were not developped enough and their citizens had no enough money to pay a trip.\n",
    "\n",
    "#### Question:\n",
    "\n",
    "What about social and economic status of the passengers embarked in each city?"
   ]
  },
  {
   "cell_type": "code",
   "execution_count": 190,
   "metadata": {},
   "outputs": [
    {
     "data": {
      "text/plain": [
       "<matplotlib.text.Text at 0x268293d92b0>"
      ]
     },
     "execution_count": 190,
     "metadata": {},
     "output_type": "execute_result"
    },
    {
     "data": {
      "image/png": "[encoded data removed]",
      "text/plain": [
       "<matplotlib.figure.Figure at 0x2682937f828>"
      ]
     },
     "metadata": {},
     "output_type": "display_data"
    }
   ],
   "source": [
    "sns.factorplot(x=\"Port\",data=titanic_dataframe,kind=\"count\",hue=\"SES\", \n",
    "               aspect = 3,palette = \"spring\") \n",
    "# Shows social and economics aspects of the passengers embarked in each city\n",
    "plt.xlabel(\"Port Name and Socio-Economic Status (SES) of the Passengers\")\n",
    "plt.ylabel(\"Number of Passengers\")\n",
    "plt.title(\"Titanic's Passengers by Their Socio-Economic Status (SES) and the Embarkment Port\")"
   ]
  },
  {
   "cell_type": "code",
   "execution_count": 191,
   "metadata": {},
   "outputs": [
    {
     "data": {
      "text/plain": [
       "<matplotlib.text.Text at 0x268294a6240>"
      ]
     },
     "execution_count": 191,
     "metadata": {},
     "output_type": "execute_result"
    },
    {
     "data": {
      "image/png": "[encoded data removed]",
      "text/plain": [
       "<matplotlib.figure.Figure at 0x2682943d748>"
      ]
     },
     "metadata": {},
     "output_type": "display_data"
    }
   ],
   "source": [
    "sns.factorplot(x=\"SES\",data= titanic_dataframe,y=\"AgeEstim\",hue=\"Sex\", kind=\"violin\",\n",
    "               split=True, order = [\"1 (Upper Class)\",\"2 (Middle Class)\",\"3 (Lower Class)\"],\n",
    "               aspect=3, palette=\"Set1\")\n",
    "\"\"\"\n",
    "Demonstrates Titanic's passengers age distribution by sex and passenger class\n",
    "The idea for this factorplot comes from http://seaborn.pydata.org/tutorial/categorical.html\n",
    "\"\"\"  \n",
    "plt.ylabel(\"Passenger age, years old\")\n",
    "plt.xlabel(\"Socio-Economic Status (SES)\")\n",
    "plt.title(\"Titanic's passengers age distribuition by sex for each socio-economic status (SES)\")"
   ]
  },
  {
   "cell_type": "markdown",
   "metadata": {},
   "source": [
    "#### Conclusion:\n",
    "\n",
    "Overall, it seems that there were a lot of young people and young families aboard, beacause of the number of young kids and even babies. The most part of adults were aged between 20 - 40 years, with a small number of passengers older than 60.\n",
    "\n",
    "Middle and Lower Class passnegers have similar age distribuitions. Their main difference is the averege age. Upper class passsenger´s average age was about 40 years old and there were not a lot of children. Upper class women in average were younger than the Upper Class men.\n",
    "\n",
    "The most part of Lower Class passengers were younger (average age of 20 years) than those from Middle Class ((average age of 30 years). Middle and Lower Class passnegers had no significant difference by age between men and women. \n",
    "\n",
    "\n",
    "#### Question: \n",
    "\n",
    "How many men, women, children, and elders were aboard? Let´s check some statisctics."
   ]
  },
  {
   "cell_type": "code",
   "execution_count": 192,
   "metadata": {
    "scrolled": true
   },
   "outputs": [
    {
     "data": {
      "text/plain": [
       "man            515\n",
       "woman          254\n",
       "girl            57\n",
       "boy             43\n",
       "elder man       19\n",
       "elder woman      3\n",
       "Name: Demography, dtype: int64"
      ]
     },
     "execution_count": 192,
     "metadata": {},
     "output_type": "execute_result"
    }
   ],
   "source": [
    "titanic_dataframe[\"Demography\"].value_counts() \n",
    "# counts the number of  boys, girls, elders, and women/men"
   ]
  },
  {
   "cell_type": "markdown",
   "metadata": {},
   "source": [
    "#### Conclusion:\n",
    "\n",
    "It is clear, that there were almost twice men than women aboard, while there was an equal number of boys and girls aged less than 15 years old. But there were 6 times more elder men than elder women (older than 60).\n",
    "\n",
    "#### Question: \n",
    "\n",
    "How does this varies accordinly to each passenger class?\n"
   ]
  },
  {
   "cell_type": "code",
   "execution_count": 193,
   "metadata": {},
   "outputs": [
    {
     "data": {
      "text/plain": [
       "<matplotlib.text.Text at 0x26829582be0>"
      ]
     },
     "execution_count": 193,
     "metadata": {},
     "output_type": "execute_result"
    },
    {
     "data": {
      "image/png": "[encoded data removed]",
      "text/plain": [
       "<matplotlib.figure.Figure at 0x26829447908>"
      ]
     },
     "metadata": {},
     "output_type": "display_data"
    }
   ],
   "source": [
    "#Shows how many children, elders, women/men in each passenger class\n",
    "sns.factorplot(x=\"Demography\",data=titanic_dataframe,kind=\"count\",hue ='SES', aspect = 3,\n",
    "              order = [\"boy\",\"girl\",\"man\",\"woman\",\"elder man\",\"elder woman\"])\n",
    "plt.ylabel(\"Passenger number\")\n",
    "plt.xlabel(\"Age/Sex groups by Socio-Economic Status (SES)\")\n",
    "plt.title(\"Number of Titanic's passengers by age/sex classification and their Socio-Economic Status\")\n"
   ]
  },
  {
   "cell_type": "markdown",
   "metadata": {},
   "source": [
    "#### Conclusion:\n",
    "\n",
    "There is no significant difference in the number between men and women for the upper class passengers. For the middle class passengers there were about 100 men and 60-70 women. For the lower class passenger the women were only about 35% of men's number.\n",
    "\n",
    "The most children aboard were from the lower class, only few children were from the upper class.\n",
    "\n",
    "#### Question: \n",
    "\n",
    "This diference between men and women numbers drive us to a new question: \"How many family members of each passenger were aboard?\"\n"
   ]
  },
  {
   "cell_type": "code",
   "execution_count": 194,
   "metadata": {},
   "outputs": [
    {
     "data": {
      "text/plain": [
       "<matplotlib.text.Text at 0x268297b9208>"
      ]
     },
     "execution_count": 194,
     "metadata": {},
     "output_type": "execute_result"
    },
    {
     "data": {
      "image/png": "[encoded data removed]",
      "text/plain": [
       "<matplotlib.figure.Figure at 0x268293a9e10>"
      ]
     },
     "metadata": {},
     "output_type": "display_data"
    }
   ],
   "source": [
    "titanic_dataframe[\"FamilyMembers\"].hist() # Shows how many family members of each passenger were aboard\n",
    "plt.xlabel(\"Number of family members aboard\")\n",
    "plt.ylabel(\"Number of Titanic's passengers\")\n",
    "plt.title(\"Number of family members aboard for each of Titanics passenger\")"
   ]
  },
  {
   "cell_type": "code",
   "execution_count": 195,
   "metadata": {},
   "outputs": [
    {
     "data": {
      "text/plain": [
       "0     537\n",
       "1     161\n",
       "2     102\n",
       "3      29\n",
       "5      22\n",
       "4      15\n",
       "6      12\n",
       "10      7\n",
       "7       6\n",
       "Name: FamilyMembers, dtype: int64"
      ]
     },
     "execution_count": 195,
     "metadata": {},
     "output_type": "execute_result"
    }
   ],
   "source": [
    "titanic_dataframe[\"FamilyMembers\"].value_counts()\n",
    "# number of passenger having family members aboard\n",
    "# the first column is a number of family members aboard\n",
    "# the second column is a number of passengers having that number of family members"
   ]
  },
  {
   "cell_type": "markdown",
   "metadata": {},
   "source": [
    "#### Conclusion:\n",
    "\n",
    "As expected, the majority was without any family members aboard ( 537 from 891). 161 people were with 1 family member,  102 were with 2 family members. \n",
    "\n",
    "Despite they were not in a big number, there were some very big families aboard with up to 10 family members!!!\n",
    "\n",
    "#### Question: \n",
    "\n",
    "What passenger class had bigger families aboard?\n"
   ]
  },
  {
   "cell_type": "code",
   "execution_count": 196,
   "metadata": {},
   "outputs": [
    {
     "data": {
      "text/plain": [
       "<seaborn.axisgrid.FacetGrid at 0x26829770e80>"
      ]
     },
     "execution_count": 196,
     "metadata": {},
     "output_type": "execute_result"
    },
    {
     "data": {
      "image/png": "[encoded data removed]",
      "text/plain": [
       "<matplotlib.figure.Figure at 0x26829980b00>"
      ]
     },
     "metadata": {},
     "output_type": "display_data"
    }
   ],
   "source": [
    "sns.factorplot(x=\"FamilyMembers\",data= titanic_dataframe,kind=\"count\",col='SES') \n",
    "# What passenger class had bigger families aboard?"
   ]
  },
  {
   "cell_type": "markdown",
   "metadata": {},
   "source": [
    "#### Conclusion:\n",
    "\n",
    "The passengers without any family member aboard were the majority in each class. \n",
    "\n",
    "Upper and middle class passengers had no more than 5 family members aboard. Normaly, they had up to 3 family members with them.\n",
    "\n",
    "In the 3 (Lower Class), I suppose that the larger families as well as a great number of men, were caracteristical signs of immigrants looking for better life in the USA.\n",
    "At that time, there was a booming immigrant trade between Europe and America, with most of the immigrants traveling in 3rd class – sometimes known as “Steerage.” (Source: http://cruiselinehistory.com/rms-titanic-third-class-or-steerage-passengers-aboard-the-ill-fated-liner/)\n",
    "\n",
    "#### Question: \n",
    "\n",
    "Is it correct to affirm that those without family were alone aboard? Probably, not!!! \n",
    "\n",
    "Let us check this idea by sorting the data by cabin names.\n"
   ]
  },
  {
   "cell_type": "code",
   "execution_count": 197,
   "metadata": {},
   "outputs": [
    {
     "data": {
      "text/html": [
       "<div>\n",
       "<style>\n",
       "    .dataframe thead tr:only-child th {\n",
       "        text-align: right;\n",
       "    }\n",
       "\n",
       "    .dataframe thead th {\n",
       "        text-align: left;\n",
       "    }\n",
       "\n",
       "    .dataframe tbody tr th {\n",
       "        vertical-align: top;\n",
       "    }\n",
       "</style>\n",
       "<table border=\"1\" class=\"dataframe\">\n",
       "  <thead>\n",
       "    <tr style=\"text-align: right;\">\n",
       "      <th></th>\n",
       "      <th>Cabin</th>\n",
       "      <th>Survivability</th>\n",
       "      <th>SES</th>\n",
       "      <th>Name</th>\n",
       "      <th>AgeEstim</th>\n",
       "      <th>Demography</th>\n",
       "      <th>FamilyMembers</th>\n",
       "    </tr>\n",
       "  </thead>\n",
       "  <tbody>\n",
       "    <tr>\n",
       "      <th>583</th>\n",
       "      <td>A10</td>\n",
       "      <td>Victim</td>\n",
       "      <td>1 (Upper Class)</td>\n",
       "      <td>Ross, Mr. John Hugo</td>\n",
       "      <td>36.00</td>\n",
       "      <td>man</td>\n",
       "      <td>0</td>\n",
       "    </tr>\n",
       "    <tr>\n",
       "      <th>475</th>\n",
       "      <td>A14</td>\n",
       "      <td>Victim</td>\n",
       "      <td>1 (Upper Class)</td>\n",
       "      <td>Clifford, Mr. George Quincy</td>\n",
       "      <td>48.00</td>\n",
       "      <td>man</td>\n",
       "      <td>0</td>\n",
       "    </tr>\n",
       "    <tr>\n",
       "      <th>556</th>\n",
       "      <td>A16</td>\n",
       "      <td>Survivor</td>\n",
       "      <td>1 (Upper Class)</td>\n",
       "      <td>Duff Gordon, Lady. (Lucille Christiana Sutherl...</td>\n",
       "      <td>48.00</td>\n",
       "      <td>woman</td>\n",
       "      <td>1</td>\n",
       "    </tr>\n",
       "    <tr>\n",
       "      <th>284</th>\n",
       "      <td>A19</td>\n",
       "      <td>Victim</td>\n",
       "      <td>1 (Upper Class)</td>\n",
       "      <td>Smith, Mr. Richard William</td>\n",
       "      <td>38.00</td>\n",
       "      <td>man</td>\n",
       "      <td>0</td>\n",
       "    </tr>\n",
       "    <tr>\n",
       "      <th>599</th>\n",
       "      <td>A20</td>\n",
       "      <td>Survivor</td>\n",
       "      <td>1 (Upper Class)</td>\n",
       "      <td>Duff Gordon, Sir. Cosmo Edmund (\"Mr Morgan\")</td>\n",
       "      <td>49.00</td>\n",
       "      <td>man</td>\n",
       "      <td>1</td>\n",
       "    </tr>\n",
       "    <tr>\n",
       "      <th>630</th>\n",
       "      <td>A23</td>\n",
       "      <td>Survivor</td>\n",
       "      <td>1 (Upper Class)</td>\n",
       "      <td>Barkworth, Mr. Algernon Henry Wilson</td>\n",
       "      <td>80.00</td>\n",
       "      <td>elder man</td>\n",
       "      <td>0</td>\n",
       "    </tr>\n",
       "    <tr>\n",
       "      <th>867</th>\n",
       "      <td>A24</td>\n",
       "      <td>Victim</td>\n",
       "      <td>1 (Upper Class)</td>\n",
       "      <td>Roebling, Mr. Washington Augustus II</td>\n",
       "      <td>31.00</td>\n",
       "      <td>man</td>\n",
       "      <td>0</td>\n",
       "    </tr>\n",
       "    <tr>\n",
       "      <th>647</th>\n",
       "      <td>A26</td>\n",
       "      <td>Survivor</td>\n",
       "      <td>1 (Upper Class)</td>\n",
       "      <td>Simonius-Blumer, Col. Oberst Alfons</td>\n",
       "      <td>56.00</td>\n",
       "      <td>man</td>\n",
       "      <td>0</td>\n",
       "    </tr>\n",
       "    <tr>\n",
       "      <th>209</th>\n",
       "      <td>A31</td>\n",
       "      <td>Survivor</td>\n",
       "      <td>1 (Upper Class)</td>\n",
       "      <td>Blank, Mr. Henry</td>\n",
       "      <td>40.00</td>\n",
       "      <td>man</td>\n",
       "      <td>0</td>\n",
       "    </tr>\n",
       "    <tr>\n",
       "      <th>185</th>\n",
       "      <td>A32</td>\n",
       "      <td>Victim</td>\n",
       "      <td>1 (Upper Class)</td>\n",
       "      <td>Rood, Mr. Hugh Roscoe</td>\n",
       "      <td>47.00</td>\n",
       "      <td>man</td>\n",
       "      <td>0</td>\n",
       "    </tr>\n",
       "    <tr>\n",
       "      <th>445</th>\n",
       "      <td>A34</td>\n",
       "      <td>Survivor</td>\n",
       "      <td>1 (Upper Class)</td>\n",
       "      <td>Dodge, Master. Washington</td>\n",
       "      <td>4.00</td>\n",
       "      <td>boy</td>\n",
       "      <td>2</td>\n",
       "    </tr>\n",
       "    <tr>\n",
       "      <th>806</th>\n",
       "      <td>A36</td>\n",
       "      <td>Victim</td>\n",
       "      <td>1 (Upper Class)</td>\n",
       "      <td>Andrews, Mr. Thomas Jr</td>\n",
       "      <td>39.00</td>\n",
       "      <td>man</td>\n",
       "      <td>0</td>\n",
       "    </tr>\n",
       "    <tr>\n",
       "      <th>96</th>\n",
       "      <td>A5</td>\n",
       "      <td>Victim</td>\n",
       "      <td>1 (Upper Class)</td>\n",
       "      <td>Goldschmidt, Mr. George B</td>\n",
       "      <td>71.00</td>\n",
       "      <td>elder man</td>\n",
       "      <td>0</td>\n",
       "    </tr>\n",
       "    <tr>\n",
       "      <th>23</th>\n",
       "      <td>A6</td>\n",
       "      <td>Survivor</td>\n",
       "      <td>1 (Upper Class)</td>\n",
       "      <td>Sloper, Mr. William Thompson</td>\n",
       "      <td>28.00</td>\n",
       "      <td>man</td>\n",
       "      <td>0</td>\n",
       "    </tr>\n",
       "    <tr>\n",
       "      <th>174</th>\n",
       "      <td>A7</td>\n",
       "      <td>Victim</td>\n",
       "      <td>1 (Upper Class)</td>\n",
       "      <td>Smith, Mr. James Clinch</td>\n",
       "      <td>56.00</td>\n",
       "      <td>man</td>\n",
       "      <td>0</td>\n",
       "    </tr>\n",
       "    <tr>\n",
       "      <th>737</th>\n",
       "      <td>B101</td>\n",
       "      <td>Survivor</td>\n",
       "      <td>1 (Upper Class)</td>\n",
       "      <td>Lesurer, Mr. Gustave J</td>\n",
       "      <td>35.00</td>\n",
       "      <td>man</td>\n",
       "      <td>0</td>\n",
       "    </tr>\n",
       "    <tr>\n",
       "      <th>815</th>\n",
       "      <td>B102</td>\n",
       "      <td>Victim</td>\n",
       "      <td>1 (Upper Class)</td>\n",
       "      <td>Fry, Mr. Richard</td>\n",
       "      <td>29.00</td>\n",
       "      <td>man</td>\n",
       "      <td>0</td>\n",
       "    </tr>\n",
       "    <tr>\n",
       "      <th>523</th>\n",
       "      <td>B18</td>\n",
       "      <td>Survivor</td>\n",
       "      <td>1 (Upper Class)</td>\n",
       "      <td>Hippach, Mrs. Louis Albert (Ida Sophia Fischer)</td>\n",
       "      <td>44.00</td>\n",
       "      <td>woman</td>\n",
       "      <td>1</td>\n",
       "    </tr>\n",
       "    <tr>\n",
       "      <th>329</th>\n",
       "      <td>B18</td>\n",
       "      <td>Survivor</td>\n",
       "      <td>1 (Upper Class)</td>\n",
       "      <td>Hippach, Miss. Jean Gertrude</td>\n",
       "      <td>16.00</td>\n",
       "      <td>woman</td>\n",
       "      <td>1</td>\n",
       "    </tr>\n",
       "    <tr>\n",
       "      <th>170</th>\n",
       "      <td>B19</td>\n",
       "      <td>Victim</td>\n",
       "      <td>1 (Upper Class)</td>\n",
       "      <td>Van der hoef, Mr. Wyckoff</td>\n",
       "      <td>61.00</td>\n",
       "      <td>elder man</td>\n",
       "      <td>0</td>\n",
       "    </tr>\n",
       "    <tr>\n",
       "      <th>690</th>\n",
       "      <td>B20</td>\n",
       "      <td>Survivor</td>\n",
       "      <td>1 (Upper Class)</td>\n",
       "      <td>Dick, Mr. Albert Adrian</td>\n",
       "      <td>31.00</td>\n",
       "      <td>man</td>\n",
       "      <td>1</td>\n",
       "    </tr>\n",
       "    <tr>\n",
       "      <th>781</th>\n",
       "      <td>B20</td>\n",
       "      <td>Survivor</td>\n",
       "      <td>1 (Upper Class)</td>\n",
       "      <td>Dick, Mrs. Albert Adrian (Vera Gillespie)</td>\n",
       "      <td>17.00</td>\n",
       "      <td>woman</td>\n",
       "      <td>1</td>\n",
       "    </tr>\n",
       "    <tr>\n",
       "      <th>540</th>\n",
       "      <td>B22</td>\n",
       "      <td>Survivor</td>\n",
       "      <td>1 (Upper Class)</td>\n",
       "      <td>Crosby, Miss. Harriet R</td>\n",
       "      <td>36.00</td>\n",
       "      <td>woman</td>\n",
       "      <td>2</td>\n",
       "    </tr>\n",
       "    <tr>\n",
       "      <th>745</th>\n",
       "      <td>B22</td>\n",
       "      <td>Victim</td>\n",
       "      <td>1 (Upper Class)</td>\n",
       "      <td>Crosby, Capt. Edward Gifford</td>\n",
       "      <td>70.00</td>\n",
       "      <td>elder man</td>\n",
       "      <td>2</td>\n",
       "    </tr>\n",
       "    <tr>\n",
       "      <th>829</th>\n",
       "      <td>B28</td>\n",
       "      <td>Survivor</td>\n",
       "      <td>1 (Upper Class)</td>\n",
       "      <td>Stone, Mrs. George Nelson (Martha Evelyn)</td>\n",
       "      <td>62.00</td>\n",
       "      <td>elder woman</td>\n",
       "      <td>0</td>\n",
       "    </tr>\n",
       "    <tr>\n",
       "      <th>61</th>\n",
       "      <td>B28</td>\n",
       "      <td>Survivor</td>\n",
       "      <td>1 (Upper Class)</td>\n",
       "      <td>Icard, Miss. Amelie</td>\n",
       "      <td>38.00</td>\n",
       "      <td>woman</td>\n",
       "      <td>0</td>\n",
       "    </tr>\n",
       "    <tr>\n",
       "      <th>779</th>\n",
       "      <td>B3</td>\n",
       "      <td>Survivor</td>\n",
       "      <td>1 (Upper Class)</td>\n",
       "      <td>Robert, Mrs. Edward Scott (Elisabeth Walton Mc...</td>\n",
       "      <td>43.00</td>\n",
       "      <td>woman</td>\n",
       "      <td>1</td>\n",
       "    </tr>\n",
       "    <tr>\n",
       "      <th>54</th>\n",
       "      <td>B30</td>\n",
       "      <td>Victim</td>\n",
       "      <td>1 (Upper Class)</td>\n",
       "      <td>Ostby, Mr. Engelhart Cornelius</td>\n",
       "      <td>65.00</td>\n",
       "      <td>elder man</td>\n",
       "      <td>1</td>\n",
       "    </tr>\n",
       "    <tr>\n",
       "      <th>641</th>\n",
       "      <td>B35</td>\n",
       "      <td>Survivor</td>\n",
       "      <td>1 (Upper Class)</td>\n",
       "      <td>Sagesser, Mlle. Emma</td>\n",
       "      <td>24.00</td>\n",
       "      <td>woman</td>\n",
       "      <td>0</td>\n",
       "    </tr>\n",
       "    <tr>\n",
       "      <th>369</th>\n",
       "      <td>B35</td>\n",
       "      <td>Survivor</td>\n",
       "      <td>1 (Upper Class)</td>\n",
       "      <td>Aubart, Mme. Leontine Pauline</td>\n",
       "      <td>24.00</td>\n",
       "      <td>woman</td>\n",
       "      <td>0</td>\n",
       "    </tr>\n",
       "    <tr>\n",
       "      <th>...</th>\n",
       "      <td>...</td>\n",
       "      <td>...</td>\n",
       "      <td>...</td>\n",
       "      <td>...</td>\n",
       "      <td>...</td>\n",
       "      <td>...</td>\n",
       "      <td>...</td>\n",
       "    </tr>\n",
       "    <tr>\n",
       "      <th>3</th>\n",
       "      <td>C123</td>\n",
       "      <td>Survivor</td>\n",
       "      <td>1 (Upper Class)</td>\n",
       "      <td>Futrelle, Mrs. Jacques Heath (Lily May Peel)</td>\n",
       "      <td>35.00</td>\n",
       "      <td>woman</td>\n",
       "      <td>1</td>\n",
       "    </tr>\n",
       "    <tr>\n",
       "      <th>331</th>\n",
       "      <td>C124</td>\n",
       "      <td>Victim</td>\n",
       "      <td>1 (Upper Class)</td>\n",
       "      <td>Partner, Mr. Austen</td>\n",
       "      <td>45.50</td>\n",
       "      <td>man</td>\n",
       "      <td>0</td>\n",
       "    </tr>\n",
       "    <tr>\n",
       "      <th>711</th>\n",
       "      <td>C124</td>\n",
       "      <td>Victim</td>\n",
       "      <td>1 (Upper Class)</td>\n",
       "      <td>Klaber, Mr. Herman</td>\n",
       "      <td>38.00</td>\n",
       "      <td>man</td>\n",
       "      <td>0</td>\n",
       "    </tr>\n",
       "    <tr>\n",
       "      <th>609</th>\n",
       "      <td>C125</td>\n",
       "      <td>Survivor</td>\n",
       "      <td>1 (Upper Class)</td>\n",
       "      <td>Shutes, Miss. Elizabeth W</td>\n",
       "      <td>40.00</td>\n",
       "      <td>woman</td>\n",
       "      <td>0</td>\n",
       "    </tr>\n",
       "    <tr>\n",
       "      <th>268</th>\n",
       "      <td>C125</td>\n",
       "      <td>Survivor</td>\n",
       "      <td>1 (Upper Class)</td>\n",
       "      <td>Graham, Mrs. William Thompson (Edith Junkins)</td>\n",
       "      <td>58.00</td>\n",
       "      <td>woman</td>\n",
       "      <td>1</td>\n",
       "    </tr>\n",
       "    <tr>\n",
       "      <th>712</th>\n",
       "      <td>C126</td>\n",
       "      <td>Survivor</td>\n",
       "      <td>1 (Upper Class)</td>\n",
       "      <td>Taylor, Mr. Elmer Zebley</td>\n",
       "      <td>48.00</td>\n",
       "      <td>man</td>\n",
       "      <td>1</td>\n",
       "    </tr>\n",
       "    <tr>\n",
       "      <th>669</th>\n",
       "      <td>C126</td>\n",
       "      <td>Survivor</td>\n",
       "      <td>1 (Upper Class)</td>\n",
       "      <td>Taylor, Mrs. Elmer Zebley (Juliet Cummins Wright)</td>\n",
       "      <td>27.00</td>\n",
       "      <td>woman</td>\n",
       "      <td>1</td>\n",
       "    </tr>\n",
       "    <tr>\n",
       "      <th>351</th>\n",
       "      <td>C128</td>\n",
       "      <td>Victim</td>\n",
       "      <td>1 (Upper Class)</td>\n",
       "      <td>Williams-Lambert, Mr. Fletcher Fellows</td>\n",
       "      <td>32.00</td>\n",
       "      <td>man</td>\n",
       "      <td>0</td>\n",
       "    </tr>\n",
       "    <tr>\n",
       "      <th>889</th>\n",
       "      <td>C148</td>\n",
       "      <td>Survivor</td>\n",
       "      <td>1 (Upper Class)</td>\n",
       "      <td>Behr, Mr. Karl Howell</td>\n",
       "      <td>26.00</td>\n",
       "      <td>man</td>\n",
       "      <td>0</td>\n",
       "    </tr>\n",
       "    <tr>\n",
       "      <th>151</th>\n",
       "      <td>C2</td>\n",
       "      <td>Survivor</td>\n",
       "      <td>1 (Upper Class)</td>\n",
       "      <td>Pears, Mrs. Thomas (Edith Wearne)</td>\n",
       "      <td>22.00</td>\n",
       "      <td>woman</td>\n",
       "      <td>1</td>\n",
       "    </tr>\n",
       "    <tr>\n",
       "      <th>336</th>\n",
       "      <td>C2</td>\n",
       "      <td>Victim</td>\n",
       "      <td>1 (Upper Class)</td>\n",
       "      <td>Pears, Mr. Thomas Clinton</td>\n",
       "      <td>29.00</td>\n",
       "      <td>man</td>\n",
       "      <td>1</td>\n",
       "    </tr>\n",
       "    <tr>\n",
       "      <th>498</th>\n",
       "      <td>C22 C26</td>\n",
       "      <td>Victim</td>\n",
       "      <td>1 (Upper Class)</td>\n",
       "      <td>Allison, Mrs. Hudson J C (Bessie Waldo Daniels)</td>\n",
       "      <td>25.00</td>\n",
       "      <td>woman</td>\n",
       "      <td>3</td>\n",
       "    </tr>\n",
       "    <tr>\n",
       "      <th>297</th>\n",
       "      <td>C22 C26</td>\n",
       "      <td>Victim</td>\n",
       "      <td>1 (Upper Class)</td>\n",
       "      <td>Allison, Miss. Helen Loraine</td>\n",
       "      <td>2.00</td>\n",
       "      <td>girl</td>\n",
       "      <td>3</td>\n",
       "    </tr>\n",
       "    <tr>\n",
       "      <th>305</th>\n",
       "      <td>C22 C26</td>\n",
       "      <td>Survivor</td>\n",
       "      <td>1 (Upper Class)</td>\n",
       "      <td>Allison, Master. Hudson Trevor</td>\n",
       "      <td>0.92</td>\n",
       "      <td>boy</td>\n",
       "      <td>3</td>\n",
       "    </tr>\n",
       "    <tr>\n",
       "      <th>438</th>\n",
       "      <td>C23 C25 C27</td>\n",
       "      <td>Victim</td>\n",
       "      <td>1 (Upper Class)</td>\n",
       "      <td>Fortune, Mr. Mark</td>\n",
       "      <td>64.00</td>\n",
       "      <td>elder man</td>\n",
       "      <td>5</td>\n",
       "    </tr>\n",
       "    <tr>\n",
       "      <th>27</th>\n",
       "      <td>C23 C25 C27</td>\n",
       "      <td>Victim</td>\n",
       "      <td>1 (Upper Class)</td>\n",
       "      <td>Fortune, Mr. Charles Alexander</td>\n",
       "      <td>19.00</td>\n",
       "      <td>man</td>\n",
       "      <td>5</td>\n",
       "    </tr>\n",
       "    <tr>\n",
       "      <th>88</th>\n",
       "      <td>C23 C25 C27</td>\n",
       "      <td>Survivor</td>\n",
       "      <td>1 (Upper Class)</td>\n",
       "      <td>Fortune, Miss. Mabel Helen</td>\n",
       "      <td>23.00</td>\n",
       "      <td>woman</td>\n",
       "      <td>5</td>\n",
       "    </tr>\n",
       "    <tr>\n",
       "      <th>341</th>\n",
       "      <td>C23 C25 C27</td>\n",
       "      <td>Survivor</td>\n",
       "      <td>1 (Upper Class)</td>\n",
       "      <td>Fortune, Miss. Alice Elizabeth</td>\n",
       "      <td>24.00</td>\n",
       "      <td>woman</td>\n",
       "      <td>5</td>\n",
       "    </tr>\n",
       "    <tr>\n",
       "      <th>492</th>\n",
       "      <td>C30</td>\n",
       "      <td>Victim</td>\n",
       "      <td>1 (Upper Class)</td>\n",
       "      <td>Molson, Mr. Harry Markland</td>\n",
       "      <td>55.00</td>\n",
       "      <td>man</td>\n",
       "      <td>0</td>\n",
       "    </tr>\n",
       "    <tr>\n",
       "      <th>325</th>\n",
       "      <td>C32</td>\n",
       "      <td>Survivor</td>\n",
       "      <td>1 (Upper Class)</td>\n",
       "      <td>Young, Miss. Marie Grice</td>\n",
       "      <td>36.00</td>\n",
       "      <td>woman</td>\n",
       "      <td>0</td>\n",
       "    </tr>\n",
       "    <tr>\n",
       "      <th>716</th>\n",
       "      <td>C45</td>\n",
       "      <td>Survivor</td>\n",
       "      <td>1 (Upper Class)</td>\n",
       "      <td>Endres, Miss. Caroline Louise</td>\n",
       "      <td>38.00</td>\n",
       "      <td>woman</td>\n",
       "      <td>0</td>\n",
       "    </tr>\n",
       "    <tr>\n",
       "      <th>741</th>\n",
       "      <td>C46</td>\n",
       "      <td>Victim</td>\n",
       "      <td>1 (Upper Class)</td>\n",
       "      <td>Cavendish, Mr. Tyrell William</td>\n",
       "      <td>36.00</td>\n",
       "      <td>man</td>\n",
       "      <td>1</td>\n",
       "    </tr>\n",
       "    <tr>\n",
       "      <th>839</th>\n",
       "      <td>C47</td>\n",
       "      <td>Survivor</td>\n",
       "      <td>1 (Upper Class)</td>\n",
       "      <td>Marechal, Mr. Pierre</td>\n",
       "      <td>50.00</td>\n",
       "      <td>man</td>\n",
       "      <td>0</td>\n",
       "    </tr>\n",
       "    <tr>\n",
       "      <th>177</th>\n",
       "      <td>C49</td>\n",
       "      <td>Victim</td>\n",
       "      <td>1 (Upper Class)</td>\n",
       "      <td>Isham, Miss. Ann Elizabeth</td>\n",
       "      <td>50.00</td>\n",
       "      <td>woman</td>\n",
       "      <td>0</td>\n",
       "    </tr>\n",
       "    <tr>\n",
       "      <th>879</th>\n",
       "      <td>C50</td>\n",
       "      <td>Survivor</td>\n",
       "      <td>1 (Upper Class)</td>\n",
       "      <td>Potter, Mrs. Thomas Jr (Lily Alexenia Wilson)</td>\n",
       "      <td>56.00</td>\n",
       "      <td>woman</td>\n",
       "      <td>1</td>\n",
       "    </tr>\n",
       "    <tr>\n",
       "      <th>430</th>\n",
       "      <td>C52</td>\n",
       "      <td>Survivor</td>\n",
       "      <td>1 (Upper Class)</td>\n",
       "      <td>Bjornstrom-Steffansson, Mr. Mauritz Hakan</td>\n",
       "      <td>28.00</td>\n",
       "      <td>man</td>\n",
       "      <td>0</td>\n",
       "    </tr>\n",
       "    <tr>\n",
       "      <th>55</th>\n",
       "      <td>C52</td>\n",
       "      <td>Survivor</td>\n",
       "      <td>1 (Upper Class)</td>\n",
       "      <td>Woolner, Mr. Hugh</td>\n",
       "      <td>55.00</td>\n",
       "      <td>man</td>\n",
       "      <td>0</td>\n",
       "    </tr>\n",
       "    <tr>\n",
       "      <th>310</th>\n",
       "      <td>C54</td>\n",
       "      <td>Survivor</td>\n",
       "      <td>1 (Upper Class)</td>\n",
       "      <td>Hays, Miss. Margaret Bechstein</td>\n",
       "      <td>24.00</td>\n",
       "      <td>woman</td>\n",
       "      <td>0</td>\n",
       "    </tr>\n",
       "    <tr>\n",
       "      <th>700</th>\n",
       "      <td>C62 C64</td>\n",
       "      <td>Survivor</td>\n",
       "      <td>1 (Upper Class)</td>\n",
       "      <td>Astor, Mrs. John Jacob (Madeleine Talmadge Force)</td>\n",
       "      <td>18.00</td>\n",
       "      <td>woman</td>\n",
       "      <td>1</td>\n",
       "    </tr>\n",
       "    <tr>\n",
       "      <th>505</th>\n",
       "      <td>C65</td>\n",
       "      <td>Victim</td>\n",
       "      <td>1 (Upper Class)</td>\n",
       "      <td>Penasco y Castellana, Mr. Victor de Satode</td>\n",
       "      <td>18.00</td>\n",
       "      <td>man</td>\n",
       "      <td>1</td>\n",
       "    </tr>\n",
       "  </tbody>\n",
       "</table>\n",
       "<p>100 rows × 7 columns</p>\n",
       "</div>"
      ],
      "text/plain": [
       "           Cabin Survivability              SES  \\\n",
       "583          A10        Victim  1 (Upper Class)   \n",
       "475          A14        Victim  1 (Upper Class)   \n",
       "556          A16      Survivor  1 (Upper Class)   \n",
       "284          A19        Victim  1 (Upper Class)   \n",
       "599          A20      Survivor  1 (Upper Class)   \n",
       "630          A23      Survivor  1 (Upper Class)   \n",
       "867          A24        Victim  1 (Upper Class)   \n",
       "647          A26      Survivor  1 (Upper Class)   \n",
       "209          A31      Survivor  1 (Upper Class)   \n",
       "185          A32        Victim  1 (Upper Class)   \n",
       "445          A34      Survivor  1 (Upper Class)   \n",
       "806          A36        Victim  1 (Upper Class)   \n",
       "96            A5        Victim  1 (Upper Class)   \n",
       "23            A6      Survivor  1 (Upper Class)   \n",
       "174           A7        Victim  1 (Upper Class)   \n",
       "737         B101      Survivor  1 (Upper Class)   \n",
       "815         B102        Victim  1 (Upper Class)   \n",
       "523          B18      Survivor  1 (Upper Class)   \n",
       "329          B18      Survivor  1 (Upper Class)   \n",
       "170          B19        Victim  1 (Upper Class)   \n",
       "690          B20      Survivor  1 (Upper Class)   \n",
       "781          B20      Survivor  1 (Upper Class)   \n",
       "540          B22      Survivor  1 (Upper Class)   \n",
       "745          B22        Victim  1 (Upper Class)   \n",
       "829          B28      Survivor  1 (Upper Class)   \n",
       "61           B28      Survivor  1 (Upper Class)   \n",
       "779           B3      Survivor  1 (Upper Class)   \n",
       "54           B30        Victim  1 (Upper Class)   \n",
       "641          B35      Survivor  1 (Upper Class)   \n",
       "369          B35      Survivor  1 (Upper Class)   \n",
       "..           ...           ...              ...   \n",
       "3           C123      Survivor  1 (Upper Class)   \n",
       "331         C124        Victim  1 (Upper Class)   \n",
       "711         C124        Victim  1 (Upper Class)   \n",
       "609         C125      Survivor  1 (Upper Class)   \n",
       "268         C125      Survivor  1 (Upper Class)   \n",
       "712         C126      Survivor  1 (Upper Class)   \n",
       "669         C126      Survivor  1 (Upper Class)   \n",
       "351         C128        Victim  1 (Upper Class)   \n",
       "889         C148      Survivor  1 (Upper Class)   \n",
       "151           C2      Survivor  1 (Upper Class)   \n",
       "336           C2        Victim  1 (Upper Class)   \n",
       "498      C22 C26        Victim  1 (Upper Class)   \n",
       "297      C22 C26        Victim  1 (Upper Class)   \n",
       "305      C22 C26      Survivor  1 (Upper Class)   \n",
       "438  C23 C25 C27        Victim  1 (Upper Class)   \n",
       "27   C23 C25 C27        Victim  1 (Upper Class)   \n",
       "88   C23 C25 C27      Survivor  1 (Upper Class)   \n",
       "341  C23 C25 C27      Survivor  1 (Upper Class)   \n",
       "492          C30        Victim  1 (Upper Class)   \n",
       "325          C32      Survivor  1 (Upper Class)   \n",
       "716          C45      Survivor  1 (Upper Class)   \n",
       "741          C46        Victim  1 (Upper Class)   \n",
       "839          C47      Survivor  1 (Upper Class)   \n",
       "177          C49        Victim  1 (Upper Class)   \n",
       "879          C50      Survivor  1 (Upper Class)   \n",
       "430          C52      Survivor  1 (Upper Class)   \n",
       "55           C52      Survivor  1 (Upper Class)   \n",
       "310          C54      Survivor  1 (Upper Class)   \n",
       "700      C62 C64      Survivor  1 (Upper Class)   \n",
       "505          C65        Victim  1 (Upper Class)   \n",
       "\n",
       "                                                  Name  AgeEstim   Demography  \\\n",
       "583                                Ross, Mr. John Hugo     36.00          man   \n",
       "475                        Clifford, Mr. George Quincy     48.00          man   \n",
       "556  Duff Gordon, Lady. (Lucille Christiana Sutherl...     48.00        woman   \n",
       "284                         Smith, Mr. Richard William     38.00          man   \n",
       "599       Duff Gordon, Sir. Cosmo Edmund (\"Mr Morgan\")     49.00          man   \n",
       "630               Barkworth, Mr. Algernon Henry Wilson     80.00    elder man   \n",
       "867               Roebling, Mr. Washington Augustus II     31.00          man   \n",
       "647                Simonius-Blumer, Col. Oberst Alfons     56.00          man   \n",
       "209                                   Blank, Mr. Henry     40.00          man   \n",
       "185                              Rood, Mr. Hugh Roscoe     47.00          man   \n",
       "445                          Dodge, Master. Washington      4.00          boy   \n",
       "806                             Andrews, Mr. Thomas Jr     39.00          man   \n",
       "96                           Goldschmidt, Mr. George B     71.00    elder man   \n",
       "23                        Sloper, Mr. William Thompson     28.00          man   \n",
       "174                            Smith, Mr. James Clinch     56.00          man   \n",
       "737                             Lesurer, Mr. Gustave J     35.00          man   \n",
       "815                                   Fry, Mr. Richard     29.00          man   \n",
       "523    Hippach, Mrs. Louis Albert (Ida Sophia Fischer)     44.00        woman   \n",
       "329                       Hippach, Miss. Jean Gertrude     16.00        woman   \n",
       "170                          Van der hoef, Mr. Wyckoff     61.00    elder man   \n",
       "690                            Dick, Mr. Albert Adrian     31.00          man   \n",
       "781          Dick, Mrs. Albert Adrian (Vera Gillespie)     17.00        woman   \n",
       "540                            Crosby, Miss. Harriet R     36.00        woman   \n",
       "745                       Crosby, Capt. Edward Gifford     70.00    elder man   \n",
       "829          Stone, Mrs. George Nelson (Martha Evelyn)     62.00  elder woman   \n",
       "61                                 Icard, Miss. Amelie     38.00        woman   \n",
       "779  Robert, Mrs. Edward Scott (Elisabeth Walton Mc...     43.00        woman   \n",
       "54                      Ostby, Mr. Engelhart Cornelius     65.00    elder man   \n",
       "641                               Sagesser, Mlle. Emma     24.00        woman   \n",
       "369                      Aubart, Mme. Leontine Pauline     24.00        woman   \n",
       "..                                                 ...       ...          ...   \n",
       "3         Futrelle, Mrs. Jacques Heath (Lily May Peel)     35.00        woman   \n",
       "331                                Partner, Mr. Austen     45.50          man   \n",
       "711                                 Klaber, Mr. Herman     38.00          man   \n",
       "609                          Shutes, Miss. Elizabeth W     40.00        woman   \n",
       "268      Graham, Mrs. William Thompson (Edith Junkins)     58.00        woman   \n",
       "712                           Taylor, Mr. Elmer Zebley     48.00          man   \n",
       "669  Taylor, Mrs. Elmer Zebley (Juliet Cummins Wright)     27.00        woman   \n",
       "351             Williams-Lambert, Mr. Fletcher Fellows     32.00          man   \n",
       "889                              Behr, Mr. Karl Howell     26.00          man   \n",
       "151                  Pears, Mrs. Thomas (Edith Wearne)     22.00        woman   \n",
       "336                          Pears, Mr. Thomas Clinton     29.00          man   \n",
       "498    Allison, Mrs. Hudson J C (Bessie Waldo Daniels)     25.00        woman   \n",
       "297                       Allison, Miss. Helen Loraine      2.00         girl   \n",
       "305                     Allison, Master. Hudson Trevor      0.92          boy   \n",
       "438                                  Fortune, Mr. Mark     64.00    elder man   \n",
       "27                      Fortune, Mr. Charles Alexander     19.00          man   \n",
       "88                          Fortune, Miss. Mabel Helen     23.00        woman   \n",
       "341                     Fortune, Miss. Alice Elizabeth     24.00        woman   \n",
       "492                         Molson, Mr. Harry Markland     55.00          man   \n",
       "325                           Young, Miss. Marie Grice     36.00        woman   \n",
       "716                      Endres, Miss. Caroline Louise     38.00        woman   \n",
       "741                      Cavendish, Mr. Tyrell William     36.00          man   \n",
       "839                               Marechal, Mr. Pierre     50.00          man   \n",
       "177                         Isham, Miss. Ann Elizabeth     50.00        woman   \n",
       "879      Potter, Mrs. Thomas Jr (Lily Alexenia Wilson)     56.00        woman   \n",
       "430          Bjornstrom-Steffansson, Mr. Mauritz Hakan     28.00          man   \n",
       "55                                   Woolner, Mr. Hugh     55.00          man   \n",
       "310                     Hays, Miss. Margaret Bechstein     24.00        woman   \n",
       "700  Astor, Mrs. John Jacob (Madeleine Talmadge Force)     18.00        woman   \n",
       "505         Penasco y Castellana, Mr. Victor de Satode     18.00          man   \n",
       "\n",
       "     FamilyMembers  \n",
       "583              0  \n",
       "475              0  \n",
       "556              1  \n",
       "284              0  \n",
       "599              1  \n",
       "630              0  \n",
       "867              0  \n",
       "647              0  \n",
       "209              0  \n",
       "185              0  \n",
       "445              2  \n",
       "806              0  \n",
       "96               0  \n",
       "23               0  \n",
       "174              0  \n",
       "737              0  \n",
       "815              0  \n",
       "523              1  \n",
       "329              1  \n",
       "170              0  \n",
       "690              1  \n",
       "781              1  \n",
       "540              2  \n",
       "745              2  \n",
       "829              0  \n",
       "61               0  \n",
       "779              1  \n",
       "54               1  \n",
       "641              0  \n",
       "369              0  \n",
       "..             ...  \n",
       "3                1  \n",
       "331              0  \n",
       "711              0  \n",
       "609              0  \n",
       "268              1  \n",
       "712              1  \n",
       "669              1  \n",
       "351              0  \n",
       "889              0  \n",
       "151              1  \n",
       "336              1  \n",
       "498              3  \n",
       "297              3  \n",
       "305              3  \n",
       "438              5  \n",
       "27               5  \n",
       "88               5  \n",
       "341              5  \n",
       "492              0  \n",
       "325              0  \n",
       "716              0  \n",
       "741              1  \n",
       "839              0  \n",
       "177              0  \n",
       "879              1  \n",
       "430              0  \n",
       "55               0  \n",
       "310              0  \n",
       "700              1  \n",
       "505              1  \n",
       "\n",
       "[100 rows x 7 columns]"
      ]
     },
     "execution_count": 197,
     "metadata": {},
     "output_type": "execute_result"
    }
   ],
   "source": [
    "# sorting by Cabins\n",
    "cabin_sorted_dataframe = titanic_dataframe.sort_values([\"Cabin\"])\n",
    "cabin_sorted_dataframe = cabin_sorted_dataframe[[\"Cabin\",\n",
    "                                                 \"Survivability\",\"SES\",\"Name\",\n",
    "                                                 \"AgeEstim\",\"Demography\",\"FamilyMembers\"]]\n",
    "cabin_sorted_dataframe.head(100)"
   ]
  },
  {
   "cell_type": "markdown",
   "metadata": {},
   "source": [
    "#### Conclusion:\n",
    "\n",
    "As expected, not all the passengers without family members were \"alone\" aboard Titanic, especially, when we talk about the Upper Class passengers, who, very probably, had some servants with them. \n",
    "\n",
    "For exemple, The Allisons boarded Titanic along with four servants: a maid, Sarah Daniels (no relation to Bess); a nurse, Alice Cleaver; a cook, Amelia Mary Brown (Mildred); and a butler, George Swane. Hudson and Bess occupied cabin C-22, Sarah and Loraine occupied C-24, and Alice and Trevor occupied C-26. Two second-class cabins were also booked for George and Mildred. (Source: https://en.wikipedia.org/wiki/Allison_family)\n",
    "\n",
    "Also, it is necessary to take in consideration, that tants, oncles, cousins, mistresses and fiancés, as well, as other more distant relatives were not considered as family members in the original data set.\n",
    "\n",
    "Here are some examples that prove that \"without family\" doesn't mean \"alone\":\n",
    "\n",
    "CABIN B28:\n",
    "\n",
    "shared by two women without close family members related, their family names are different, ages are significantly different\n",
    "\n",
    "CABIN B35:\n",
    "\n",
    "shared by two women without close family members related, their family names are different, ages are similar\n",
    "\n",
    "CABIN C124:\n",
    "\n",
    "shared by two men without close family members related, their family names are different\n",
    "\n",
    "CABIN C125:\n",
    "\n",
    "shared by two women, but only one without close family members related, their family names are different, ages are significantly different\n"
   ]
  },
  {
   "cell_type": "markdown",
   "metadata": {},
   "source": [
    "## Surviving Factors Analysis:\n",
    "\n",
    "Boat Deck was close to the A deck level and it was located in the middle of the ship. \n",
    "\n",
    "As far as the boat were filled by the rule\"Women and children first\" and \"First come, first served\", it is understandable, that Upper Class women and children were in the very priviledged circumstances.\n",
    "\n",
    "Let's check the \"Women and children first\" rule results on the plots."
   ]
  },
  {
   "cell_type": "code",
   "execution_count": 198,
   "metadata": {},
   "outputs": [
    {
     "data": {
      "text/plain": [
       "<matplotlib.text.Text at 0x26829d367f0>"
      ]
     },
     "execution_count": 198,
     "metadata": {},
     "output_type": "execute_result"
    },
    {
     "data": {
      "image/png": "[encoded data removed]",
      "text/plain": [
       "<matplotlib.figure.Figure at 0x26829c9f3c8>"
      ]
     },
     "metadata": {},
     "output_type": "display_data"
    }
   ],
   "source": [
    "sns.factorplot(x=\"Demography\",data= titanic_dataframe,kind=\"count\",hue='Survivability', aspect = 3,\n",
    "               palette=\"Set2\",order = [\"boy\",\"girl\",\"man\",\"woman\",\"elder man\",\"elder woman\"])\n",
    "# compare the number of survivors and perished for each category man/woman, etc.\n",
    "plt.ylabel(\"Passengers number\")\n",
    "plt.xlabel(\"Demograpfic Group\")\n",
    "plt.title(\"Titanic's passengers Survivability by Demographic Group\")"
   ]
  },
  {
   "cell_type": "markdown",
   "metadata": {},
   "source": [
    "### Let's take closer a look on the importance of \"Women and Children First\" policy by extracting the data only for this category of passengers"
   ]
  },
  {
   "cell_type": "code",
   "execution_count": 199,
   "metadata": {
    "collapsed": true
   },
   "outputs": [],
   "source": [
    "women_children_df = titanic_dataframe[[\"Title\",\"AgeEstim\",\"Block\",\"Survivability\"]]\n",
    "women_children_df = women_children_df[women_children_df.Title != 'Mr']\n",
    "women_children_df = women_children_df[women_children_df.Title != 'Special Title']\n",
    "# creates a smaller dataframe for survavibilty factors for women and children"
   ]
  },
  {
   "cell_type": "code",
   "execution_count": 200,
   "metadata": {},
   "outputs": [
    {
     "data": {
      "text/html": [
       "<div>\n",
       "<style>\n",
       "    .dataframe thead tr:only-child th {\n",
       "        text-align: right;\n",
       "    }\n",
       "\n",
       "    .dataframe thead th {\n",
       "        text-align: left;\n",
       "    }\n",
       "\n",
       "    .dataframe tbody tr th {\n",
       "        vertical-align: top;\n",
       "    }\n",
       "</style>\n",
       "<table border=\"1\" class=\"dataframe\">\n",
       "  <thead>\n",
       "    <tr style=\"text-align: right;\">\n",
       "      <th></th>\n",
       "      <th>Title</th>\n",
       "      <th>AgeEstim</th>\n",
       "      <th>Block</th>\n",
       "      <th>Survivability</th>\n",
       "    </tr>\n",
       "  </thead>\n",
       "  <tbody>\n",
       "    <tr>\n",
       "      <th>730</th>\n",
       "      <td>Miss</td>\n",
       "      <td>29.00</td>\n",
       "      <td>3</td>\n",
       "      <td>Survivor</td>\n",
       "    </tr>\n",
       "    <tr>\n",
       "      <th>305</th>\n",
       "      <td>Master</td>\n",
       "      <td>0.92</td>\n",
       "      <td>3</td>\n",
       "      <td>Survivor</td>\n",
       "    </tr>\n",
       "    <tr>\n",
       "      <th>297</th>\n",
       "      <td>Miss</td>\n",
       "      <td>2.00</td>\n",
       "      <td>3</td>\n",
       "      <td>Victim</td>\n",
       "    </tr>\n",
       "    <tr>\n",
       "      <th>498</th>\n",
       "      <td>Mrs</td>\n",
       "      <td>25.00</td>\n",
       "      <td>3</td>\n",
       "      <td>Victim</td>\n",
       "    </tr>\n",
       "    <tr>\n",
       "      <th>275</th>\n",
       "      <td>Miss</td>\n",
       "      <td>63.00</td>\n",
       "      <td>3</td>\n",
       "      <td>Survivor</td>\n",
       "    </tr>\n",
       "  </tbody>\n",
       "</table>\n",
       "</div>"
      ],
      "text/plain": [
       "      Title  AgeEstim  Block Survivability\n",
       "730    Miss     29.00      3      Survivor\n",
       "305  Master      0.92      3      Survivor\n",
       "297    Miss      2.00      3        Victim\n",
       "498     Mrs     25.00      3        Victim\n",
       "275    Miss     63.00      3      Survivor"
      ]
     },
     "execution_count": 200,
     "metadata": {},
     "output_type": "execute_result"
    }
   ],
   "source": [
    "women_children_df.head()\n",
    "# all_master_df - dataframe contaning age information only for people with the title 'Master'"
   ]
  },
  {
   "cell_type": "code",
   "execution_count": 201,
   "metadata": {
    "scrolled": false
   },
   "outputs": [
    {
     "data": {
      "text/plain": [
       "<matplotlib.text.Text at 0x26829e0e160>"
      ]
     },
     "execution_count": 201,
     "metadata": {},
     "output_type": "execute_result"
    },
    {
     "data": {
      "image/png": "[encoded data removed]",
      "text/plain": [
       "<matplotlib.figure.Figure at 0x26829d00198>"
      ]
     },
     "metadata": {},
     "output_type": "display_data"
    }
   ],
   "source": [
    "sns.factorplot(x=\"Block\",data= women_children_df,hue=\"Survivability\", \n",
    "               aspect=3, kind=\"count\", palette=\"Set2\")\n",
    "\"\"\"\n",
    "Demonstrate the Titanic's passengers age distribution by sex and passenger class\n",
    "The idea for this factorplot comes from http://seaborn.pydata.org/tutorial/categorical.html\n",
    "\"\"\"  \n",
    "plt.ylabel(\"Number of women and children\")\n",
    "plt.xlabel(\"Block of cabins: \\n 1: extreme stern occupied by Third Class: mostly single women and families,\\n  2: slightly to the stern occupied by Second Class,\\n  3: in the middle occupied by First Class, \\n 4: extreme bow occupied by Third Class: mostly single men\")\n",
    "plt.title(\"Result of 'Women and Chidren First' policy by the Block Number\")"
   ]
  },
  {
   "cell_type": "markdown",
   "metadata": {},
   "source": [
    "#### Conclusion:\n",
    "\n",
    "That is coherent with the order given on that occasion: \"Women and children first\" for the Block 2 (Second Class) and Block 3(First Class). Almost all of them have survived. \n",
    "\n",
    "On the other hand, more than the half of the women and children from the Block 1 (Third Class) did not survived, even though, the number of the women and children from the Block 1 (Third Class) survived is comparable with the number of survived women and children from two other classes.\n",
    "\n",
    "#### Question: \n",
    "\n",
    "It is interesting to check how does the number of survivors vary for each block of cabins (and class) without considering passenger geneder or age ...\n"
   ]
  },
  {
   "cell_type": "code",
   "execution_count": 202,
   "metadata": {},
   "outputs": [
    {
     "data": {
      "text/plain": [
       "<matplotlib.text.Text at 0x26829e79160>"
      ]
     },
     "execution_count": 202,
     "metadata": {},
     "output_type": "execute_result"
    },
    {
     "data": {
      "image/png": "[encoded data removed]",
      "text/plain": [
       "<matplotlib.figure.Figure at 0x26829c00780>"
      ]
     },
     "metadata": {},
     "output_type": "display_data"
    }
   ],
   "source": [
    "sns.factorplot(hue='Survivability', x=\"Block\",data= titanic_dataframe,kind=\"count\",\n",
    "               aspect = 3, palette = \"Set2\")\n",
    "plt.title(\"Number of Passengers Survived or Perished in each Block\")\n",
    "plt.ylabel(\"Number of Titanic's Passengers in Each Block of Cabins\")\n",
    "plt.xlabel(\"Block number: \\n 1: extreme stern occupied by Third Class: mostly single women and families,\\n  2: slightly to the stern occupied by Second Class,\\n  3: in the middle occupied by First Class, \\n 4: extreme bow occupied by Third Class: mostly single men\")"
   ]
  },
  {
   "cell_type": "code",
   "execution_count": 227,
   "metadata": {},
   "outputs": [
    {
     "data": {
      "text/plain": [
       "<matplotlib.text.Text at 0x2682f11bda0>"
      ]
     },
     "execution_count": 227,
     "metadata": {},
     "output_type": "execute_result"
    },
    {
     "data": {
      "image/png": "[encoded data removed]",
      "text/plain": [
       "<matplotlib.figure.Figure at 0x2682e172cc0>"
      ]
     },
     "metadata": {},
     "output_type": "display_data"
    }
   ],
   "source": [
    "sns.factorplot(x=\"Block\",data= titanic_dataframe,y=\"AgeEstim\",hue=\"Survivability\", \n",
    "               kind=\"violin\",split=True,aspect=3, palette=\"Set2\")\n",
    "\"\"\"\n",
    "Demonstrate the Titanic's passengers age distribution by sex and passenger class\n",
    "The idea for this factorplot comes from http://seaborn.pydata.org/tutorial/categorical.html\n",
    "\"\"\"  \n",
    "plt.ylabel(\"Passenger age, years old\")\n",
    "plt.xlabel(\"Block of cabins: \\n 1: extreme stern occupied by Third Class: mostly single women and families,\\n  2: slightly to the stern occupied by Second Class,\\n  3: in the middle occupied by First Class, \\n 4: extreme bow occupied by Third Class: mostly single men\")\n",
    "plt.title(\"Titanic's Passengers Survivability by Their Age and Block Number\")"
   ]
  },
  {
   "cell_type": "code",
   "execution_count": 226,
   "metadata": {},
   "outputs": [
    {
     "data": {
      "text/plain": [
       "<matplotlib.text.Text at 0x2682eeec208>"
      ]
     },
     "execution_count": 226,
     "metadata": {},
     "output_type": "execute_result"
    },
    {
     "data": {
      "image/png": "[encoded data removed]",
      "text/plain": [
       "<matplotlib.figure.Figure at 0x2682e4ffc50>"
      ]
     },
     "metadata": {},
     "output_type": "display_data"
    }
   ],
   "source": [
    "graph_survavibility = sns.factorplot(x=\"Block\",data=titanic_dataframe,y=\"Demography\",hue=\"Survivability\", \n",
    "               kind=\"violin\",split=True,aspect=3, palette=\"Set2\")\n",
    "\"\"\"\n",
    "Demonstrate the Titanic's passengers age distribution by sex and passenger class\n",
    "The idea for this factorplot comes from http://seaborn.pydata.org/tutorial/categorical.html\n",
    "\"\"\"  \n",
    "plt.ylabel(\"Passenger age, years old\")\n",
    "plt.xlabel(\"Block of cabins: \\n 1: extreme stern occupied by Third Class: mostly single women and families,\\n  2: slightly to the stern occupied by Second Class,\\n  3: in the middle occupied by First Class, \\n 4: extreme bow occupied by Third Class: mostly single men\")\n",
    "plt.title(\"Titanic's Passengers Survivability by Their Demographic Group and Block Number\")"
   ]
  },
  {
   "cell_type": "code",
   "execution_count": 204,
   "metadata": {},
   "outputs": [
    {
     "data": {
      "text/plain": [
       "<seaborn.axisgrid.FacetGrid at 0x26829547eb8>"
      ]
     },
     "execution_count": 204,
     "metadata": {},
     "output_type": "execute_result"
    },
    {
     "data": {
      "image/png": "[encoded data removed]",
      "text/plain": [
       "<matplotlib.figure.Figure at 0x26829e844e0>"
      ]
     },
     "metadata": {},
     "output_type": "display_data"
    }
   ],
   "source": [
    "sns.factorplot(x=\"SES\",data= titanic_dataframe,kind=\"count\",col='Survivability')\n",
    "# survivers versus not survivers numbers for each passenger class"
   ]
  },
  {
   "cell_type": "markdown",
   "metadata": {},
   "source": [
    "### Conclusion: Being child or woman and having an easy acces to the lifeboat deck were the main factors to become a survivor of Titanic disaster.\n",
    "\n",
    "Since the NUMBER of survivors from the Lower Class is higher than that of those from the Middle Class and considering that a lot of the Upper Class and the Middle Class passengers perished, it doesn't seem to me, that there was some kind of social discrimination DURING the boarding to the lifeboats. \n",
    "\n",
    "Considering the distances from the boat deck to the locations where the Middle Class and Lower Class passengers were hosted and considering that many of them probably were sleeping (Titanic hit an iceberg at 11:40 p.m. ship's time) and that Titanic was considered \"unsinkable\" and, finally, it took only 2h40 to sink and 1 hour to make a decision of evacuation, so it was hard for the Lower Class passengers (especially for those with kids) not to be late for their chance to obtain a seat in one of the boat.\n",
    "\n",
    "There is no doubt that the PROPORTION of third-class passengers saved falls far short of the proportion of the first and second class, but this is accounted for by the greater difficulty in getting them up from their quarters, which were at the extreme ends of the ship. There was another issue: In order to prevent the spread of infectious disease, American law prohibted third class passenegers from entering the public areas of the upper two classes, including deck space. So, even on the structure level it was not previewed to give an easy acces for the third class passengers to the lifeboat deck. Surtanly, it took a lot of time before the Third Class passenger were allowed to access the boat deck for evacuation.\n",
    "\n",
    "#### How aware a Third Class passenger on the Titanic was of what had happened greatly depended on where he or she was quartered. \n",
    "\n",
    "Single women and families with children were quartered in the extreme after end of the stern, far from the forward end of the bow on the starboard side of the ship where the collision occurred. For these passengers, aside from the initial jolt (which was noticed by some but by no means all), the only direct evidence of the event were the ship’s engines being shut off within a matter of minutes of the collision. It is quite probable that many Third Class women and families in the after quarters did not notice anything and slept well after midnight before having an inkling of being in danger.\n",
    "\n",
    "We should not ignore that the number of safety boats was limited, so, there was not enough places for all passengers. On the other hand, the Lower Class passengers represented more than 50% of all passengers. The first boats were loaded partially filled, for the reason nobody knew how much time they had before sinking, they were harried up to put all the boats into the water. Probably, the Upper Class men who survived were those who were given a permission to enter the boats while there were no women and children on the deck during the boarding.\n",
    "\n",
    "### Analysis of the factors determinated adult male passengers survivability:\n",
    "\n",
    "Honor and shame ruled society in 1912. Men aboard the Titanic, especially those among the upper class, had to weigh their own survival with doing what society would deem the right thing. To survive but live in shame was a risk some men would not take. Famously several of the wealthiest men, John Jacob Astor, George Widener, and Isodor Strauss, refused to board a lifeboat on grounds of honor, even after it was clear that the Titanic would sink. \n",
    "\n",
    "The Third Class passengers residing in the forward quarters—overwhelmingly single men, along with a relatively small number of childless couples, there was considerably more awareness early on as to both the nature and the magnitude of the accident. This would have been especially true of men quartered on the starboard side in the open berths on G Deck and the cabins on F Deck where water from the accident entered directly.\n",
    "\n",
    "Sources: \n",
    "\n",
    "    https://www.encyclopedia-titanica.org/fatal-journey-third-class-men.html\n",
    "    http://www.icyousee.org/titanic.html\n",
    "    https://www.encyclopedia-titanica.org/community/threads/deck-restrictions-3rd-class.5074/\n",
    "    http://cruiselinehistory.com/rms-titanic-third-class-or-steerage-passengers-aboard-the-ill-fated-liner/\n",
    "    \n",
    "### Creating DataFrame Exclusivly for Men (indicating if they were with or without family aboard)"
   ]
  },
  {
   "cell_type": "code",
   "execution_count": 205,
   "metadata": {
    "collapsed": true
   },
   "outputs": [],
   "source": [
    "def family_man(passenger):\n",
    "    \"\"\"\n",
    "    This function takes Title and FamilyMembers values as inputs and returns \n",
    "    the statement if each man was or wasn't with any family member aboard\n",
    "    \"\"\"\n",
    "    title,family = passenger\n",
    "    \n",
    "    if title == \"Mr\":\n",
    "        if family > 0:\n",
    "            return \"Man with family aboard\"\n",
    "        else:\n",
    "            return \"Man without family aboard\"\n",
    "    "
   ]
  },
  {
   "cell_type": "code",
   "execution_count": 206,
   "metadata": {
    "collapsed": true
   },
   "outputs": [],
   "source": [
    "titanic_dataframe[\"FamilyMan\"]=titanic_dataframe[[\"Title\",\"FamilyMembers\"]].apply(family_man,axis=1) \n",
    "# stats if each man was or wasn't with any family member aboard"
   ]
  },
  {
   "cell_type": "code",
   "execution_count": 207,
   "metadata": {
    "collapsed": true
   },
   "outputs": [],
   "source": [
    "man_survivability_df = titanic_dataframe[[\"FamilyMan\",\"Block\",\"Survivability\",\"AgeEstim\"]].dropna()\n",
    "# creates a smaller dataframe to analyse \n",
    "# men survivability factors such as location,age, and presence of family members"
   ]
  },
  {
   "cell_type": "code",
   "execution_count": 208,
   "metadata": {
    "scrolled": true
   },
   "outputs": [
    {
     "data": {
      "text/html": [
       "<div>\n",
       "<style>\n",
       "    .dataframe thead tr:only-child th {\n",
       "        text-align: right;\n",
       "    }\n",
       "\n",
       "    .dataframe thead th {\n",
       "        text-align: left;\n",
       "    }\n",
       "\n",
       "    .dataframe tbody tr th {\n",
       "        vertical-align: top;\n",
       "    }\n",
       "</style>\n",
       "<table border=\"1\" class=\"dataframe\">\n",
       "  <thead>\n",
       "    <tr style=\"text-align: right;\">\n",
       "      <th></th>\n",
       "      <th>FamilyMan</th>\n",
       "      <th>Block</th>\n",
       "      <th>Survivability</th>\n",
       "      <th>AgeEstim</th>\n",
       "    </tr>\n",
       "  </thead>\n",
       "  <tbody>\n",
       "    <tr>\n",
       "      <th>460</th>\n",
       "      <td>Man without family aboard</td>\n",
       "      <td>3</td>\n",
       "      <td>Survivor</td>\n",
       "      <td>48.0</td>\n",
       "    </tr>\n",
       "    <tr>\n",
       "      <th>806</th>\n",
       "      <td>Man without family aboard</td>\n",
       "      <td>3</td>\n",
       "      <td>Victim</td>\n",
       "      <td>39.0</td>\n",
       "    </tr>\n",
       "    <tr>\n",
       "      <th>493</th>\n",
       "      <td>Man without family aboard</td>\n",
       "      <td>3</td>\n",
       "      <td>Victim</td>\n",
       "      <td>71.0</td>\n",
       "    </tr>\n",
       "    <tr>\n",
       "      <th>630</th>\n",
       "      <td>Man without family aboard</td>\n",
       "      <td>3</td>\n",
       "      <td>Survivor</td>\n",
       "      <td>80.0</td>\n",
       "    </tr>\n",
       "    <tr>\n",
       "      <th>168</th>\n",
       "      <td>Man without family aboard</td>\n",
       "      <td>3</td>\n",
       "      <td>Victim</td>\n",
       "      <td>27.0</td>\n",
       "    </tr>\n",
       "  </tbody>\n",
       "</table>\n",
       "</div>"
      ],
      "text/plain": [
       "                     FamilyMan  Block Survivability  AgeEstim\n",
       "460  Man without family aboard      3      Survivor      48.0\n",
       "806  Man without family aboard      3        Victim      39.0\n",
       "493  Man without family aboard      3        Victim      71.0\n",
       "630  Man without family aboard      3      Survivor      80.0\n",
       "168  Man without family aboard      3        Victim      27.0"
      ]
     },
     "execution_count": 208,
     "metadata": {},
     "output_type": "execute_result"
    }
   ],
   "source": [
    "man_survivability_df.head() \n",
    "# prints how this dataframe looks like"
   ]
  },
  {
   "cell_type": "code",
   "execution_count": 209,
   "metadata": {},
   "outputs": [
    {
     "data": {
      "text/plain": [
       "Man without family aboard    413\n",
       "Man with family aboard       126\n",
       "Name: FamilyMan, dtype: int64"
      ]
     },
     "execution_count": 209,
     "metadata": {},
     "output_type": "execute_result"
    }
   ],
   "source": [
    "man_survivability_df[\"FamilyMan\"].value_counts()\n",
    "# counts number of adult male passenger with or without family members aboard"
   ]
  },
  {
   "cell_type": "code",
   "execution_count": 210,
   "metadata": {
    "scrolled": true
   },
   "outputs": [
    {
     "data": {
      "text/plain": [
       "<matplotlib.text.Text at 0x2682b58c080>"
      ]
     },
     "execution_count": 210,
     "metadata": {},
     "output_type": "execute_result"
    },
    {
     "data": {
      "image/png": "[encoded data removed]",
      "text/plain": [
       "<matplotlib.figure.Figure at 0x2682b4e2f28>"
      ]
     },
     "metadata": {},
     "output_type": "display_data"
    }
   ],
   "source": [
    "sns.factorplot(x=\"Block\",data= man_survivability_df,hue=\"FamilyMan\", \n",
    "               aspect=3, kind=\"count\", palette=\"Set1\")\n",
    "\"\"\"\n",
    "Demonstrate the Titanic's passengers age distribution by sex and passenger class\n",
    "The idea for this factorplot comes from http://seaborn.pydata.org/tutorial/categorical.html\n",
    "\"\"\"  \n",
    "plt.ylabel(\"Number of men\")\n",
    "plt.xlabel(\"Block of cabins: \\n 1: extreme stern occupied by Third Class: mostly single women and families,\\n  2: slightly to the stern occupied by Second Class,\\n  3: in the middle occupied by First Class, \\n 4: extreme bow occupied by Third Class: mostly single men or childless couples\")\n",
    "plt.title(\"Number of Men With or Without Family by the Block Number\")"
   ]
  },
  {
   "cell_type": "markdown",
   "metadata": {},
   "source": [
    "The plot above is coherent with the idea that only there were no single men at the stern part of the ship, and some couples without children were at the bow part of the ship.\n",
    "\n",
    "Now let's see if having family aboard was somehow favorable to the men survivabilty."
   ]
  },
  {
   "cell_type": "code",
   "execution_count": 211,
   "metadata": {
    "scrolled": true
   },
   "outputs": [
    {
     "data": {
      "text/plain": [
       "<matplotlib.text.Text at 0x2682b79a8d0>"
      ]
     },
     "execution_count": 211,
     "metadata": {},
     "output_type": "execute_result"
    },
    {
     "data": {
      "image/png": "[encoded data removed]",
      "text/plain": [
       "<matplotlib.figure.Figure at 0x2682a0853c8>"
      ]
     },
     "metadata": {},
     "output_type": "display_data"
    }
   ],
   "source": [
    "sns.factorplot(x=\"Block\",data= man_survivability_df,y=\"FamilyMan\",hue=\"Survivability\", \n",
    "               kind=\"violin\",split=True,aspect=3, palette=\"autumn\")\n",
    "\"\"\"\n",
    "Demonstrate the Titanic's passengers age distribution by sex and passenger class\n",
    "The idea for this factorplot comes from http://seaborn.pydata.org/tutorial/categorical.html\n",
    "\"\"\"  \n",
    "plt.ylabel(\"Passenger age, years old\")\n",
    "plt.xlabel(\"Block of cabins: \\n 1: extreme stern occupied by Third Class: mostly single women and families,\\n  2: slightly to the stern occupied by Second Class,\\n  3: in the middle occupied by First Class, \\n 4: extreme bow occupied by Third Class: mostly single men\")\n",
    "plt.title(\"Titanic's Male Passengers Survivability by Their Block Number\")"
   ]
  },
  {
   "cell_type": "markdown",
   "metadata": {},
   "source": [
    "It seems that there is some possibility of correlation of men survivabilty with the fact of family aboard for the First Class men.\n",
    "\n",
    "As it was mentionned above, that the men were allowed to enter lifeboats when there were no women. Since, the First Class men were first to arrive, they have had greater chances to take a place in lifeboats, using their family as \"their right\" to board."
   ]
  },
  {
   "cell_type": "code",
   "execution_count": 212,
   "metadata": {},
   "outputs": [
    {
     "data": {
      "text/plain": [
       "<matplotlib.text.Text at 0x2682b867e80>"
      ]
     },
     "execution_count": 212,
     "metadata": {},
     "output_type": "execute_result"
    },
    {
     "data": {
      "image/png": "[encoded data removed]",
      "text/plain": [
       "<matplotlib.figure.Figure at 0x2682b7ce9e8>"
      ]
     },
     "metadata": {},
     "output_type": "display_data"
    }
   ],
   "source": [
    "sns.factorplot(x=\"Block\",data= man_survivability_df,hue=\"Survivability\", \n",
    "               aspect=3, kind=\"count\", palette=\"Set2\")\n",
    "\"\"\"\n",
    "Demonstrate the Titanic's passengers age distribution by sex and passenger class\n",
    "The idea for this factorplot comes from http://seaborn.pydata.org/tutorial/categorical.html\n",
    "\"\"\"  \n",
    "plt.ylabel(\"Number of Adult Male Passenger\")\n",
    "plt.xlabel(\"Block of cabins: \\n 1: extreme stern occupied by Third Class: mostly single women and families,\\n  2: slightly to the stern occupied by Second Class,\\n  3: in the middle occupied by First Class, \\n 4: extreme bow occupied by Third Class: mostly single men\")\n",
    "plt.title(\"Titanic's Adult Male Survivability by the Block Number\")"
   ]
  },
  {
   "cell_type": "markdown",
   "metadata": {},
   "source": [
    "### The people who had less chances to survive were the Third class men.\n",
    "\n",
    "As the story tells us (and the plots confirm) only few of them were able to survive. They were not allowed to enter lifeboats, so they survived by making a crazy but corageous decision to pull to the freezing water and take a chance to find a way to be rescued by the not fully filled boats already int the water or to float on some kind of floating objects until saved by Carpatia.\n",
    "\n",
    "Even First Class male passenger have lesser chances to survive than those for the Third Class women and children.\n",
    "\n",
    "### The bottom line of the story is on the last plot and statistics below:\n"
   ]
  },
  {
   "cell_type": "code",
   "execution_count": 213,
   "metadata": {},
   "outputs": [
    {
     "data": {
      "text/plain": [
       "Victim      549\n",
       "Survivor    342\n",
       "Name: Survivability, dtype: int64"
      ]
     },
     "execution_count": 213,
     "metadata": {},
     "output_type": "execute_result"
    }
   ],
   "source": [
    "titanic_dataframe[\"Survivability\"].value_counts()\n",
    "# statistics of victims and survivors\n",
    "# only 38% has survived"
   ]
  },
  {
   "cell_type": "code",
   "execution_count": 214,
   "metadata": {},
   "outputs": [
    {
     "data": {
      "text/plain": [
       "<matplotlib.text.Text at 0x2682ba99278>"
      ]
     },
     "execution_count": 214,
     "metadata": {},
     "output_type": "execute_result"
    },
    {
     "data": {
      "image/png": "[encoded data removed]",
      "text/plain": [
       "<matplotlib.figure.Figure at 0x26829960cf8>"
      ]
     },
     "metadata": {},
     "output_type": "display_data"
    }
   ],
   "source": [
    "sns.factorplot(x=\"Survivability\",data= titanic_dataframe,\n",
    "               palette=\"Set2\", kind=\"count\", aspect = 1.5)\n",
    "plt.ylabel(\"Number of passengers\")\n",
    "plt.xlabel(\"Survivability\")\n",
    "plt.title(\"Number of Titanic's Survivors and Victims\")"
   ]
  },
  {
   "cell_type": "markdown",
   "metadata": {
    "collapsed": true
   },
   "source": [
    "## A list of Web sites, books, forums, blog posts, github repositories :\n",
    "\n",
    "The main references were:\n",
    "\n",
    "    1. https://github.com/jmportilla/Udemy-notes/blob/master/Intro%20to%20Data%20Projects%20-%20Titanic.ipynb   \n",
    "\n",
    "    2. http://seaborn.pydata.org/tutorial/categorical.html\n",
    "\n",
    "    3. Course notes from Introduction to Programming Nanodegree Program (\"IPND Program\") Udacity.\n",
    "\n",
    "    4. https://en.wikipedia.org/wiki/RMS_Titanic\n",
    "    \n",
    "    5. http://www.jessicayung.com/handling-nans-in-your-data-the-titanic-dataset/\n",
    "    \n",
    "    6. https://www.encyclopedia-titanica.org\n",
    "\n",
    "\n",
    "## Improvement Suggestion, including for the data set choice:\n",
    "\n",
    "In the description of the data set Udacity team has written the following:\n",
    "\n",
    "\"Titanic Data - Contains demographics and passenger information from 891 of the 2224 passengers and crew on board the Titanic.\"\n",
    "\n",
    "In fact, the data set from Udacity Nanodegree as well as that from https://www.kaggle.com/c/titanic/data gives the information about the passengers ONLY. No data on crew  is given in the data set (almost all of of them perished).\n",
    "\n",
    "In fact, as far as I understood, the original data set from Titanic passengers was splitted by Kaggle into 2 sets of data  (for training and for test)  for machine learning purposes. Since, this is not a goal of this Nanodegree Final Project, why Udacity have not chosen the whole set of ALL Titanic's passengers? Personnaly, I would prefer to analyse more complet data set (and I did so to indulge my curiosity out of the scope of this report) .\n",
    "\n",
    "For exemple, I found 1 data set here: http://biostat.mc.vanderbilt.edu/wiki/pub/Main/DataSets/titanic3.xls"
   ]
  },
  {
   "cell_type": "code",
   "execution_count": null,
   "metadata": {
    "collapsed": true
   },
   "outputs": [],
   "source": []
  }
 ],
 "metadata": {
  "kernelspec": {
   "display_name": "Python 3",
   "language": "python",
   "name": "python3"
  },
  "language_info": {
   "codemirror_mode": {
    "name": "ipython",
    "version": 3
   },
   "file_extension": ".py",
   "mimetype": "text/x-python",
   "name": "python",
   "nbconvert_exporter": "python",
   "pygments_lexer": "ipython3",
   "version": "3.6.1"
  }
 },
 "nbformat": 4,
 "nbformat_minor": 2
}
