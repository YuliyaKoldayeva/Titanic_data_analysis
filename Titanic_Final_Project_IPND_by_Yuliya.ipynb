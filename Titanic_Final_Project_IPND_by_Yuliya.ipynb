{
 "cells": [
  {
   "cell_type": "markdown",
   "metadata": {},
   "source": [
    "### I  have chosen the Titanic data set.\n",
    "\n",
    "### Some questions to answer:\n",
    "\n",
    "- Who were the passengers on Titanic:\n",
    "    - where did they embarked\n",
    "    - their demography (age, sex, class)\n",
    "    - were they with family aboard or not\n",
    "    \n",
    "- How many have survived and what factors helped them to survive (sex, ages, class, etc.)"
   ]
  },
  {
   "cell_type": "markdown",
   "metadata": {},
   "source": [
    "###############################################################\n",
    "####  INTRODUCTION: The story behind the numbers\n",
    "\n",
    "\n",
    "To make a better analisys it is important to know the story behind the data. It may help to rise right questions and to make better conclusions.\n",
    "\n",
    "So, everybody is aware about Titanic's story, but in general, people don't know a lot of details conserning it. That is why the article from Wikipedia is useful to give some light.\n",
    "\n",
    "Source: https://en.wikipedia.org/wiki/RMS_Titanic\n",
    "\n",
    "RMS Titanic (/taɪˈtænɪk/) was a British passenger liner that sank in the North Atlantic Ocean on 15 April 1912, after it collided with an iceberg during its maiden voyage from Southampton to New York City. \n",
    "\n",
    "The exact number of people aboard is not known, as not all of those who had booked tickets made it to the ship. Titanic's passengers numbered approximately 1,317 people and around 885 crew members on board. The ship was considerably under capacity on her maiden voyage, as she could accommodate 2,453 passengers. \n",
    "\n",
    "After leaving Southampton on 10 April 1912, Titanic called at Cherbourg in France and Queenstown (now Cobh) in Ireland before heading west to New York. On 14 April, four days into the crossing, she hit an iceberg at 11:40 p.m. ship's time. Some  passengers and some crew members were evacuated in lifeboats, many of which were launched only partially loaded. A disproportionate number of men were left aboard because of a \"women and children first\" protocol for loading lifeboats. At 2:20 a.m., she broke apart and foundered with well over one thousand people still aboard. "
   ]
  },
  {
   "cell_type": "code",
   "execution_count": 236,
   "metadata": {},
   "outputs": [
    {
     "data": {
      "text/html": [
       "<img src=\"https://upload.wikimedia.org/wikipedia/commons/4/48/Sinking_of_the_RMS_Titanic_animation.gif\"/>"
      ],
      "text/plain": [
       "<IPython.core.display.Image object>"
      ]
     },
     "execution_count": 236,
     "metadata": {},
     "output_type": "execute_result"
    }
   ],
   "source": [
    "# The figure shows the timing of Titanic sinking\n",
    "from IPython.display import Image\n",
    "Image(url='https://upload.wikimedia.org/wikipedia/commons/4/48/Sinking_of_the_RMS_Titanic_animation.gif')"
   ]
  },
  {
   "cell_type": "code",
   "execution_count": 237,
   "metadata": {
    "collapsed": true
   },
   "outputs": [],
   "source": [
    "import pandas as pd\n",
    "import numpy as np\n",
    "import matplotlib.pyplot as plt\n",
    "import seaborn as sns\n",
    "%matplotlib inline"
   ]
  },
  {
   "cell_type": "markdown",
   "metadata": {},
   "source": [
    "##############################################################################################################\n",
    "### Wrangling phase\n",
    "\n",
    "The data was obtained from Udacity website Intro to Programming Nanodegree for the Final Project."
   ]
  },
  {
   "cell_type": "markdown",
   "metadata": {},
   "source": [
    "### Getting familiar with the data set"
   ]
  },
  {
   "cell_type": "code",
   "execution_count": 238,
   "metadata": {
    "collapsed": true
   },
   "outputs": [],
   "source": [
    "titanic_original_dataframe = pd.read_csv(\"titanic_data.csv\") # Read the data from titanic_data.csv file"
   ]
  },
  {
   "cell_type": "code",
   "execution_count": 239,
   "metadata": {},
   "outputs": [
    {
     "data": {
      "text/plain": [
       "(891, 12)"
      ]
     },
     "execution_count": 239,
     "metadata": {},
     "output_type": "execute_result"
    }
   ],
   "source": [
    "titanic_original_dataframe.shape # Check the dimensions of the data set. There are 12 columns and 891 rows"
   ]
  },
  {
   "cell_type": "code",
   "execution_count": 240,
   "metadata": {},
   "outputs": [
    {
     "data": {
      "text/plain": [
       "PassengerId      int64\n",
       "Survived         int64\n",
       "Pclass           int64\n",
       "Name            object\n",
       "Sex             object\n",
       "Age            float64\n",
       "SibSp            int64\n",
       "Parch            int64\n",
       "Ticket          object\n",
       "Fare           float64\n",
       "Cabin           object\n",
       "Embarked        object\n",
       "dtype: object"
      ]
     },
     "execution_count": 240,
     "metadata": {},
     "output_type": "execute_result"
    }
   ],
   "source": [
    "titanic_original_dataframe.dtypes # Check the variable data types"
   ]
  },
  {
   "cell_type": "code",
   "execution_count": 241,
   "metadata": {
    "scrolled": true
   },
   "outputs": [
    {
     "name": "stdout",
     "output_type": "stream",
     "text": [
      "       PassengerId    Survived      Pclass         Age       SibSp  \\\n",
      "count   891.000000  891.000000  891.000000  714.000000  891.000000   \n",
      "mean    446.000000    0.383838    2.308642   29.699118    0.523008   \n",
      "std     257.353842    0.486592    0.836071   14.526497    1.102743   \n",
      "min       1.000000    0.000000    1.000000    0.420000    0.000000   \n",
      "25%     223.500000    0.000000    2.000000   20.125000    0.000000   \n",
      "50%     446.000000    0.000000    3.000000   28.000000    0.000000   \n",
      "75%     668.500000    1.000000    3.000000   38.000000    1.000000   \n",
      "max     891.000000    1.000000    3.000000   80.000000    8.000000   \n",
      "\n",
      "            Parch        Fare  \n",
      "count  891.000000  891.000000  \n",
      "mean     0.381594   32.204208  \n",
      "std      0.806057   49.693429  \n",
      "min      0.000000    0.000000  \n",
      "25%      0.000000    7.910400  \n",
      "50%      0.000000   14.454200  \n",
      "75%      0.000000   31.000000  \n",
      "max      6.000000  512.329200  \n"
     ]
    }
   ],
   "source": [
    "print(titanic_original_dataframe.describe()) # Getting statistical summary of the variables"
   ]
  },
  {
   "cell_type": "markdown",
   "metadata": {},
   "source": [
    "### Some of the very first notes: \n",
    "\n",
    "A lot of data about age is missing. The remaining data shows that the average age of the passengers was about 30 years old. The youngest passenger was about 5 months old and the oldest was 80 years old!!!\n",
    "\n",
    "There were 3 classes of passengers.\n",
    "\n",
    "Some people were with a lot of family members aboard : SibSp max is 8 and Parch is 6.\n",
    "\n",
    "It is unexpected that the min fare is \"0\", but for this analisys it is not an issue.\n",
    "\n",
    "The mean value for Survived is 0.38, so only 38% of passengers were lucky enough to survive..."
   ]
  },
  {
   "cell_type": "markdown",
   "metadata": {},
   "source": [
    "### Original Data Dictionary\n",
    "Data Dictionary from https://www.kaggle.com/c/titanic/data\n",
    "\n",
    "Variable\tDefinition\tKey\n",
    "\n",
    "survival\tSurvival\t0 = No, 1 = Yes\n",
    "\n",
    "pclass\tTicket class\t1 = 1st, 2 = 2nd, 3 = 3rd\n",
    "\n",
    "sex\t         Sex\t\n",
    "\n",
    "Age  \tAge in years\t\n",
    "\n",
    "sibsp\t# of siblings / spouses aboard the Titanic\t\n",
    "\n",
    "parch\t# of parents / children aboard the Titanic\t\n",
    "\n",
    "ticket\tTicket number\t\n",
    "\n",
    "fare\tPassenger fare\t\n",
    "\n",
    "cabin\tCabin number\t\n",
    "\n",
    "embarked\tPort of Embarkation\tC = Cherbourg, Q = Queenstown, S = Southampton\n",
    "\n",
    "Variable Notes\n",
    "\n",
    "pclass: A proxy for socio-economic status (SES)\n",
    "\n",
    "1st = Upper\n",
    "\n",
    "2nd = Middle\n",
    "\n",
    "3rd = Lower\n",
    "\n",
    "age: Age is fractional if less than 1. If the age is estimated, is it in the form of xx.5\n",
    "\n",
    "sibsp: The dataset defines family relations in this way...\n",
    "\n",
    "Sibling = brother, sister, stepbrother, stepsister\n",
    "\n",
    "Spouse = husband, wife (mistresses and fiancés were ignored)\n",
    "\n",
    "parch: The dataset defines family relations in this way...\n",
    "\n",
    "Parent = mother, father\n",
    "\n",
    "Child = daughter, son, stepdaughter, stepson\n",
    "\n",
    "Some children travelled only with a nanny, therefore parch=0 for them."
   ]
  },
  {
   "cell_type": "code",
   "execution_count": 242,
   "metadata": {},
   "outputs": [
    {
     "data": {
      "text/html": [
       "<div>\n",
       "<style>\n",
       "    .dataframe thead tr:only-child th {\n",
       "        text-align: right;\n",
       "    }\n",
       "\n",
       "    .dataframe thead th {\n",
       "        text-align: left;\n",
       "    }\n",
       "\n",
       "    .dataframe tbody tr th {\n",
       "        vertical-align: top;\n",
       "    }\n",
       "</style>\n",
       "<table border=\"1\" class=\"dataframe\">\n",
       "  <thead>\n",
       "    <tr style=\"text-align: right;\">\n",
       "      <th></th>\n",
       "      <th>PassengerId</th>\n",
       "      <th>Survived</th>\n",
       "      <th>Pclass</th>\n",
       "      <th>Name</th>\n",
       "      <th>Sex</th>\n",
       "      <th>Age</th>\n",
       "      <th>SibSp</th>\n",
       "      <th>Parch</th>\n",
       "      <th>Ticket</th>\n",
       "      <th>Fare</th>\n",
       "      <th>Cabin</th>\n",
       "      <th>Embarked</th>\n",
       "    </tr>\n",
       "  </thead>\n",
       "  <tbody>\n",
       "    <tr>\n",
       "      <th>0</th>\n",
       "      <td>1</td>\n",
       "      <td>0</td>\n",
       "      <td>3</td>\n",
       "      <td>Braund, Mr. Owen Harris</td>\n",
       "      <td>male</td>\n",
       "      <td>22.0</td>\n",
       "      <td>1</td>\n",
       "      <td>0</td>\n",
       "      <td>A/5 21171</td>\n",
       "      <td>7.2500</td>\n",
       "      <td>NaN</td>\n",
       "      <td>S</td>\n",
       "    </tr>\n",
       "    <tr>\n",
       "      <th>1</th>\n",
       "      <td>2</td>\n",
       "      <td>1</td>\n",
       "      <td>1</td>\n",
       "      <td>Cumings, Mrs. John Bradley (Florence Briggs Th...</td>\n",
       "      <td>female</td>\n",
       "      <td>38.0</td>\n",
       "      <td>1</td>\n",
       "      <td>0</td>\n",
       "      <td>PC 17599</td>\n",
       "      <td>71.2833</td>\n",
       "      <td>C85</td>\n",
       "      <td>C</td>\n",
       "    </tr>\n",
       "    <tr>\n",
       "      <th>2</th>\n",
       "      <td>3</td>\n",
       "      <td>1</td>\n",
       "      <td>3</td>\n",
       "      <td>Heikkinen, Miss. Laina</td>\n",
       "      <td>female</td>\n",
       "      <td>26.0</td>\n",
       "      <td>0</td>\n",
       "      <td>0</td>\n",
       "      <td>STON/O2. 3101282</td>\n",
       "      <td>7.9250</td>\n",
       "      <td>NaN</td>\n",
       "      <td>S</td>\n",
       "    </tr>\n",
       "    <tr>\n",
       "      <th>3</th>\n",
       "      <td>4</td>\n",
       "      <td>1</td>\n",
       "      <td>1</td>\n",
       "      <td>Futrelle, Mrs. Jacques Heath (Lily May Peel)</td>\n",
       "      <td>female</td>\n",
       "      <td>35.0</td>\n",
       "      <td>1</td>\n",
       "      <td>0</td>\n",
       "      <td>113803</td>\n",
       "      <td>53.1000</td>\n",
       "      <td>C123</td>\n",
       "      <td>S</td>\n",
       "    </tr>\n",
       "    <tr>\n",
       "      <th>4</th>\n",
       "      <td>5</td>\n",
       "      <td>0</td>\n",
       "      <td>3</td>\n",
       "      <td>Allen, Mr. William Henry</td>\n",
       "      <td>male</td>\n",
       "      <td>35.0</td>\n",
       "      <td>0</td>\n",
       "      <td>0</td>\n",
       "      <td>373450</td>\n",
       "      <td>8.0500</td>\n",
       "      <td>NaN</td>\n",
       "      <td>S</td>\n",
       "    </tr>\n",
       "  </tbody>\n",
       "</table>\n",
       "</div>"
      ],
      "text/plain": [
       "   PassengerId  Survived  Pclass  \\\n",
       "0            1         0       3   \n",
       "1            2         1       1   \n",
       "2            3         1       3   \n",
       "3            4         1       1   \n",
       "4            5         0       3   \n",
       "\n",
       "                                                Name     Sex   Age  SibSp  \\\n",
       "0                            Braund, Mr. Owen Harris    male  22.0      1   \n",
       "1  Cumings, Mrs. John Bradley (Florence Briggs Th...  female  38.0      1   \n",
       "2                             Heikkinen, Miss. Laina  female  26.0      0   \n",
       "3       Futrelle, Mrs. Jacques Heath (Lily May Peel)  female  35.0      1   \n",
       "4                           Allen, Mr. William Henry    male  35.0      0   \n",
       "\n",
       "   Parch            Ticket     Fare Cabin Embarked  \n",
       "0      0         A/5 21171   7.2500   NaN        S  \n",
       "1      0          PC 17599  71.2833   C85        C  \n",
       "2      0  STON/O2. 3101282   7.9250   NaN        S  \n",
       "3      0            113803  53.1000  C123        S  \n",
       "4      0            373450   8.0500   NaN        S  "
      ]
     },
     "execution_count": 242,
     "metadata": {},
     "output_type": "execute_result"
    }
   ],
   "source": [
    "titanic_original_dataframe.head() # Print the head of the original data to see what it looks like"
   ]
  },
  {
   "cell_type": "markdown",
   "metadata": {},
   "source": [
    "#### Some columns are not necessary, so they could be removed from the data frame\n",
    "\n",
    "It seems that \"PassengerId\" has no value for the current analisys purposes, it is just a number assigned to each passenger.\n",
    "\"Ticket\" and \"Fare\" are note useful to answer the questions.\n",
    "\n",
    "#### Some new columns should be created to give some better readability for the data.\n",
    "\n",
    "\"AliveDead\"  provides \"Perished\" or \"Alive\" instead of 0 and 1\n",
    "\n",
    "\"SES\"  gives more detailed description for each class\n",
    "\n",
    "\"Port\" shows the whole name of each port instead of its first letter only\n",
    "\n",
    "\"FamilyMembers\" provides the total number of family members aboard for each passenger\n",
    "\n",
    "\"Demography\" introduces a new classification as boy/girl, man/woman and elder man/woman after it combines age/sex info for each passenger\n",
    "\n",
    "\"Deck\" gives the info about the deck level based on Cabin info "
   ]
  },
  {
   "cell_type": "code",
   "execution_count": 243,
   "metadata": {
    "collapsed": true
   },
   "outputs": [],
   "source": [
    "titanic_dataframe = pd.DataFrame.copy(titanic_original_dataframe) # Make a copy of the original data frame "
   ]
  },
  {
   "cell_type": "code",
   "execution_count": 244,
   "metadata": {
    "collapsed": true
   },
   "outputs": [],
   "source": [
    "titanic_dataframe[\"AliveDead\"] = titanic_dataframe.Survived.map({0: \"Perished\", 1: \"Alive\"}) "
   ]
  },
  {
   "cell_type": "code",
   "execution_count": 245,
   "metadata": {
    "collapsed": true
   },
   "outputs": [],
   "source": [
    "titanic_dataframe[\"SES\"] = titanic_dataframe.Pclass.map({ 1: \"1 (Upper Class)\", 2: \"2 (Middle Class)\", 3: \"3 (Lower Class)\"})"
   ]
  },
  {
   "cell_type": "code",
   "execution_count": 246,
   "metadata": {
    "collapsed": true
   },
   "outputs": [],
   "source": [
    "titanic_dataframe[\"Port\"] = titanic_dataframe.Embarked.map({ \"S\": \"Southampton\", \"C\": \"Cherbourg\", \"Q\": \"Queenstown\"})"
   ]
  },
  {
   "cell_type": "code",
   "execution_count": 247,
   "metadata": {
    "collapsed": true
   },
   "outputs": [],
   "source": [
    "titanic_dataframe[\"FamilyMembers\"] = titanic_dataframe[\"SibSp\"] + titanic_dataframe[\"Parch\"]"
   ]
  },
  {
   "cell_type": "code",
   "execution_count": 248,
   "metadata": {
    "collapsed": true
   },
   "outputs": [],
   "source": [
    "def demography(passenger):\n",
    "    \"\"\"\n",
    "    This function takes age and sex values as inputs and returns a new \n",
    "    classifications as boy/girl (for ages <15)  or elder man/woman (ages>60)\n",
    "    It returns sex for people with ages between 15 and 60\n",
    "    The age of 15 was choosen arbitrary, because of the lack of information about the \"child age\" definition for that time.\n",
    "    \"\"\"\n",
    "    age,sex = passenger\n",
    "    \n",
    "    if age <15:\n",
    "        if sex == \"male\":\n",
    "            return \"boy\"\n",
    "        else:\n",
    "            return \"girl\"\n",
    "    elif age >60:\n",
    "        if sex == \"male\":\n",
    "            return \"elder man\"\n",
    "        else:\n",
    "            return \"elder woman\"        \n",
    "    else:\n",
    "        if sex == \"male\":\n",
    "            return \"man\"\n",
    "        else:\n",
    "            return \"woman\"  "
   ]
  },
  {
   "cell_type": "code",
   "execution_count": 249,
   "metadata": {
    "collapsed": true
   },
   "outputs": [],
   "source": [
    "titanic_dataframe[\"Demography\"]=titanic_dataframe[[\"Age\",\"Sex\"]].apply(demography,axis=1) \n",
    "# separates children, elders, and women/men"
   ]
  },
  {
   "cell_type": "code",
   "execution_count": 250,
   "metadata": {
    "collapsed": true
   },
   "outputs": [],
   "source": [
    "titanic_dataframe[\"Deck\"] = titanic_dataframe[\"Cabin\"].fillna(\"unknown\") \n",
    "# creats a new column for deck number(letter) based on \"Cabin\" names; missing values are substituted by the string \"unknown\""
   ]
  },
  {
   "cell_type": "code",
   "execution_count": 251,
   "metadata": {
    "collapsed": true
   },
   "outputs": [],
   "source": [
    "def cabin_on_deck(cabin_name):\n",
    "    \"\"\"\n",
    "    This function has as an input the string with the name of each cabin and returns its first letter as a deck level.\n",
    "    Also, it cleans some unexpected values (e.x. \"F E69\", \"T\").\n",
    "    All cabin_name values come from titanic_dataframe[\"Cabin\"]. \"deck\" is a list where all deck levels will be stored.\n",
    "    \"\"\"\n",
    "    deck = []\n",
    "    for cabin in cabin_name:\n",
    "               \n",
    "        if cabin == \"unknown\" or cabin == \"T\": \n",
    "            # if cabin number is unknown, so deck is unknown; \n",
    "            # T value was spotted when the data was plotted, but it is not any reasonable name for deck level\n",
    "            deck.append(\"unknown\")                \n",
    "            \n",
    "        elif len(cabin)>1 and cabin[1] == \" \": \n",
    "            \"\"\"\n",
    "            This statement checks for some unexpected cabin names like \"F E69\", \"F G73\", \"F G63\", \"F G73\", etc.\n",
    "            For thees cases the third letter will be considered as a deck level\n",
    "            \n",
    "            \"\"\"\n",
    "            deck.append(cabin[2])            \n",
    "            \n",
    "        else:            \n",
    "            deck.append(cabin[0])\n",
    "        \n",
    "    return deck"
   ]
  },
  {
   "cell_type": "code",
   "execution_count": 252,
   "metadata": {
    "collapsed": true
   },
   "outputs": [],
   "source": [
    "titanic_dataframe[\"Deck\"] = pd.DataFrame(cabin_on_deck(titanic_dataframe[\"Deck\"]))\n",
    "# The output from function cabin_on_deck(cabin_name) is transformed into DataFrame to be used as a new column"
   ]
  },
  {
   "cell_type": "code",
   "execution_count": 253,
   "metadata": {},
   "outputs": [],
   "source": [
    "# Establishes the column order in the new data frame to be analysed. The columns \"Sex\" and \"Pclass\" was left for some kind of analisys.\n",
    "titanic_dataframe = titanic_dataframe[[\"AliveDead\",\"SES\",\"Port\",\"Name\",\"Demography\",\"Age\",\"FamilyMembers\",\"Cabin\",\"Deck\",\"Sex\",\"Pclass\"]]  \n",
    "# sort by the values of the following columns \"SES\",\"Name\"\n",
    "titanic_dataframe=titanic_dataframe.sort_values([\"SES\",\"Name\"])"
   ]
  },
  {
   "cell_type": "code",
   "execution_count": 254,
   "metadata": {
    "scrolled": true
   },
   "outputs": [
    {
     "data": {
      "text/html": [
       "<div>\n",
       "<style>\n",
       "    .dataframe thead tr:only-child th {\n",
       "        text-align: right;\n",
       "    }\n",
       "\n",
       "    .dataframe thead th {\n",
       "        text-align: left;\n",
       "    }\n",
       "\n",
       "    .dataframe tbody tr th {\n",
       "        vertical-align: top;\n",
       "    }\n",
       "</style>\n",
       "<table border=\"1\" class=\"dataframe\">\n",
       "  <thead>\n",
       "    <tr style=\"text-align: right;\">\n",
       "      <th></th>\n",
       "      <th>AliveDead</th>\n",
       "      <th>SES</th>\n",
       "      <th>Port</th>\n",
       "      <th>Name</th>\n",
       "      <th>Demography</th>\n",
       "      <th>Age</th>\n",
       "      <th>FamilyMembers</th>\n",
       "      <th>Cabin</th>\n",
       "      <th>Deck</th>\n",
       "      <th>Sex</th>\n",
       "      <th>Pclass</th>\n",
       "    </tr>\n",
       "  </thead>\n",
       "  <tbody>\n",
       "    <tr>\n",
       "      <th>730</th>\n",
       "      <td>Alive</td>\n",
       "      <td>1 (Upper Class)</td>\n",
       "      <td>Southampton</td>\n",
       "      <td>Allen, Miss. Elisabeth Walton</td>\n",
       "      <td>woman</td>\n",
       "      <td>29.00</td>\n",
       "      <td>0</td>\n",
       "      <td>B5</td>\n",
       "      <td>B</td>\n",
       "      <td>female</td>\n",
       "      <td>1</td>\n",
       "    </tr>\n",
       "    <tr>\n",
       "      <th>305</th>\n",
       "      <td>Alive</td>\n",
       "      <td>1 (Upper Class)</td>\n",
       "      <td>Southampton</td>\n",
       "      <td>Allison, Master. Hudson Trevor</td>\n",
       "      <td>boy</td>\n",
       "      <td>0.92</td>\n",
       "      <td>3</td>\n",
       "      <td>C22 C26</td>\n",
       "      <td>C</td>\n",
       "      <td>male</td>\n",
       "      <td>1</td>\n",
       "    </tr>\n",
       "    <tr>\n",
       "      <th>297</th>\n",
       "      <td>Perished</td>\n",
       "      <td>1 (Upper Class)</td>\n",
       "      <td>Southampton</td>\n",
       "      <td>Allison, Miss. Helen Loraine</td>\n",
       "      <td>girl</td>\n",
       "      <td>2.00</td>\n",
       "      <td>3</td>\n",
       "      <td>C22 C26</td>\n",
       "      <td>C</td>\n",
       "      <td>female</td>\n",
       "      <td>1</td>\n",
       "    </tr>\n",
       "    <tr>\n",
       "      <th>498</th>\n",
       "      <td>Perished</td>\n",
       "      <td>1 (Upper Class)</td>\n",
       "      <td>Southampton</td>\n",
       "      <td>Allison, Mrs. Hudson J C (Bessie Waldo Daniels)</td>\n",
       "      <td>woman</td>\n",
       "      <td>25.00</td>\n",
       "      <td>3</td>\n",
       "      <td>C22 C26</td>\n",
       "      <td>C</td>\n",
       "      <td>female</td>\n",
       "      <td>1</td>\n",
       "    </tr>\n",
       "    <tr>\n",
       "      <th>460</th>\n",
       "      <td>Alive</td>\n",
       "      <td>1 (Upper Class)</td>\n",
       "      <td>Southampton</td>\n",
       "      <td>Anderson, Mr. Harry</td>\n",
       "      <td>man</td>\n",
       "      <td>48.00</td>\n",
       "      <td>0</td>\n",
       "      <td>E12</td>\n",
       "      <td>E</td>\n",
       "      <td>male</td>\n",
       "      <td>1</td>\n",
       "    </tr>\n",
       "  </tbody>\n",
       "</table>\n",
       "</div>"
      ],
      "text/plain": [
       "    AliveDead              SES         Port  \\\n",
       "730     Alive  1 (Upper Class)  Southampton   \n",
       "305     Alive  1 (Upper Class)  Southampton   \n",
       "297  Perished  1 (Upper Class)  Southampton   \n",
       "498  Perished  1 (Upper Class)  Southampton   \n",
       "460     Alive  1 (Upper Class)  Southampton   \n",
       "\n",
       "                                                Name Demography    Age  \\\n",
       "730                    Allen, Miss. Elisabeth Walton      woman  29.00   \n",
       "305                   Allison, Master. Hudson Trevor        boy   0.92   \n",
       "297                     Allison, Miss. Helen Loraine       girl   2.00   \n",
       "498  Allison, Mrs. Hudson J C (Bessie Waldo Daniels)      woman  25.00   \n",
       "460                              Anderson, Mr. Harry        man  48.00   \n",
       "\n",
       "     FamilyMembers    Cabin Deck     Sex  Pclass  \n",
       "730              0       B5    B  female       1  \n",
       "305              3  C22 C26    C    male       1  \n",
       "297              3  C22 C26    C  female       1  \n",
       "498              3  C22 C26    C  female       1  \n",
       "460              0      E12    E    male       1  "
      ]
     },
     "execution_count": 254,
     "metadata": {},
     "output_type": "execute_result"
    }
   ],
   "source": [
    "\"\"\"\n",
    "Prints what it looks like after the columns were reordered what it looks like \n",
    "after the columns were created, reordered and sorted\n",
    "\"\"\"\n",
    "titanic_dataframe.head() "
   ]
  },
  {
   "cell_type": "markdown",
   "metadata": {},
   "source": [
    "#### VERY INTERESTING Women Names:\n",
    "\n",
    "I found that some women names are very interesting, e.g. \"Allison, Mrs. Hudson J C (Bessie Waldo Daniels)\"\n",
    "\n",
    "Here is an explanation about married women names of that time:\n",
    "\n",
    "Woman legal existence as an individual was suspended under ‘marital unity,’ a legal fiction in which the husband and wife were considered a single entity: the husband. As such, when married the wife would assume her husband’s name to become Mrs. his name. \n",
    "\n",
    "Source: https://www.huffingtonpost.com/joni-erdmann/why-are-women-still-chang_b_8486370.html"
   ]
  },
  {
   "cell_type": "markdown",
   "metadata": {},
   "source": [
    "############################################################################################################"
   ]
  },
  {
   "cell_type": "markdown",
   "metadata": {},
   "source": [
    "\n",
    "\n",
    "## Exploration phase:\n",
    "\n",
    "Let's have an idea what was the general socio economic status of the Titanic's passengers."
   ]
  },
  {
   "cell_type": "code",
   "execution_count": 255,
   "metadata": {},
   "outputs": [
    {
     "data": {
      "text/plain": [
       "<matplotlib.text.Text at 0x1531d4e9e10>"
      ]
     },
     "execution_count": 255,
     "metadata": {},
     "output_type": "execute_result"
    },
    {
     "data": {
      "image/png": "[encoded data removed]",
      "text/plain": [
       "<matplotlib.figure.Figure at 0x1531a6ddf60>"
      ]
     },
     "metadata": {},
     "output_type": "display_data"
    }
   ],
   "source": [
    "sns.factorplot(x=\"SES\",data=titanic_dataframe,kind=\"count\",aspect = 2, palette = \"summer\") \n",
    "# SES of passengers of Titanic\n",
    "# The number of lower class passenger was more than double of those of two other classes\n",
    "plt.xlabel(\"Socio-Economic Status (SES)\")\n",
    "plt.ylabel(\"Number of Passengers\")\n",
    "plt.title(\"Titanic's Passengers by their Socio-Economic Status (SES)\")"
   ]
  },
  {
   "cell_type": "markdown",
   "metadata": {},
   "source": [
    "#### Conclusion:\n",
    "\n",
    "The most of Titanic's passengers were the 3 (Lower Class).\n",
    "\n",
    "#### New question:\n",
    "\n",
    "We know, that after leaving Southampton on 10 April 1912, Titanic called at Cherbourg in France and Queenstown (now Cobh) in Ireland before heading west to New York. \n",
    "\n",
    "So, using our data, we will try to better understand how many passengers embarked in each city and who were they."
   ]
  },
  {
   "cell_type": "code",
   "execution_count": 256,
   "metadata": {},
   "outputs": [
    {
     "data": {
      "text/plain": [
       "<matplotlib.text.Text at 0x1531d58b0b8>"
      ]
     },
     "execution_count": 256,
     "metadata": {},
     "output_type": "execute_result"
    },
    {
     "data": {
      "image/png": "[encoded data removed]",
      "text/plain": [
       "<matplotlib.figure.Figure at 0x1531d4c6748>"
      ]
     },
     "metadata": {},
     "output_type": "display_data"
    }
   ],
   "source": [
    "sns.factorplot(x=\"Port\",data=titanic_dataframe,kind=\"count\",aspect = 2,palette = \"winter\") \n",
    "# The number of passengers embarked in each port\n",
    "plt.xlabel(\"Port Name\")\n",
    "plt.ylabel(\"Number of passengers\")\n",
    "plt.title(\"Titanic's passengers taken aboard in each port\")"
   ]
  },
  {
   "cell_type": "markdown",
   "metadata": {},
   "source": [
    "#### Conclusion: \n",
    "Wow, such a big difference in numbers... Why it has happend?\n",
    "\n",
    "One of the possible explanations is that the dock facilities in Cherbourg as well as in Queenstown were not suitable for a ship of Titanic's size, and tenders were used to bring passengers aboard. (Source: Wikipedia).\n",
    "\n",
    "So, maybe, those cities were not developped enough and their citizens had no enough money to pay a trip.\n",
    "\n",
    "#### Question:\n",
    "\n",
    "What about social and economic status of the passengers embarked in each city?"
   ]
  },
  {
   "cell_type": "code",
   "execution_count": 257,
   "metadata": {},
   "outputs": [
    {
     "data": {
      "text/plain": [
       "<matplotlib.text.Text at 0x1531d620358>"
      ]
     },
     "execution_count": 257,
     "metadata": {},
     "output_type": "execute_result"
    },
    {
     "data": {
      "image/png": "[encoded data removed]",
      "text/plain": [
       "<matplotlib.figure.Figure at 0x1531d592940>"
      ]
     },
     "metadata": {},
     "output_type": "display_data"
    }
   ],
   "source": [
    "sns.factorplot(x=\"Port\",data=titanic_dataframe,kind=\"count\",hue=\"SES\", aspect = 3,palette = \"spring_d\") \n",
    "# Shows social and economics aspects of the passengers embarked in each city\n",
    "plt.xlabel(\"Port Name and Socio-Economic Status (SES) of the Passengers\")\n",
    "plt.ylabel(\"Number of Passengers\")\n",
    "plt.title(\"Titanic's Passengers by Their Socio-Economic Status (SES) and the Embarkment Port\")"
   ]
  },
  {
   "cell_type": "markdown",
   "metadata": {},
   "source": [
    "#### Such a different situation for each city!!! \n",
    "\n",
    "Personnaly, I would expect to see somewhat similar to Southampton for each city.\n",
    "\n",
    "The most of Cherbourg passengers were Upper Class, great number of Lower Class and some of Middle Class.\n",
    "\n",
    "For Queenstown, only few passenger were Upper or Middle Class.\n",
    "\n",
    "Very interesting findings and they are not self-explanatory, so, some additional research is needed to understand the reasons of such distribuition. But for the moment it is out of scope of this analisys.\n",
    "\n",
    "#### All passengers onboard. Let's discover a little bit more about them...\n",
    "\n",
    "From the preliminary analisys it is known, that the average age of the passengers was 29-30 years old. The youngest passenger was about 5 months old and the oldest was 80 years old!!! \n",
    "\n",
    "#### But what about the others, how old they were ?"
   ]
  },
  {
   "cell_type": "code",
   "execution_count": 258,
   "metadata": {},
   "outputs": [
    {
     "data": {
      "text/plain": [
       "<matplotlib.text.Text at 0x1531d6f0978>"
      ]
     },
     "execution_count": 258,
     "metadata": {},
     "output_type": "execute_result"
    },
    {
     "data": {
      "image/png": "[encoded data removed]",
      "text/plain": [
       "<matplotlib.figure.Figure at 0x1531d4d23c8>"
      ]
     },
     "metadata": {},
     "output_type": "display_data"
    }
   ],
   "source": [
    "titanic_dataframe[\"Age\"].hist(bins=40) \n",
    "# Since the ages are ranged between 0 and 80, bins=40 is better than standart value \n",
    "plt.xlabel(\"Ages (years old )\")\n",
    "plt.ylabel(\"Number of passengers of each age\")\n",
    "plt.title(\"Titanic's passenger ages\")"
   ]
  },
  {
   "cell_type": "code",
   "execution_count": 259,
   "metadata": {},
   "outputs": [
    {
     "data": {
      "text/plain": [
       "29.69911764705882"
      ]
     },
     "execution_count": 259,
     "metadata": {},
     "output_type": "execute_result"
    }
   ],
   "source": [
    "np.mean(titanic_dataframe[\"Age\"]) # Finds the avarage age of Titanic's passengers"
   ]
  },
  {
   "cell_type": "markdown",
   "metadata": {},
   "source": [
    "#### Conclusion:\n",
    "\n",
    "Overall, it seems that there were a lot of young people and young families aboard, beacause of the number of young kids and even babies.\n",
    "The most part of adults were aged between 20 - 40 years, with a small number of passengers older than 60.\n",
    "\n",
    "#### Question: \n",
    "\n",
    "Was this age distribuition characterstic for all classes?"
   ]
  },
  {
   "cell_type": "code",
   "execution_count": 260,
   "metadata": {
    "scrolled": false
   },
   "outputs": [
    {
     "data": {
      "text/plain": [
       "<matplotlib.text.Text at 0x1531d987f28>"
      ]
     },
     "execution_count": 260,
     "metadata": {},
     "output_type": "execute_result"
    },
    {
     "data": {
      "image/png": "[encoded data removed]",
      "text/plain": [
       "<matplotlib.figure.Figure at 0x1531d9230f0>"
      ]
     },
     "metadata": {},
     "output_type": "display_data"
    }
   ],
   "source": [
    "# Shows the relation between age distribuition for each passenger class\n",
    "graph_age_class=sns.FacetGrid(titanic_dataframe,hue='SES', aspect=3)\n",
    "graph_age_class.map(sns.kdeplot,'Age')\n",
    "graph_age_class.add_legend()\n",
    "plt.xlabel(\"Passenger Age, years old\")\n",
    "plt.ylabel(\"Number of Passengers\")\n",
    "plt.title(\"Titanic's Passengers Age Distribuition for Each Socio-Economic Status (SES)\")"
   ]
  },
  {
   "cell_type": "markdown",
   "metadata": {},
   "source": [
    "#### Conclusion:\n",
    "\n",
    "Middle and Lower Class passnegers have age distribuitions similar to that shown on histogram. Their main difference is the averege age. The most part of Lower Class passengers were younger (20 years) than those from Middle Class (30 years). \n",
    "\n",
    "Upper class passsenger´s average age was about 40 years old and there were not a lot of children.\n",
    "\n",
    "#### Question: \n",
    "\n",
    "Was there some age difference by sex inside the each class?"
   ]
  },
  {
   "cell_type": "code",
   "execution_count": 261,
   "metadata": {},
   "outputs": [
    {
     "data": {
      "text/plain": [
       "<matplotlib.text.Text at 0x1531ea17978>"
      ]
     },
     "execution_count": 261,
     "metadata": {},
     "output_type": "execute_result"
    },
    {
     "data": {
      "image/png": "[encoded data removed]",
      "text/plain": [
       "<matplotlib.figure.Figure at 0x1531d945630>"
      ]
     },
     "metadata": {},
     "output_type": "display_data"
    }
   ],
   "source": [
    "sns.factorplot(x=\"SES\",data= titanic_dataframe,y=\"Age\",hue=\"Sex\", kind=\"violin\",split=True,aspect=3, palette=\"Set1\")\n",
    "\"\"\"\n",
    "Demonstrate the Titanic's passengers age distribution by sex and passenger class\n",
    "The idea for this factorplot comes from http://seaborn.pydata.org/tutorial/categorical.html\n",
    "\"\"\"  \n",
    "plt.ylabel(\"Passenger age, years old\")\n",
    "plt.xlabel(\"Socio-Economic Status (SES)\")\n",
    "plt.title(\"Titanic's passengers age distribuition by sex for each socio-economic status (SES)\")"
   ]
  },
  {
   "cell_type": "markdown",
   "metadata": {},
   "source": [
    "#### Conclusion:\n",
    "\n",
    "Middle and Lower Class passnegers had no significant difference by age between men and women. \n",
    "\n",
    "Upper class women in average were younger than the Upper Class men.\n",
    "\n",
    "#### Question: \n",
    "\n",
    "How many men, women, children, and elders were aboard?\n",
    "\n",
    "To answer this question it is interesting to check some statisctics."
   ]
  },
  {
   "cell_type": "code",
   "execution_count": 262,
   "metadata": {
    "scrolled": true
   },
   "outputs": [
    {
     "data": {
      "text/plain": [
       "man            519\n",
       "woman          272\n",
       "boy             39\n",
       "girl            39\n",
       "elder man       19\n",
       "elder woman      3\n",
       "Name: Demography, dtype: int64"
      ]
     },
     "execution_count": 262,
     "metadata": {},
     "output_type": "execute_result"
    }
   ],
   "source": [
    "titanic_dataframe[\"Demography\"].value_counts() # counts the number of  boys, girls, elders, and women/men"
   ]
  },
  {
   "cell_type": "markdown",
   "metadata": {},
   "source": [
    "#### Conclusion:\n",
    "\n",
    "It is clear, that there were almost twice men than women aboard, while there was an equal number of boys and girls aged less than 15 years old. But there were 6 times more elder men than elder women (older than 60).\n",
    "\n",
    "#### Question: \n",
    "\n",
    "How does this varies accordinly to each passenger class?\n"
   ]
  },
  {
   "cell_type": "code",
   "execution_count": 263,
   "metadata": {},
   "outputs": [
    {
     "data": {
      "text/plain": [
       "<matplotlib.text.Text at 0x1531eaf90b8>"
      ]
     },
     "execution_count": 263,
     "metadata": {},
     "output_type": "execute_result"
    },
    {
     "data": {
      "image/png": "[encoded data removed]",
      "text/plain": [
       "<matplotlib.figure.Figure at 0x1531ea26080>"
      ]
     },
     "metadata": {},
     "output_type": "display_data"
    }
   ],
   "source": [
    "#Shows how many children, elders, women/men in each passenger class\n",
    "sns.factorplot(x=\"Demography\",data=titanic_dataframe,kind=\"count\",hue='SES', aspect = 3,\n",
    "              order = [\"boy\",\"girl\",\"man\",\"woman\",\"elder man\",\"elder woman\"])\n",
    "plt.ylabel(\"Passenger number\")\n",
    "plt.xlabel(\"Age/Sex groups by Socio-Economic Status (SES)\")\n",
    "plt.title(\"Number of Titanic's passengers by age/sex classification and their Socio-Economic Status\")\n"
   ]
  },
  {
   "cell_type": "markdown",
   "metadata": {},
   "source": [
    "#### Conclusion:\n",
    "\n",
    "There is no significant difference in the number between men and women for the upper class passengers. For the middle class passengers there were about 100 men and 60-70 women. For the lower class passenger the women were only about 35% of men's number.\n",
    "\n",
    "The most children aboard were from the lower class, only few children were from the upper class.\n",
    "\n",
    "#### Question: \n",
    "\n",
    "This diference between men and women numbers drive us to a new question: \"How many family members of each passenger were aboard?\"\n"
   ]
  },
  {
   "cell_type": "code",
   "execution_count": 264,
   "metadata": {},
   "outputs": [
    {
     "data": {
      "text/plain": [
       "<matplotlib.text.Text at 0x1531ebe4748>"
      ]
     },
     "execution_count": 264,
     "metadata": {},
     "output_type": "execute_result"
    },
    {
     "data": {
      "image/png": "[encoded data removed]",
      "text/plain": [
       "<matplotlib.figure.Figure at 0x1531d9affd0>"
      ]
     },
     "metadata": {},
     "output_type": "display_data"
    }
   ],
   "source": [
    "titanic_dataframe[\"FamilyMembers\"].hist() # Shows how many family members of each passenger were aboard\n",
    "plt.xlabel(\"Number of family members aboard\")\n",
    "plt.ylabel(\"Number of Titanic's passengers\")\n",
    "plt.title(\"Number of family members aboard for each of Titanics passenger\")"
   ]
  },
  {
   "cell_type": "markdown",
   "metadata": {},
   "source": [
    "#### Conclusion:\n",
    "\n",
    "As expected, the majority was without any family aboard (about 550 from 891). About 160 people were with 1 family member, about 100 were with 2 family members. Despite they were not in a big number, there were some very big families aboard!!!\n",
    "\n",
    "#### Question: \n",
    "\n",
    "What passenger class had bigger families aboard?\n"
   ]
  },
  {
   "cell_type": "code",
   "execution_count": 265,
   "metadata": {},
   "outputs": [
    {
     "data": {
      "text/plain": [
       "<seaborn.axisgrid.FacetGrid at 0x1531ed81400>"
      ]
     },
     "execution_count": 265,
     "metadata": {},
     "output_type": "execute_result"
    },
    {
     "data": {
      "image/png": "[encoded data removed]",
      "text/plain": [
       "<matplotlib.figure.Figure at 0x1531d923438>"
      ]
     },
     "metadata": {},
     "output_type": "display_data"
    }
   ],
   "source": [
    "sns.factorplot(x=\"FamilyMembers\",data= titanic_dataframe,kind=\"count\",col='SES') \n",
    "# What passenger class had bigger families aboard?"
   ]
  },
  {
   "cell_type": "markdown",
   "metadata": {},
   "source": [
    "#### Conclusion:\n",
    "\n",
    "The passengers without any family member aboard were the majority in each class. \n",
    "\n",
    "Upper and middle class passengers had no more than 5 family members aboard. Normaly, they had up to 3 family members with them.\n",
    "\n",
    "In the 3 (Lower Class), I suppose that the larger families as well as a great number of men, were mainly the sign of immigrants looking for better life in the USA.\n",
    "\n",
    "#### Question: \n",
    "\n",
    "Is it correct to affirm that those without family were alone aboard? Probably, not!!! \n",
    "\n",
    "Let us check this idea by sorting the data by cabin names.\n"
   ]
  },
  {
   "cell_type": "code",
   "execution_count": 266,
   "metadata": {},
   "outputs": [
    {
     "data": {
      "text/html": [
       "<div>\n",
       "<style>\n",
       "    .dataframe thead tr:only-child th {\n",
       "        text-align: right;\n",
       "    }\n",
       "\n",
       "    .dataframe thead th {\n",
       "        text-align: left;\n",
       "    }\n",
       "\n",
       "    .dataframe tbody tr th {\n",
       "        vertical-align: top;\n",
       "    }\n",
       "</style>\n",
       "<table border=\"1\" class=\"dataframe\">\n",
       "  <thead>\n",
       "    <tr style=\"text-align: right;\">\n",
       "      <th></th>\n",
       "      <th>AliveDead</th>\n",
       "      <th>SES</th>\n",
       "      <th>Port</th>\n",
       "      <th>Name</th>\n",
       "      <th>Demography</th>\n",
       "      <th>Age</th>\n",
       "      <th>FamilyMembers</th>\n",
       "      <th>Cabin</th>\n",
       "      <th>Deck</th>\n",
       "      <th>Sex</th>\n",
       "      <th>Pclass</th>\n",
       "    </tr>\n",
       "  </thead>\n",
       "  <tbody>\n",
       "    <tr>\n",
       "      <th>583</th>\n",
       "      <td>Perished</td>\n",
       "      <td>1 (Upper Class)</td>\n",
       "      <td>Cherbourg</td>\n",
       "      <td>Ross, Mr. John Hugo</td>\n",
       "      <td>man</td>\n",
       "      <td>36.0</td>\n",
       "      <td>0</td>\n",
       "      <td>A10</td>\n",
       "      <td>A</td>\n",
       "      <td>male</td>\n",
       "      <td>1</td>\n",
       "    </tr>\n",
       "    <tr>\n",
       "      <th>475</th>\n",
       "      <td>Perished</td>\n",
       "      <td>1 (Upper Class)</td>\n",
       "      <td>Southampton</td>\n",
       "      <td>Clifford, Mr. George Quincy</td>\n",
       "      <td>man</td>\n",
       "      <td>NaN</td>\n",
       "      <td>0</td>\n",
       "      <td>A14</td>\n",
       "      <td>A</td>\n",
       "      <td>male</td>\n",
       "      <td>1</td>\n",
       "    </tr>\n",
       "    <tr>\n",
       "      <th>556</th>\n",
       "      <td>Alive</td>\n",
       "      <td>1 (Upper Class)</td>\n",
       "      <td>Cherbourg</td>\n",
       "      <td>Duff Gordon, Lady. (Lucille Christiana Sutherl...</td>\n",
       "      <td>woman</td>\n",
       "      <td>48.0</td>\n",
       "      <td>1</td>\n",
       "      <td>A16</td>\n",
       "      <td>A</td>\n",
       "      <td>female</td>\n",
       "      <td>1</td>\n",
       "    </tr>\n",
       "    <tr>\n",
       "      <th>284</th>\n",
       "      <td>Perished</td>\n",
       "      <td>1 (Upper Class)</td>\n",
       "      <td>Southampton</td>\n",
       "      <td>Smith, Mr. Richard William</td>\n",
       "      <td>man</td>\n",
       "      <td>NaN</td>\n",
       "      <td>0</td>\n",
       "      <td>A19</td>\n",
       "      <td>A</td>\n",
       "      <td>male</td>\n",
       "      <td>1</td>\n",
       "    </tr>\n",
       "    <tr>\n",
       "      <th>599</th>\n",
       "      <td>Alive</td>\n",
       "      <td>1 (Upper Class)</td>\n",
       "      <td>Cherbourg</td>\n",
       "      <td>Duff Gordon, Sir. Cosmo Edmund (\"Mr Morgan\")</td>\n",
       "      <td>man</td>\n",
       "      <td>49.0</td>\n",
       "      <td>1</td>\n",
       "      <td>A20</td>\n",
       "      <td>A</td>\n",
       "      <td>male</td>\n",
       "      <td>1</td>\n",
       "    </tr>\n",
       "    <tr>\n",
       "      <th>630</th>\n",
       "      <td>Alive</td>\n",
       "      <td>1 (Upper Class)</td>\n",
       "      <td>Southampton</td>\n",
       "      <td>Barkworth, Mr. Algernon Henry Wilson</td>\n",
       "      <td>elder man</td>\n",
       "      <td>80.0</td>\n",
       "      <td>0</td>\n",
       "      <td>A23</td>\n",
       "      <td>A</td>\n",
       "      <td>male</td>\n",
       "      <td>1</td>\n",
       "    </tr>\n",
       "    <tr>\n",
       "      <th>867</th>\n",
       "      <td>Perished</td>\n",
       "      <td>1 (Upper Class)</td>\n",
       "      <td>Southampton</td>\n",
       "      <td>Roebling, Mr. Washington Augustus II</td>\n",
       "      <td>man</td>\n",
       "      <td>31.0</td>\n",
       "      <td>0</td>\n",
       "      <td>A24</td>\n",
       "      <td>A</td>\n",
       "      <td>male</td>\n",
       "      <td>1</td>\n",
       "    </tr>\n",
       "    <tr>\n",
       "      <th>647</th>\n",
       "      <td>Alive</td>\n",
       "      <td>1 (Upper Class)</td>\n",
       "      <td>Cherbourg</td>\n",
       "      <td>Simonius-Blumer, Col. Oberst Alfons</td>\n",
       "      <td>man</td>\n",
       "      <td>56.0</td>\n",
       "      <td>0</td>\n",
       "      <td>A26</td>\n",
       "      <td>A</td>\n",
       "      <td>male</td>\n",
       "      <td>1</td>\n",
       "    </tr>\n",
       "    <tr>\n",
       "      <th>209</th>\n",
       "      <td>Alive</td>\n",
       "      <td>1 (Upper Class)</td>\n",
       "      <td>Cherbourg</td>\n",
       "      <td>Blank, Mr. Henry</td>\n",
       "      <td>man</td>\n",
       "      <td>40.0</td>\n",
       "      <td>0</td>\n",
       "      <td>A31</td>\n",
       "      <td>A</td>\n",
       "      <td>male</td>\n",
       "      <td>1</td>\n",
       "    </tr>\n",
       "    <tr>\n",
       "      <th>185</th>\n",
       "      <td>Perished</td>\n",
       "      <td>1 (Upper Class)</td>\n",
       "      <td>Southampton</td>\n",
       "      <td>Rood, Mr. Hugh Roscoe</td>\n",
       "      <td>man</td>\n",
       "      <td>NaN</td>\n",
       "      <td>0</td>\n",
       "      <td>A32</td>\n",
       "      <td>A</td>\n",
       "      <td>male</td>\n",
       "      <td>1</td>\n",
       "    </tr>\n",
       "    <tr>\n",
       "      <th>445</th>\n",
       "      <td>Alive</td>\n",
       "      <td>1 (Upper Class)</td>\n",
       "      <td>Southampton</td>\n",
       "      <td>Dodge, Master. Washington</td>\n",
       "      <td>boy</td>\n",
       "      <td>4.0</td>\n",
       "      <td>2</td>\n",
       "      <td>A34</td>\n",
       "      <td>A</td>\n",
       "      <td>male</td>\n",
       "      <td>1</td>\n",
       "    </tr>\n",
       "    <tr>\n",
       "      <th>806</th>\n",
       "      <td>Perished</td>\n",
       "      <td>1 (Upper Class)</td>\n",
       "      <td>Southampton</td>\n",
       "      <td>Andrews, Mr. Thomas Jr</td>\n",
       "      <td>man</td>\n",
       "      <td>39.0</td>\n",
       "      <td>0</td>\n",
       "      <td>A36</td>\n",
       "      <td>A</td>\n",
       "      <td>male</td>\n",
       "      <td>1</td>\n",
       "    </tr>\n",
       "    <tr>\n",
       "      <th>96</th>\n",
       "      <td>Perished</td>\n",
       "      <td>1 (Upper Class)</td>\n",
       "      <td>Cherbourg</td>\n",
       "      <td>Goldschmidt, Mr. George B</td>\n",
       "      <td>elder man</td>\n",
       "      <td>71.0</td>\n",
       "      <td>0</td>\n",
       "      <td>A5</td>\n",
       "      <td>A</td>\n",
       "      <td>male</td>\n",
       "      <td>1</td>\n",
       "    </tr>\n",
       "    <tr>\n",
       "      <th>23</th>\n",
       "      <td>Alive</td>\n",
       "      <td>1 (Upper Class)</td>\n",
       "      <td>Southampton</td>\n",
       "      <td>Sloper, Mr. William Thompson</td>\n",
       "      <td>man</td>\n",
       "      <td>28.0</td>\n",
       "      <td>0</td>\n",
       "      <td>A6</td>\n",
       "      <td>A</td>\n",
       "      <td>male</td>\n",
       "      <td>1</td>\n",
       "    </tr>\n",
       "    <tr>\n",
       "      <th>174</th>\n",
       "      <td>Perished</td>\n",
       "      <td>1 (Upper Class)</td>\n",
       "      <td>Cherbourg</td>\n",
       "      <td>Smith, Mr. James Clinch</td>\n",
       "      <td>man</td>\n",
       "      <td>56.0</td>\n",
       "      <td>0</td>\n",
       "      <td>A7</td>\n",
       "      <td>A</td>\n",
       "      <td>male</td>\n",
       "      <td>1</td>\n",
       "    </tr>\n",
       "    <tr>\n",
       "      <th>737</th>\n",
       "      <td>Alive</td>\n",
       "      <td>1 (Upper Class)</td>\n",
       "      <td>Cherbourg</td>\n",
       "      <td>Lesurer, Mr. Gustave J</td>\n",
       "      <td>man</td>\n",
       "      <td>35.0</td>\n",
       "      <td>0</td>\n",
       "      <td>B101</td>\n",
       "      <td>B</td>\n",
       "      <td>male</td>\n",
       "      <td>1</td>\n",
       "    </tr>\n",
       "    <tr>\n",
       "      <th>815</th>\n",
       "      <td>Perished</td>\n",
       "      <td>1 (Upper Class)</td>\n",
       "      <td>Southampton</td>\n",
       "      <td>Fry, Mr. Richard</td>\n",
       "      <td>man</td>\n",
       "      <td>NaN</td>\n",
       "      <td>0</td>\n",
       "      <td>B102</td>\n",
       "      <td>B</td>\n",
       "      <td>male</td>\n",
       "      <td>1</td>\n",
       "    </tr>\n",
       "    <tr>\n",
       "      <th>523</th>\n",
       "      <td>Alive</td>\n",
       "      <td>1 (Upper Class)</td>\n",
       "      <td>Cherbourg</td>\n",
       "      <td>Hippach, Mrs. Louis Albert (Ida Sophia Fischer)</td>\n",
       "      <td>woman</td>\n",
       "      <td>44.0</td>\n",
       "      <td>1</td>\n",
       "      <td>B18</td>\n",
       "      <td>B</td>\n",
       "      <td>female</td>\n",
       "      <td>1</td>\n",
       "    </tr>\n",
       "    <tr>\n",
       "      <th>329</th>\n",
       "      <td>Alive</td>\n",
       "      <td>1 (Upper Class)</td>\n",
       "      <td>Cherbourg</td>\n",
       "      <td>Hippach, Miss. Jean Gertrude</td>\n",
       "      <td>woman</td>\n",
       "      <td>16.0</td>\n",
       "      <td>1</td>\n",
       "      <td>B18</td>\n",
       "      <td>B</td>\n",
       "      <td>female</td>\n",
       "      <td>1</td>\n",
       "    </tr>\n",
       "    <tr>\n",
       "      <th>170</th>\n",
       "      <td>Perished</td>\n",
       "      <td>1 (Upper Class)</td>\n",
       "      <td>Southampton</td>\n",
       "      <td>Van der hoef, Mr. Wyckoff</td>\n",
       "      <td>elder man</td>\n",
       "      <td>61.0</td>\n",
       "      <td>0</td>\n",
       "      <td>B19</td>\n",
       "      <td>B</td>\n",
       "      <td>male</td>\n",
       "      <td>1</td>\n",
       "    </tr>\n",
       "    <tr>\n",
       "      <th>690</th>\n",
       "      <td>Alive</td>\n",
       "      <td>1 (Upper Class)</td>\n",
       "      <td>Southampton</td>\n",
       "      <td>Dick, Mr. Albert Adrian</td>\n",
       "      <td>man</td>\n",
       "      <td>31.0</td>\n",
       "      <td>1</td>\n",
       "      <td>B20</td>\n",
       "      <td>B</td>\n",
       "      <td>male</td>\n",
       "      <td>1</td>\n",
       "    </tr>\n",
       "    <tr>\n",
       "      <th>781</th>\n",
       "      <td>Alive</td>\n",
       "      <td>1 (Upper Class)</td>\n",
       "      <td>Southampton</td>\n",
       "      <td>Dick, Mrs. Albert Adrian (Vera Gillespie)</td>\n",
       "      <td>woman</td>\n",
       "      <td>17.0</td>\n",
       "      <td>1</td>\n",
       "      <td>B20</td>\n",
       "      <td>B</td>\n",
       "      <td>female</td>\n",
       "      <td>1</td>\n",
       "    </tr>\n",
       "    <tr>\n",
       "      <th>540</th>\n",
       "      <td>Alive</td>\n",
       "      <td>1 (Upper Class)</td>\n",
       "      <td>Southampton</td>\n",
       "      <td>Crosby, Miss. Harriet R</td>\n",
       "      <td>woman</td>\n",
       "      <td>36.0</td>\n",
       "      <td>2</td>\n",
       "      <td>B22</td>\n",
       "      <td>B</td>\n",
       "      <td>female</td>\n",
       "      <td>1</td>\n",
       "    </tr>\n",
       "    <tr>\n",
       "      <th>745</th>\n",
       "      <td>Perished</td>\n",
       "      <td>1 (Upper Class)</td>\n",
       "      <td>Southampton</td>\n",
       "      <td>Crosby, Capt. Edward Gifford</td>\n",
       "      <td>elder man</td>\n",
       "      <td>70.0</td>\n",
       "      <td>2</td>\n",
       "      <td>B22</td>\n",
       "      <td>B</td>\n",
       "      <td>male</td>\n",
       "      <td>1</td>\n",
       "    </tr>\n",
       "    <tr>\n",
       "      <th>829</th>\n",
       "      <td>Alive</td>\n",
       "      <td>1 (Upper Class)</td>\n",
       "      <td>NaN</td>\n",
       "      <td>Stone, Mrs. George Nelson (Martha Evelyn)</td>\n",
       "      <td>elder woman</td>\n",
       "      <td>62.0</td>\n",
       "      <td>0</td>\n",
       "      <td>B28</td>\n",
       "      <td>B</td>\n",
       "      <td>female</td>\n",
       "      <td>1</td>\n",
       "    </tr>\n",
       "    <tr>\n",
       "      <th>61</th>\n",
       "      <td>Alive</td>\n",
       "      <td>1 (Upper Class)</td>\n",
       "      <td>NaN</td>\n",
       "      <td>Icard, Miss. Amelie</td>\n",
       "      <td>woman</td>\n",
       "      <td>38.0</td>\n",
       "      <td>0</td>\n",
       "      <td>B28</td>\n",
       "      <td>B</td>\n",
       "      <td>female</td>\n",
       "      <td>1</td>\n",
       "    </tr>\n",
       "    <tr>\n",
       "      <th>779</th>\n",
       "      <td>Alive</td>\n",
       "      <td>1 (Upper Class)</td>\n",
       "      <td>Southampton</td>\n",
       "      <td>Robert, Mrs. Edward Scott (Elisabeth Walton Mc...</td>\n",
       "      <td>woman</td>\n",
       "      <td>43.0</td>\n",
       "      <td>1</td>\n",
       "      <td>B3</td>\n",
       "      <td>B</td>\n",
       "      <td>female</td>\n",
       "      <td>1</td>\n",
       "    </tr>\n",
       "    <tr>\n",
       "      <th>54</th>\n",
       "      <td>Perished</td>\n",
       "      <td>1 (Upper Class)</td>\n",
       "      <td>Cherbourg</td>\n",
       "      <td>Ostby, Mr. Engelhart Cornelius</td>\n",
       "      <td>elder man</td>\n",
       "      <td>65.0</td>\n",
       "      <td>1</td>\n",
       "      <td>B30</td>\n",
       "      <td>B</td>\n",
       "      <td>male</td>\n",
       "      <td>1</td>\n",
       "    </tr>\n",
       "    <tr>\n",
       "      <th>641</th>\n",
       "      <td>Alive</td>\n",
       "      <td>1 (Upper Class)</td>\n",
       "      <td>Cherbourg</td>\n",
       "      <td>Sagesser, Mlle. Emma</td>\n",
       "      <td>woman</td>\n",
       "      <td>24.0</td>\n",
       "      <td>0</td>\n",
       "      <td>B35</td>\n",
       "      <td>B</td>\n",
       "      <td>female</td>\n",
       "      <td>1</td>\n",
       "    </tr>\n",
       "    <tr>\n",
       "      <th>369</th>\n",
       "      <td>Alive</td>\n",
       "      <td>1 (Upper Class)</td>\n",
       "      <td>Cherbourg</td>\n",
       "      <td>Aubart, Mme. Leontine Pauline</td>\n",
       "      <td>woman</td>\n",
       "      <td>24.0</td>\n",
       "      <td>0</td>\n",
       "      <td>B35</td>\n",
       "      <td>B</td>\n",
       "      <td>female</td>\n",
       "      <td>1</td>\n",
       "    </tr>\n",
       "    <tr>\n",
       "      <th>487</th>\n",
       "      <td>Perished</td>\n",
       "      <td>1 (Upper Class)</td>\n",
       "      <td>Cherbourg</td>\n",
       "      <td>Kent, Mr. Edward Austin</td>\n",
       "      <td>man</td>\n",
       "      <td>58.0</td>\n",
       "      <td>0</td>\n",
       "      <td>B37</td>\n",
       "      <td>B</td>\n",
       "      <td>male</td>\n",
       "      <td>1</td>\n",
       "    </tr>\n",
       "    <tr>\n",
       "      <th>536</th>\n",
       "      <td>Perished</td>\n",
       "      <td>1 (Upper Class)</td>\n",
       "      <td>Southampton</td>\n",
       "      <td>Butt, Major. Archibald Willingham</td>\n",
       "      <td>man</td>\n",
       "      <td>45.0</td>\n",
       "      <td>0</td>\n",
       "      <td>B38</td>\n",
       "      <td>B</td>\n",
       "      <td>male</td>\n",
       "      <td>1</td>\n",
       "    </tr>\n",
       "    <tr>\n",
       "      <th>539</th>\n",
       "      <td>Alive</td>\n",
       "      <td>1 (Upper Class)</td>\n",
       "      <td>Cherbourg</td>\n",
       "      <td>Frolicher, Miss. Hedwig Margaritha</td>\n",
       "      <td>woman</td>\n",
       "      <td>22.0</td>\n",
       "      <td>2</td>\n",
       "      <td>B39</td>\n",
       "      <td>B</td>\n",
       "      <td>female</td>\n",
       "      <td>1</td>\n",
       "    </tr>\n",
       "    <tr>\n",
       "      <th>194</th>\n",
       "      <td>Alive</td>\n",
       "      <td>1 (Upper Class)</td>\n",
       "      <td>Cherbourg</td>\n",
       "      <td>Brown, Mrs. James Joseph (Margaret Tobin)</td>\n",
       "      <td>woman</td>\n",
       "      <td>44.0</td>\n",
       "      <td>0</td>\n",
       "      <td>B4</td>\n",
       "      <td>B</td>\n",
       "      <td>female</td>\n",
       "      <td>1</td>\n",
       "    </tr>\n",
       "    <tr>\n",
       "      <th>587</th>\n",
       "      <td>Alive</td>\n",
       "      <td>1 (Upper Class)</td>\n",
       "      <td>Cherbourg</td>\n",
       "      <td>Frolicher-Stehli, Mr. Maxmillian</td>\n",
       "      <td>man</td>\n",
       "      <td>60.0</td>\n",
       "      <td>2</td>\n",
       "      <td>B41</td>\n",
       "      <td>B</td>\n",
       "      <td>male</td>\n",
       "      <td>1</td>\n",
       "    </tr>\n",
       "    <tr>\n",
       "      <th>887</th>\n",
       "      <td>Alive</td>\n",
       "      <td>1 (Upper Class)</td>\n",
       "      <td>Southampton</td>\n",
       "      <td>Graham, Miss. Margaret Edith</td>\n",
       "      <td>woman</td>\n",
       "      <td>19.0</td>\n",
       "      <td>0</td>\n",
       "      <td>B42</td>\n",
       "      <td>B</td>\n",
       "      <td>female</td>\n",
       "      <td>1</td>\n",
       "    </tr>\n",
       "    <tr>\n",
       "      <th>484</th>\n",
       "      <td>Alive</td>\n",
       "      <td>1 (Upper Class)</td>\n",
       "      <td>Cherbourg</td>\n",
       "      <td>Bishop, Mr. Dickinson H</td>\n",
       "      <td>man</td>\n",
       "      <td>25.0</td>\n",
       "      <td>1</td>\n",
       "      <td>B49</td>\n",
       "      <td>B</td>\n",
       "      <td>male</td>\n",
       "      <td>1</td>\n",
       "    </tr>\n",
       "    <tr>\n",
       "      <th>291</th>\n",
       "      <td>Alive</td>\n",
       "      <td>1 (Upper Class)</td>\n",
       "      <td>Cherbourg</td>\n",
       "      <td>Bishop, Mrs. Dickinson H (Helen Walton)</td>\n",
       "      <td>woman</td>\n",
       "      <td>19.0</td>\n",
       "      <td>1</td>\n",
       "      <td>B49</td>\n",
       "      <td>B</td>\n",
       "      <td>female</td>\n",
       "      <td>1</td>\n",
       "    </tr>\n",
       "    <tr>\n",
       "      <th>730</th>\n",
       "      <td>Alive</td>\n",
       "      <td>1 (Upper Class)</td>\n",
       "      <td>Southampton</td>\n",
       "      <td>Allen, Miss. Elisabeth Walton</td>\n",
       "      <td>woman</td>\n",
       "      <td>29.0</td>\n",
       "      <td>0</td>\n",
       "      <td>B5</td>\n",
       "      <td>B</td>\n",
       "      <td>female</td>\n",
       "      <td>1</td>\n",
       "    </tr>\n",
       "    <tr>\n",
       "      <th>689</th>\n",
       "      <td>Alive</td>\n",
       "      <td>1 (Upper Class)</td>\n",
       "      <td>Southampton</td>\n",
       "      <td>Madill, Miss. Georgette Alexandra</td>\n",
       "      <td>woman</td>\n",
       "      <td>15.0</td>\n",
       "      <td>1</td>\n",
       "      <td>B5</td>\n",
       "      <td>B</td>\n",
       "      <td>female</td>\n",
       "      <td>1</td>\n",
       "    </tr>\n",
       "    <tr>\n",
       "      <th>632</th>\n",
       "      <td>Alive</td>\n",
       "      <td>1 (Upper Class)</td>\n",
       "      <td>Cherbourg</td>\n",
       "      <td>Stahelin-Maeglin, Dr. Max</td>\n",
       "      <td>man</td>\n",
       "      <td>32.0</td>\n",
       "      <td>0</td>\n",
       "      <td>B50</td>\n",
       "      <td>B</td>\n",
       "      <td>male</td>\n",
       "      <td>1</td>\n",
       "    </tr>\n",
       "    <tr>\n",
       "      <th>679</th>\n",
       "      <td>Alive</td>\n",
       "      <td>1 (Upper Class)</td>\n",
       "      <td>Cherbourg</td>\n",
       "      <td>Cardeza, Mr. Thomas Drake Martinez</td>\n",
       "      <td>man</td>\n",
       "      <td>36.0</td>\n",
       "      <td>1</td>\n",
       "      <td>B51 B53 B55</td>\n",
       "      <td>B</td>\n",
       "      <td>male</td>\n",
       "      <td>1</td>\n",
       "    </tr>\n",
       "    <tr>\n",
       "      <th>872</th>\n",
       "      <td>Perished</td>\n",
       "      <td>1 (Upper Class)</td>\n",
       "      <td>Southampton</td>\n",
       "      <td>Carlsson, Mr. Frans Olof</td>\n",
       "      <td>man</td>\n",
       "      <td>33.0</td>\n",
       "      <td>0</td>\n",
       "      <td>B51 B53 B55</td>\n",
       "      <td>B</td>\n",
       "      <td>male</td>\n",
       "      <td>1</td>\n",
       "    </tr>\n",
       "    <tr>\n",
       "      <th>742</th>\n",
       "      <td>Alive</td>\n",
       "      <td>1 (Upper Class)</td>\n",
       "      <td>Cherbourg</td>\n",
       "      <td>Ryerson, Miss. Susan Parker \"Suzette\"</td>\n",
       "      <td>woman</td>\n",
       "      <td>21.0</td>\n",
       "      <td>4</td>\n",
       "      <td>B57 B59 B63 B66</td>\n",
       "      <td>B</td>\n",
       "      <td>female</td>\n",
       "      <td>1</td>\n",
       "    </tr>\n",
       "    <tr>\n",
       "      <th>311</th>\n",
       "      <td>Alive</td>\n",
       "      <td>1 (Upper Class)</td>\n",
       "      <td>Cherbourg</td>\n",
       "      <td>Ryerson, Miss. Emily Borie</td>\n",
       "      <td>woman</td>\n",
       "      <td>18.0</td>\n",
       "      <td>4</td>\n",
       "      <td>B57 B59 B63 B66</td>\n",
       "      <td>B</td>\n",
       "      <td>female</td>\n",
       "      <td>1</td>\n",
       "    </tr>\n",
       "    <tr>\n",
       "      <th>118</th>\n",
       "      <td>Perished</td>\n",
       "      <td>1 (Upper Class)</td>\n",
       "      <td>Cherbourg</td>\n",
       "      <td>Baxter, Mr. Quigg Edmond</td>\n",
       "      <td>man</td>\n",
       "      <td>24.0</td>\n",
       "      <td>1</td>\n",
       "      <td>B58 B60</td>\n",
       "      <td>B</td>\n",
       "      <td>male</td>\n",
       "      <td>1</td>\n",
       "    </tr>\n",
       "    <tr>\n",
       "      <th>299</th>\n",
       "      <td>Alive</td>\n",
       "      <td>1 (Upper Class)</td>\n",
       "      <td>Cherbourg</td>\n",
       "      <td>Baxter, Mrs. James (Helene DeLaudeniere Chaput)</td>\n",
       "      <td>woman</td>\n",
       "      <td>50.0</td>\n",
       "      <td>1</td>\n",
       "      <td>B58 B60</td>\n",
       "      <td>B</td>\n",
       "      <td>female</td>\n",
       "      <td>1</td>\n",
       "    </tr>\n",
       "    <tr>\n",
       "      <th>820</th>\n",
       "      <td>Alive</td>\n",
       "      <td>1 (Upper Class)</td>\n",
       "      <td>Southampton</td>\n",
       "      <td>Hays, Mrs. Charles Melville (Clara Jennings Gr...</td>\n",
       "      <td>woman</td>\n",
       "      <td>52.0</td>\n",
       "      <td>2</td>\n",
       "      <td>B69</td>\n",
       "      <td>B</td>\n",
       "      <td>female</td>\n",
       "      <td>1</td>\n",
       "    </tr>\n",
       "    <tr>\n",
       "      <th>671</th>\n",
       "      <td>Perished</td>\n",
       "      <td>1 (Upper Class)</td>\n",
       "      <td>Southampton</td>\n",
       "      <td>Davidson, Mr. Thornton</td>\n",
       "      <td>man</td>\n",
       "      <td>31.0</td>\n",
       "      <td>1</td>\n",
       "      <td>B71</td>\n",
       "      <td>B</td>\n",
       "      <td>male</td>\n",
       "      <td>1</td>\n",
       "    </tr>\n",
       "    <tr>\n",
       "      <th>520</th>\n",
       "      <td>Alive</td>\n",
       "      <td>1 (Upper Class)</td>\n",
       "      <td>Southampton</td>\n",
       "      <td>Perreault, Miss. Anne</td>\n",
       "      <td>woman</td>\n",
       "      <td>30.0</td>\n",
       "      <td>0</td>\n",
       "      <td>B73</td>\n",
       "      <td>B</td>\n",
       "      <td>female</td>\n",
       "      <td>1</td>\n",
       "    </tr>\n",
       "  </tbody>\n",
       "</table>\n",
       "</div>"
      ],
      "text/plain": [
       "    AliveDead              SES         Port  \\\n",
       "583  Perished  1 (Upper Class)    Cherbourg   \n",
       "475  Perished  1 (Upper Class)  Southampton   \n",
       "556     Alive  1 (Upper Class)    Cherbourg   \n",
       "284  Perished  1 (Upper Class)  Southampton   \n",
       "599     Alive  1 (Upper Class)    Cherbourg   \n",
       "630     Alive  1 (Upper Class)  Southampton   \n",
       "867  Perished  1 (Upper Class)  Southampton   \n",
       "647     Alive  1 (Upper Class)    Cherbourg   \n",
       "209     Alive  1 (Upper Class)    Cherbourg   \n",
       "185  Perished  1 (Upper Class)  Southampton   \n",
       "445     Alive  1 (Upper Class)  Southampton   \n",
       "806  Perished  1 (Upper Class)  Southampton   \n",
       "96   Perished  1 (Upper Class)    Cherbourg   \n",
       "23      Alive  1 (Upper Class)  Southampton   \n",
       "174  Perished  1 (Upper Class)    Cherbourg   \n",
       "737     Alive  1 (Upper Class)    Cherbourg   \n",
       "815  Perished  1 (Upper Class)  Southampton   \n",
       "523     Alive  1 (Upper Class)    Cherbourg   \n",
       "329     Alive  1 (Upper Class)    Cherbourg   \n",
       "170  Perished  1 (Upper Class)  Southampton   \n",
       "690     Alive  1 (Upper Class)  Southampton   \n",
       "781     Alive  1 (Upper Class)  Southampton   \n",
       "540     Alive  1 (Upper Class)  Southampton   \n",
       "745  Perished  1 (Upper Class)  Southampton   \n",
       "829     Alive  1 (Upper Class)          NaN   \n",
       "61      Alive  1 (Upper Class)          NaN   \n",
       "779     Alive  1 (Upper Class)  Southampton   \n",
       "54   Perished  1 (Upper Class)    Cherbourg   \n",
       "641     Alive  1 (Upper Class)    Cherbourg   \n",
       "369     Alive  1 (Upper Class)    Cherbourg   \n",
       "487  Perished  1 (Upper Class)    Cherbourg   \n",
       "536  Perished  1 (Upper Class)  Southampton   \n",
       "539     Alive  1 (Upper Class)    Cherbourg   \n",
       "194     Alive  1 (Upper Class)    Cherbourg   \n",
       "587     Alive  1 (Upper Class)    Cherbourg   \n",
       "887     Alive  1 (Upper Class)  Southampton   \n",
       "484     Alive  1 (Upper Class)    Cherbourg   \n",
       "291     Alive  1 (Upper Class)    Cherbourg   \n",
       "730     Alive  1 (Upper Class)  Southampton   \n",
       "689     Alive  1 (Upper Class)  Southampton   \n",
       "632     Alive  1 (Upper Class)    Cherbourg   \n",
       "679     Alive  1 (Upper Class)    Cherbourg   \n",
       "872  Perished  1 (Upper Class)  Southampton   \n",
       "742     Alive  1 (Upper Class)    Cherbourg   \n",
       "311     Alive  1 (Upper Class)    Cherbourg   \n",
       "118  Perished  1 (Upper Class)    Cherbourg   \n",
       "299     Alive  1 (Upper Class)    Cherbourg   \n",
       "820     Alive  1 (Upper Class)  Southampton   \n",
       "671  Perished  1 (Upper Class)  Southampton   \n",
       "520     Alive  1 (Upper Class)  Southampton   \n",
       "\n",
       "                                                  Name   Demography   Age  \\\n",
       "583                                Ross, Mr. John Hugo          man  36.0   \n",
       "475                        Clifford, Mr. George Quincy          man   NaN   \n",
       "556  Duff Gordon, Lady. (Lucille Christiana Sutherl...        woman  48.0   \n",
       "284                         Smith, Mr. Richard William          man   NaN   \n",
       "599       Duff Gordon, Sir. Cosmo Edmund (\"Mr Morgan\")          man  49.0   \n",
       "630               Barkworth, Mr. Algernon Henry Wilson    elder man  80.0   \n",
       "867               Roebling, Mr. Washington Augustus II          man  31.0   \n",
       "647                Simonius-Blumer, Col. Oberst Alfons          man  56.0   \n",
       "209                                   Blank, Mr. Henry          man  40.0   \n",
       "185                              Rood, Mr. Hugh Roscoe          man   NaN   \n",
       "445                          Dodge, Master. Washington          boy   4.0   \n",
       "806                             Andrews, Mr. Thomas Jr          man  39.0   \n",
       "96                           Goldschmidt, Mr. George B    elder man  71.0   \n",
       "23                        Sloper, Mr. William Thompson          man  28.0   \n",
       "174                            Smith, Mr. James Clinch          man  56.0   \n",
       "737                             Lesurer, Mr. Gustave J          man  35.0   \n",
       "815                                   Fry, Mr. Richard          man   NaN   \n",
       "523    Hippach, Mrs. Louis Albert (Ida Sophia Fischer)        woman  44.0   \n",
       "329                       Hippach, Miss. Jean Gertrude        woman  16.0   \n",
       "170                          Van der hoef, Mr. Wyckoff    elder man  61.0   \n",
       "690                            Dick, Mr. Albert Adrian          man  31.0   \n",
       "781          Dick, Mrs. Albert Adrian (Vera Gillespie)        woman  17.0   \n",
       "540                            Crosby, Miss. Harriet R        woman  36.0   \n",
       "745                       Crosby, Capt. Edward Gifford    elder man  70.0   \n",
       "829          Stone, Mrs. George Nelson (Martha Evelyn)  elder woman  62.0   \n",
       "61                                 Icard, Miss. Amelie        woman  38.0   \n",
       "779  Robert, Mrs. Edward Scott (Elisabeth Walton Mc...        woman  43.0   \n",
       "54                      Ostby, Mr. Engelhart Cornelius    elder man  65.0   \n",
       "641                               Sagesser, Mlle. Emma        woman  24.0   \n",
       "369                      Aubart, Mme. Leontine Pauline        woman  24.0   \n",
       "487                            Kent, Mr. Edward Austin          man  58.0   \n",
       "536                  Butt, Major. Archibald Willingham          man  45.0   \n",
       "539                 Frolicher, Miss. Hedwig Margaritha        woman  22.0   \n",
       "194          Brown, Mrs. James Joseph (Margaret Tobin)        woman  44.0   \n",
       "587                   Frolicher-Stehli, Mr. Maxmillian          man  60.0   \n",
       "887                       Graham, Miss. Margaret Edith        woman  19.0   \n",
       "484                            Bishop, Mr. Dickinson H          man  25.0   \n",
       "291            Bishop, Mrs. Dickinson H (Helen Walton)        woman  19.0   \n",
       "730                      Allen, Miss. Elisabeth Walton        woman  29.0   \n",
       "689                  Madill, Miss. Georgette Alexandra        woman  15.0   \n",
       "632                          Stahelin-Maeglin, Dr. Max          man  32.0   \n",
       "679                 Cardeza, Mr. Thomas Drake Martinez          man  36.0   \n",
       "872                           Carlsson, Mr. Frans Olof          man  33.0   \n",
       "742              Ryerson, Miss. Susan Parker \"Suzette\"        woman  21.0   \n",
       "311                         Ryerson, Miss. Emily Borie        woman  18.0   \n",
       "118                           Baxter, Mr. Quigg Edmond          man  24.0   \n",
       "299    Baxter, Mrs. James (Helene DeLaudeniere Chaput)        woman  50.0   \n",
       "820  Hays, Mrs. Charles Melville (Clara Jennings Gr...        woman  52.0   \n",
       "671                             Davidson, Mr. Thornton          man  31.0   \n",
       "520                              Perreault, Miss. Anne        woman  30.0   \n",
       "\n",
       "     FamilyMembers            Cabin Deck     Sex  Pclass  \n",
       "583              0              A10    A    male       1  \n",
       "475              0              A14    A    male       1  \n",
       "556              1              A16    A  female       1  \n",
       "284              0              A19    A    male       1  \n",
       "599              1              A20    A    male       1  \n",
       "630              0              A23    A    male       1  \n",
       "867              0              A24    A    male       1  \n",
       "647              0              A26    A    male       1  \n",
       "209              0              A31    A    male       1  \n",
       "185              0              A32    A    male       1  \n",
       "445              2              A34    A    male       1  \n",
       "806              0              A36    A    male       1  \n",
       "96               0               A5    A    male       1  \n",
       "23               0               A6    A    male       1  \n",
       "174              0               A7    A    male       1  \n",
       "737              0             B101    B    male       1  \n",
       "815              0             B102    B    male       1  \n",
       "523              1              B18    B  female       1  \n",
       "329              1              B18    B  female       1  \n",
       "170              0              B19    B    male       1  \n",
       "690              1              B20    B    male       1  \n",
       "781              1              B20    B  female       1  \n",
       "540              2              B22    B  female       1  \n",
       "745              2              B22    B    male       1  \n",
       "829              0              B28    B  female       1  \n",
       "61               0              B28    B  female       1  \n",
       "779              1               B3    B  female       1  \n",
       "54               1              B30    B    male       1  \n",
       "641              0              B35    B  female       1  \n",
       "369              0              B35    B  female       1  \n",
       "487              0              B37    B    male       1  \n",
       "536              0              B38    B    male       1  \n",
       "539              2              B39    B  female       1  \n",
       "194              0               B4    B  female       1  \n",
       "587              2              B41    B    male       1  \n",
       "887              0              B42    B  female       1  \n",
       "484              1              B49    B    male       1  \n",
       "291              1              B49    B  female       1  \n",
       "730              0               B5    B  female       1  \n",
       "689              1               B5    B  female       1  \n",
       "632              0              B50    B    male       1  \n",
       "679              1      B51 B53 B55    B    male       1  \n",
       "872              0      B51 B53 B55    B    male       1  \n",
       "742              4  B57 B59 B63 B66    B  female       1  \n",
       "311              4  B57 B59 B63 B66    B  female       1  \n",
       "118              1          B58 B60    B    male       1  \n",
       "299              1          B58 B60    B  female       1  \n",
       "820              2              B69    B  female       1  \n",
       "671              1              B71    B    male       1  \n",
       "520              0              B73    B  female       1  "
      ]
     },
     "execution_count": 266,
     "metadata": {},
     "output_type": "execute_result"
    }
   ],
   "source": [
    "cabin_sorted_df=titanic_dataframe.sort_values([\"Cabin\"]) # sorts the cabins numbers\n",
    "cabin_sorted_df.head(50) # greater number of row lets some better investigation"
   ]
  },
  {
   "cell_type": "markdown",
   "metadata": {},
   "source": [
    "#### Conclusion:\n",
    "\n",
    "As expected, not all the passengers without family members were \"alone\" aboard the Titanic, especially, when we talk about the Upper Class passengers, who, very probably, had some servants with them. \n",
    "\n",
    "For exemple, The Allisons boarded Titanic along with four servants: a maid, Sarah Daniels (no relation to Bess); a nurse, Alice Cleaver; a cook, Amelia Mary Brown (Mildred); and a butler, George Swane. Hudson and Bess occupied cabin C-22, Sarah and Loraine occupied C-24, and Alice and Trevor occupied C-26. Two second-class cabins were also booked for George and Mildred. (Source: https://en.wikipedia.org/wiki/Allison_family)\n",
    "\n",
    "Also, it is necessary to take in consideration, that tants, oncles, cousins, mistresses and fiancés, as well, as other more distant relatives were not considered as family members in the original data set.\n",
    "\n",
    "Let us see some examples that prove that \"without family\" doesn't mean \"alone\":\n",
    "\n",
    "CABIN B28:\n",
    "\n",
    "shared by two women without close family members related, their family names are different, ages are significantly different\n",
    "\n",
    "CABIN B35:\n",
    "\n",
    "shared by two women without close family members related, their family names are different, ages are similar\n",
    "\n",
    "CABIN C124:\n",
    "\n",
    "shared by two men without close family members related, their family names are different\n",
    "\n",
    "CABIN C125:\n",
    "\n",
    "shared by two women, but only one without close family members related, their family names are different, ages are significantly different\n",
    "\n",
    "#### Question: \n",
    "\n",
    "It would be interesting to make some correlations between the people without family and the fact of shared cabins, but it is almost impossible to do because a lot of data is missing (almost 2/3 of values are nulls). Probably, there were no means to identify the cabin numbers of people who died.\n",
    "\n",
    "Maybe it is possible to have some other insights with the remaining data? For example, it is possible to proceed with the value counts for cabin names.\n"
   ]
  },
  {
   "cell_type": "code",
   "execution_count": 267,
   "metadata": {},
   "outputs": [
    {
     "data": {
      "text/plain": [
       "687"
      ]
     },
     "execution_count": 267,
     "metadata": {},
     "output_type": "execute_result"
    }
   ],
   "source": [
    "titanic_dataframe[\"Cabin\"].isnull().sum() # Chek for the number of the missing values"
   ]
  },
  {
   "cell_type": "code",
   "execution_count": 268,
   "metadata": {},
   "outputs": [
    {
     "data": {
      "text/plain": [
       "<matplotlib.text.Text at 0x1531f15d438>"
      ]
     },
     "execution_count": 268,
     "metadata": {},
     "output_type": "execute_result"
    },
    {
     "data": {
      "image/png": "[encoded data removed]",
      "text/plain": [
       "<matplotlib.figure.Figure at 0x1531f0bb978>"
      ]
     },
     "metadata": {},
     "output_type": "display_data"
    }
   ],
   "source": [
    "cabins_occupation = titanic_dataframe[\"Cabin\"].value_counts() # value counts for cabin names (variable cabins_occupation)\n",
    "cabins_occupation.hist() # number of times each cabin names appears in the data\n",
    "plt.xlabel(\"Number of times cabin number appears\")\n",
    "plt.ylabel(\"Number of cabins for each ferequency\")\n",
    "plt.title(\"Frequency of cabin number (or the list of cabin numbers) appears on the list\")"
   ]
  },
  {
   "cell_type": "markdown",
   "metadata": {},
   "source": [
    "#### Conclusion:\n",
    "\n",
    "The interpretation of this figure doesn't not  give any precise information by what number of persons each cabin was occupied, because for some families a repeated list of cabin numbers was given for each family member (e.g. \"C23 C25 C27\", \"B96 B98\"), but without any additional information. So, the columns of 3 or 4 repetitions (and some of 2 repetions) normally belong to this kind of occupation.\n",
    "\n",
    "#### Question: \n",
    "\n",
    "Now it is more or less clear who were the people aboard of Titanic. The question is, who was lucky enough to survive the disaster? \n",
    "\n",
    "So, let's start with the deck levels factor."
   ]
  },
  {
   "cell_type": "code",
   "execution_count": 269,
   "metadata": {},
   "outputs": [
    {
     "data": {
      "text/plain": [
       "unknown    688\n",
       "C           59\n",
       "B           47\n",
       "E           33\n",
       "D           33\n",
       "A           15\n",
       "F            9\n",
       "G            7\n",
       "Name: Deck, dtype: int64"
      ]
     },
     "execution_count": 269,
     "metadata": {},
     "output_type": "execute_result"
    }
   ],
   "source": [
    "(titanic_dataframe[\"Deck\"]).value_counts()\n"
   ]
  },
  {
   "cell_type": "markdown",
   "metadata": {},
   "source": [
    "#### Conclusion:\n",
    "\n",
    "Unfortunatelly, a lot of data is missing. Nevertheless, it is clear that the lower levels (more closest to the waterline) have less data.\n",
    "\n",
    "#### Question:\n",
    "\n",
    "First of all, the deck level should be somehow related to the passenger class, but how it was related on Titanic?"
   ]
  },
  {
   "cell_type": "code",
   "execution_count": 270,
   "metadata": {},
   "outputs": [
    {
     "data": {
      "text/plain": [
       "<matplotlib.text.Text at 0x1531f22a4e0>"
      ]
     },
     "execution_count": 270,
     "metadata": {},
     "output_type": "execute_result"
    },
    {
     "data": {
      "image/png": "[encoded data removed]",
      "text/plain": [
       "<matplotlib.figure.Figure at 0x1531f0f1898>"
      ]
     },
     "metadata": {},
     "output_type": "display_data"
    }
   ],
   "source": [
    "sns.factorplot(x=\"Deck\",data= titanic_dataframe,kind=\"count\", palette=\"Set2\", aspect = 2, hue = \"SES\",\n",
    "              order = [\"A\",\"B\", \"C\", \"D\", \"E\", \"F\", \"G\", \"unknown\"])\n",
    "plt.ylabel(\"Number of Cabins Occupied by Passengers\")\n",
    "plt.xlabel(\"Deck Level Letter\")\n",
    "plt.title(\"Passenger Class (SES) on each Deck Level of Titanic\")"
   ]
  },
  {
   "cell_type": "markdown",
   "metadata": {},
   "source": [
    "#### Conclusion:\n",
    "\n",
    "Unfortunatally, a lot of data is missing. Nevertheless, it is clear that the lowers levels (more closest to the water line) were those of the 3(Lower Class) and that is were we have less data.\n",
    "\n",
    "The levels from A to D were occupied by the 1 (Upper Class) passengers with a few records of 2(Middle Class) passengers on the D level.\n",
    "\n",
    "Level E was a very mixed level were all of three passenger classes were presented.\n",
    "\n",
    "Further levels has no a lot of information, probably because there were not enough survivers.\n",
    "\n",
    "#### Question:\n",
    "\n",
    "For clearer understanding of how the deck level was important to survive, it is intersting to look at Titanic's deck levels plan."
   ]
  },
  {
   "cell_type": "code",
   "execution_count": 271,
   "metadata": {},
   "outputs": [
    {
     "data": {
      "text/html": [
       "<img src=\"https://i.pinimg.com/600x315/dd/a4/49/dda4498b1eebd33411b4b1b5b14774d6.jpg\"/>"
      ],
      "text/plain": [
       "<IPython.core.display.Image object>"
      ]
     },
     "execution_count": 271,
     "metadata": {},
     "output_type": "execute_result"
    }
   ],
   "source": [
    "# The figure shows the deck plan of Titanic \n",
    "\n",
    "Image(url='https://i.pinimg.com/600x315/dd/a4/49/dda4498b1eebd33411b4b1b5b14774d6.jpg')"
   ]
  },
  {
   "cell_type": "markdown",
   "metadata": {},
   "source": [
    "#### Conclusion:\n",
    "\n",
    "Boat Deck was close to the A deck level and it was located in the middle of the ship. \n",
    "\n",
    "As far as the boat were filled by the rule \"First come, first served\" + \"Women and children first\", it is understandable, that Upper Class women and children were in very priviledged circumstances.\n",
    "\n",
    "#### Question:\n",
    "\n",
    "Let's check the \"Women and children first\" rule results on the plots."
   ]
  },
  {
   "cell_type": "code",
   "execution_count": 272,
   "metadata": {},
   "outputs": [
    {
     "data": {
      "text/plain": [
       "<seaborn.axisgrid.FacetGrid at 0x1531eb9d908>"
      ]
     },
     "execution_count": 272,
     "metadata": {},
     "output_type": "execute_result"
    },
    {
     "data": {
      "image/png": "[encoded data removed]",
      "text/plain": [
       "<matplotlib.figure.Figure at 0x1531f1a3d30>"
      ]
     },
     "metadata": {},
     "output_type": "display_data"
    }
   ],
   "source": [
    "sns.factorplot(x=\"Demography\",data= titanic_dataframe,kind=\"count\",col='AliveDead', \n",
    "               palette=\"Set2\",order = [\"boy\",\"girl\",\"man\",\"woman\",\"elder man\",\"elder woman\"])\n",
    "# compare the number of survivors and perished for each category man/woman, etc.\n"
   ]
  },
  {
   "cell_type": "markdown",
   "metadata": {},
   "source": [
    "#### Conclusion:\n",
    "\n",
    "It is evident, that the most of people who did not survive were men. That is coherent with the order given on that occasion: \"Women and children first\". \n",
    "\n",
    "#### Question: \n",
    "\n",
    "It is interesting to check how does the rates of survivors vary for each passenger class...\n"
   ]
  },
  {
   "cell_type": "code",
   "execution_count": 273,
   "metadata": {},
   "outputs": [
    {
     "data": {
      "text/plain": [
       "<seaborn.axisgrid.FacetGrid at 0x1531f0c33c8>"
      ]
     },
     "execution_count": 273,
     "metadata": {},
     "output_type": "execute_result"
    },
    {
     "data": {
      "image/png": "[encoded data removed]",
      "text/plain": [
       "<matplotlib.figure.Figure at 0x1531f0c3278>"
      ]
     },
     "metadata": {},
     "output_type": "display_data"
    }
   ],
   "source": [
    "sns.factorplot(x=\"AliveDead\",data= titanic_dataframe,kind=\"count\",col='SES')"
   ]
  },
  {
   "cell_type": "code",
   "execution_count": 274,
   "metadata": {},
   "outputs": [
    {
     "data": {
      "text/plain": [
       "<seaborn.axisgrid.FacetGrid at 0x1531d5ff6d8>"
      ]
     },
     "execution_count": 274,
     "metadata": {},
     "output_type": "execute_result"
    },
    {
     "data": {
      "image/png": "[encoded data removed]",
      "text/plain": [
       "<matplotlib.figure.Figure at 0x1531f5dbd68>"
      ]
     },
     "metadata": {},
     "output_type": "display_data"
    }
   ],
   "source": [
    "sns.factorplot(x=\"SES\",data= titanic_dataframe,kind=\"count\",col='AliveDead')\n",
    "# survivers versus not survivers numbers for each passenger class"
   ]
  },
  {
   "cell_type": "markdown",
   "metadata": {},
   "source": [
    "#### Conclusion:\n",
    "\n",
    "Considering the rule of \"Women and children first\", the number of victims for each class is coherent with the number of men in each class. \n",
    "\n",
    "#### Question: \n",
    "\n",
    "Did there occure some kind of discrimination by social status?\n"
   ]
  },
  {
   "cell_type": "markdown",
   "metadata": {},
   "source": [
    "### Final Conclusion:\n",
    "\n",
    "Being child or woman hospedated close to the safety boat deck were the main factors to become a survivor of Titanic disaster.\n",
    "\n",
    "Since the number of survivors from the Lower Class is higher than that of those from the Middle Class and considering that a lot of the Upper Class and the Middle Class passengers perished, it doesn't seem to me, there was some kind of social discrimination during the boarding to the safe boats. \n",
    "\n",
    "We should not ignore that the number of safety boats was limited, so, there was not enough places for all passengers. On the other hand, the Lower Class passengers represented more than 50% of all passengers. The first boats were loaded partially filled, maybe for the reason nobody knew how much time they had before thinking, they were harried up to put all the boats into the water. Probably, the Upper Class men who survived were those who were let to enter the boats while there were no women and children on the deck during the boarding.\n",
    "\n",
    "Considering the distances from the boat deck to the places where the Middle Class and Lower Class were hosted and considering that many of them probably were sleeping (Titanic hit an iceberg at 11:40 p.m. ship's time) and that Titanic was considered \"unsinkable\" and, finally, it took only 2h40 to sink, so it was hard for the Lower Class passengers (especially for those with kids) not to be late for their chance to obtain a seat in one of the boat.\n",
    "\n",
    "The time factor was realy very important. Some people lost a lot time trying to find their family members, as it occured to the  Allison family (https://en.wikipedia.org/wiki/Allison_family). While trying to find their son they lost a lot of time and the opportunity to be saved. Bess was one of only four first-class women who perished, while Loraine was the only child of first and second class to do so. When I have organised the data set by passenger name, their family name was the secon one. It came to my attention that baby has survived but not his mother, nor little sister. That is why I have found their story.\n",
    "\n",
    "It seems, that some women have prefered to stay with their husbands, as it was the case of Ida Strauss https://en.wikipedia.org/wiki/Ida_Straus. At her case, as the story tells us, it was a true love, but for other women at that time, they were very dependent from the man to sustain the family.\n",
    "\n",
    "\n",
    "### To finish:\n",
    "Here are two last figures. The first one shows the number of Titanic survivors and victims accordinly to their age and Socio-Economic Status and the second one shows the bottom line of this story."
   ]
  },
  {
   "cell_type": "code",
   "execution_count": 275,
   "metadata": {},
   "outputs": [
    {
     "data": {
      "text/plain": [
       "<matplotlib.text.Text at 0x1531f7879e8>"
      ]
     },
     "execution_count": 275,
     "metadata": {},
     "output_type": "execute_result"
    },
    {
     "data": {
      "image/png": "[encoded data removed]",
      "text/plain": [
       "<matplotlib.figure.Figure at 0x1531f0e3908>"
      ]
     },
     "metadata": {},
     "output_type": "display_data"
    }
   ],
   "source": [
    "sns.factorplot(x=\"Age\",data= titanic_dataframe,y=\"SES\",hue=\"AliveDead\", kind=\"violin\",split=True,inner=\"stick\", \n",
    "               palette=\"Set1\", aspect=3)\n",
    "# this factorplot idea comes from http://seaborn.pydata.org/tutorial/categorical.html\n",
    "plt.ylabel(\"Socio-Economic Status\")\n",
    "plt.xlabel(\"Age, years\")\n",
    "plt.title(\"Number of Titanic's Survivors and Victims by Their Socio-Economic Status and Age\")\n"
   ]
  },
  {
   "cell_type": "code",
   "execution_count": 276,
   "metadata": {},
   "outputs": [
    {
     "data": {
      "text/plain": [
       "<matplotlib.text.Text at 0x15321605d30>"
      ]
     },
     "execution_count": 276,
     "metadata": {},
     "output_type": "execute_result"
    },
    {
     "data": {
      "image/png": "[encoded data removed]",
      "text/plain": [
       "<matplotlib.figure.Figure at 0x1531f61a0f0>"
      ]
     },
     "metadata": {},
     "output_type": "display_data"
    }
   ],
   "source": [
    "sns.factorplot(x=\"AliveDead\",data= titanic_dataframe,kind=\"count\", aspect = 2)\n",
    "plt.ylabel(\"Number of passengers\")\n",
    "plt.xlabel(\"Alive or Perished\")\n",
    "plt.title(\"Number of Titanic's Survivors and Victims\")"
   ]
  },
  {
   "cell_type": "markdown",
   "metadata": {
    "collapsed": true
   },
   "source": [
    "## A list of Web sites, books, forums, blog posts, github repositories :\n",
    "\n",
    "The only examples I  used as the references were:\n",
    "\n",
    "    1. https://github.com/jmportilla/Udemy-notes/blob/master/Intro%20to%20Data%20Projects%20-%20Titanic.ipynb\n",
    "    Nevertheless, my analisys is much more detailed in several points and my conclusions sometimes are not the same.\n",
    "\n",
    "    2. http://seaborn.pydata.org/tutorial/categorical.html\n",
    "\n",
    "    3. Course notes from Introduction to Programming Nanodegree Program (\"IPND Program\") Udacity.\n",
    "\n",
    "    4. https://en.wikipedia.org/wiki/RMS_Titanic\n",
    "\n",
    "\n",
    "## Improvement Suggestion, including for the data set choice:\n",
    "\n",
    "In the description of the data set Udacity team has written the following:\n",
    "\n",
    "\"Titanic Data - Contains demographics and passenger information from 891 of the 2224 passengers and crew on board the Titanic.\"\n",
    "\n",
    "In fact, the data set from Udacity Nanodegree as well as that from https://www.kaggle.com/c/titanic/data gives the information about the passengers ONLY. No data on crew  is given in the data set (almost all of of them perished).\n",
    "\n",
    "In fact, as far as I understood, the original data set from Titanic passengers was splitted by Kaggle into 2 sets of data  (for training and for test)  for machine learning purposes. Since, this is not a goal of this Nanodegree Final Project, why Udacity have not chosen the whole set of ALL Titanic's passengers? Personnaly, I would prefer to analyse more complet data set (and I did so to indulge my curiosity out of the scope of this report) .\n",
    "\n",
    "For exemple, I found 1 data set here: http://biostat.mc.vanderbilt.edu/wiki/pub/Main/DataSets/titanic3.xls"
   ]
  }
 ],
 "metadata": {
  "kernelspec": {
   "display_name": "Python 3",
   "language": "python",
   "name": "python3"
  },
  "language_info": {
   "codemirror_mode": {
    "name": "ipython",
    "version": 3
   },
   "file_extension": ".py",
   "mimetype": "text/x-python",
   "name": "python",
   "nbconvert_exporter": "python",
   "pygments_lexer": "ipython3",
   "version": "3.6.1"
  }
 },
 "nbformat": 4,
 "nbformat_minor": 2
}
